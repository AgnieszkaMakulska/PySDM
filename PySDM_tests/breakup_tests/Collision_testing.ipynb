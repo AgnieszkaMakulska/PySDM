{
 "cells": [
  {
   "cell_type": "code",
   "execution_count": 1,
   "metadata": {},
   "outputs": [],
   "source": [
    "%load_ext autoreload\n",
    "%autoreload 2"
   ]
  },
  {
   "cell_type": "code",
   "execution_count": 1,
   "metadata": {},
   "outputs": [],
   "source": [
    "import os\n",
    "os.environ[\"NUMBA_DISABLE_JIT\"] = \"1\"\n",
    "\n",
    "import sys\n",
    "import numpy as np\n",
    "\n",
    "from PySDM.backends import CPU\n",
    "from PySDM.builder import Builder\n",
    "from PySDM.environments import Box\n",
    "from PySDM.dynamics import Collision\n",
    "from PySDM.initialisation.sampling.spectral_sampling import ConstantMultiplicity\n",
    "\n",
    "from PySDM.products.size_spectral import ParticlesVolumeSpectrum, ParticleConcentration, MeanRadius\n",
    "from PySDM.products.collision.collision_rates import CollisionRatePerGridbox, CollisionRateDeficitPerGridbox, CoalescenceRatePerGridbox, BreakupRatePerGridbox\n",
    "from PySDM.products.housekeeping.timers import WallTime\n",
    "\n",
    "from matplotlib import pyplot\n",
    "\n",
    "from PySDM.initialisation.spectra import Exponential\n",
    "from PySDM.physics.collision_kernels import Golovin, Geometric, ConstantK\n",
    "from PySDM.physics.coalescence_efficiencies import Berry1967, ConstEc, Schlottke2010\n",
    "from PySDM.physics.breakup_efficiencies import ConstEb\n",
    "from PySDM.physics.breakup_fragmentations import AlwaysN, SLAMS, ExponFrag, Gaussian\n",
    "from PySDM.physics.constants import si\n",
    "from PySDM.formulae import Formulae\n",
    "from pystrict import strict\n",
    "\n",
    "from numba import config, threading_layer\n",
    "config.THREADING_LAYER = 'default'"
   ]
  },
  {
   "cell_type": "code",
   "execution_count": 2,
   "metadata": {},
   "outputs": [],
   "source": [
    "@strict\n",
    "class Settings:\n",
    "\n",
    "    def __init__(self):\n",
    "        self.formulae = Formulae()\n",
    "        self.n_sd = 2**2\n",
    "        self.n_part = 100 / si.cm**3\n",
    "        self.X0 = self.formulae.trivia.volume(radius=30.531 * si.micrometres)\n",
    "        self.dv = 1 * si.cm**3\n",
    "        self.norm_factor = self.n_part * self.dv\n",
    "        self.rho = 1000 * si.kilogram / si.metre**3\n",
    "        self.dt = 1 * si.seconds\n",
    "        self.adaptive = False\n",
    "        self.seed = 44\n",
    "        self._steps = [0, 1]\n",
    "        #self.kernel = Golovin(b=1500 / si.second)\n",
    "        self.kernel = ConstantK(a = 100.0 * si.cm**3 / si.second)\n",
    "        self.coal_eff = ConstEc(Ec=0.0)\n",
    "        self.fragmentation = Gaussian(mu=10 * si.micrometres, scale=5 * si.micrometres) #ExponFrag(scale=1e-6) #AlwaysN(n=1)\n",
    "        self.break_eff = ConstEb(1.0) # no \"bouncing\"\n",
    "        self.spectrum = Exponential(norm_factor=self.norm_factor, scale=self.X0)\n",
    "        self.radius_bins_edges = np.logspace(np.log10(1 * si.um), np.log10(100 * si.um), num=128, endpoint=True)\n",
    "        self.radius_range = [0 * si.um, 1e6 * si.um]\n",
    "\n",
    "    @property\n",
    "    def output_steps(self):\n",
    "        return [int(step/self.dt) for step in self._steps]"
   ]
  },
  {
   "cell_type": "code",
   "execution_count": 3,
   "metadata": {},
   "outputs": [
    {
     "name": "stdout",
     "output_type": "stream",
     "text": [
      "[0.] [0.]\n",
      "[0.] [0.]\n",
      "[50.] [374950.]\n",
      "[0.] [58.]\n"
     ]
    },
    {
     "data": {
      "text/plain": [
       "<matplotlib.legend.Legend at 0x7f8c0ca009a0>"
      ]
     },
     "execution_count": 3,
     "metadata": {},
     "output_type": "execute_result"
    },
    {
     "data": {
      "image/png": "[encoded data removed]",
      "text/plain": [
       "<Figure size 432x288 with 1 Axes>"
      ]
     },
     "metadata": {
      "needs_background": "light"
     },
     "output_type": "display_data"
    }
   ],
   "source": [
    "settings = Settings()\n",
    "backend = CPU\n",
    "\n",
    "builder = Builder(n_sd=settings.n_sd, backend=backend(settings.formulae))\n",
    "builder.set_environment(Box(dv=settings.dv, dt=settings.dt))\n",
    "attributes = {}\n",
    "attributes['volume'], attributes['n'] = ConstantMultiplicity(settings.spectrum).sample(settings.n_sd)\n",
    "breakup = Collision(settings.kernel, settings.coal_eff, settings.break_eff, settings.fragmentation, adaptive=settings.adaptive)\n",
    "builder.add_dynamic(breakup)\n",
    "products = [ParticlesVolumeSpectrum(radius_bins_edges=settings.radius_bins_edges, name='dv/dlnr'),\n",
    "            CollisionRatePerGridbox(name='cr'),CollisionRateDeficitPerGridbox(name='crd'),\n",
    "            BreakupRatePerGridbox(name='br'),CoalescenceRatePerGridbox(name='cor')]\n",
    "core = builder.build(attributes, products)\n",
    "\n",
    "for step in settings.output_steps:\n",
    "    core.run(step - core.n_steps)\n",
    "    pyplot.step(x=settings.radius_bins_edges[:-1] / si.micrometres, \n",
    "                y=core.products['dv/dlnr'].get()[0] * settings.rho,\n",
    "                where='post', label=\"t = {step*settings.dt}s\")\n",
    "    print(core.products['cr'].get(), core.products['crd'].get())\n",
    "    print(core.products['cor'].get(), core.products['br'].get())\n",
    "    \n",
    "pyplot.xscale(\"log\")\n",
    "pyplot.xlabel(\"radius (um)\")\n",
    "pyplot.ylabel(\"dm/dlnr\")\n",
    "pyplot.legend([0, 1, 2])"
   ]
  },
  {
   "cell_type": "code",
   "execution_count": null,
   "metadata": {},
   "outputs": [],
   "source": []
  },
  {
   "cell_type": "code",
   "execution_count": null,
   "metadata": {},
   "outputs": [],
   "source": []
  }
 ],
 "metadata": {
  "interpreter": {
   "hash": "b43cf254c70d60c2e21a7f71ba113e70c1694742e72407132919c841d907074b"
  },
  "kernelspec": {
   "display_name": "Python 3.9.4 64-bit ('edjPySDM': conda)",
   "name": "python3"
  },
  "language_info": {
   "codemirror_mode": {
    "name": "ipython",
    "version": 3
   },
   "file_extension": ".py",
   "mimetype": "text/x-python",
   "name": "python",
   "nbconvert_exporter": "python",
   "pygments_lexer": "ipython3",
   "version": "3.9.4"
  }
 },
 "nbformat": 4,
 "nbformat_minor": 4
}
