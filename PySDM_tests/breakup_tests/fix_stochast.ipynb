{
 "cells": [
  {
   "cell_type": "code",
   "execution_count": 1,
   "metadata": {},
   "outputs": [],
   "source": [
    "import sys\n",
    "import numpy as np\n",
    "\n",
    "from PySDM.backends import CPU\n",
    "from PySDM.builder import Builder\n",
    "from PySDM.environments import Box\n",
    "from PySDM.dynamics import Breakup\n",
    "from PySDM.dynamics import Coalescence\n",
    "from PySDM.initialisation.spectral_sampling import ConstantMultiplicity\n",
    "\n",
    "from PySDM.products.state import ParticlesVolumeSpectrum, ParticlesConcentration, ParticleMeanRadius\n",
    "from PySDM.products.stats.timers import WallTime\n",
    "\n",
    "from matplotlib import pyplot\n",
    "\n",
    "from PySDM.initialisation.spectra import Exponential\n",
    "from PySDM.physics.collision_kernels import Golovin, Geometric\n",
    "from PySDM.physics.coalescence_efficiencies import Berry1967, ConstEc\n",
    "from PySDM.physics.breakup_fragmentations import AlwaysN, SLAMS\n",
    "from PySDM.physics.constants import si\n",
    "from PySDM.physics.formulae import Formulae\n",
    "from pystrict import strict\n",
    "\n",
    "from numba import config, threading_layer\n",
    "config.THREADING_LAYER = 'threadsafe'"
   ]
  },
  {
   "cell_type": "code",
   "execution_count": 2,
   "metadata": {},
   "outputs": [],
   "source": [
    "@strict\n",
    "class Settings:\n",
    "\n",
    "    def __init__(self):\n",
    "        self.formulae = Formulae()\n",
    "        self.n_sd = 2**3\n",
    "        self.n_part = 100 / si.cm**3\n",
    "        self.X0 = self.formulae.trivia.volume(radius=30.531 * si.micrometres)\n",
    "        self.dv = 1 * si.m**3\n",
    "        self.norm_factor = self.n_part * self.dv\n",
    "        self.rho = 1000 * si.kilogram / si.metre**3\n",
    "        self.dt = 1 * si.seconds\n",
    "        self.adaptive = False\n",
    "        #self.seed = 123\n",
    "        self._steps = [0, 1, 2]\n",
    "        self.kernel = Golovin(b=15000 / si.second)\n",
    "        self.coal_eff = ConstEc(0.5)     # no collisions\n",
    "        self.fragmentation = AlwaysN(n=3)\n",
    "        self.spectrum = Exponential(norm_factor=self.norm_factor, scale=self.X0)\n",
    "        self.radius_bins_edges = np.logspace(np.log10(10 * si.um), np.log10(100 * si.um), num=128, endpoint=True)\n",
    "        self.radius_range = [0 * si.um, 1e6 * si.um]\n",
    "\n",
    "    @property\n",
    "    def output_steps(self):\n",
    "        return [int(step/self.dt) for step in self._steps]"
   ]
  },
  {
   "cell_type": "code",
   "execution_count": 6,
   "metadata": {},
   "outputs": [
    {
     "name": "stdout",
     "output_type": "stream",
     "text": [
      "Breakup:  [0.72494507 0.42211629 0.20927009 0.99279002] [0.04649643 0.2325637  0.54265387 0.42384967]\n",
      "Coalescence2:  [0.98272615 0.70588099 0.9127565  0.80329003]\n",
      "Breakup:  [0.62750313 0.30065728 0.10809011 0.89233132] [0.59366984 0.07106384 0.86394502 0.59808471]\n",
      "Coalescence2:  [0.97380555 0.42019598 0.07968988 0.95591425]\n"
     ]
    },
    {
     "data": {
      "text/plain": [
       "<matplotlib.legend.Legend at 0x2b00c6f04f70>"
      ]
     },
     "execution_count": 6,
     "metadata": {},
     "output_type": "execute_result"
    },
    {
     "data": {
      "image/png": "[encoded data removed]",
      "text/plain": [
       "<Figure size 432x288 with 1 Axes>"
      ]
     },
     "metadata": {
      "needs_background": "light"
     },
     "output_type": "display_data"
    }
   ],
   "source": [
    "settings = Settings()\n",
    "backend = CPU\n",
    "\n",
    "builder = Builder(n_sd=settings.n_sd, backend=backend, formulae=settings.formulae)\n",
    "builder.set_environment(Box(dv=settings.dv, dt=settings.dt))\n",
    "attributes = {}\n",
    "attributes['volume'], attributes['n'] = ConstantMultiplicity(settings.spectrum).sample(settings.n_sd)\n",
    "breakup = Breakup(settings.kernel, settings.coal_eff, settings.fragmentation, adaptive=settings.adaptive)\n",
    "builder.add_dynamic(breakup)\n",
    "coalescence = Coalescence(settings.kernel, settings.coal_eff, adaptive=settings.adaptive)\n",
    "builder.add_dynamic(coalescence)\n",
    "products = [ParticlesVolumeSpectrum(), WallTime(), ParticleMeanRadius(), ParticlesConcentration(radius_range = settings.radius_range)]\n",
    "core = builder.build(attributes, products)\n",
    "\n",
    "for step in settings.output_steps:\n",
    "    core.run(step - core.n_steps)\n",
    "    pyplot.step(x=settings.radius_bins_edges[:-1] / si.micrometres, \n",
    "                y=core.products['dv/dlnr'].get(settings.radius_bins_edges) * settings.rho,\n",
    "                where='post', label=\"t = {step*settings.dt}s\")\n",
    "    #print(core.products['radius_m1'].get(), core.products['n_a_cm3'].get())\n",
    "    \n",
    "pyplot.xscale(\"log\")\n",
    "pyplot.xlabel(\"radius (um)\")\n",
    "pyplot.ylabel(\"dm/dlnr\")\n",
    "pyplot.legend([0, 1, 2])"
   ]
  },
  {
   "cell_type": "code",
   "execution_count": 4,
   "metadata": {},
   "outputs": [
    {
     "ename": "SyntaxError",
     "evalue": "invalid syntax (<ipython-input-4-8b13b6999d79>, line 1)",
     "output_type": "error",
     "traceback": [
      "\u001b[0;36m  File \u001b[0;32m\"<ipython-input-4-8b13b6999d79>\"\u001b[0;36m, line \u001b[0;32m1\u001b[0m\n\u001b[0;31m    Breakup:  [0.40857805 0.67127644 0.62746783 0.84008236] [0.57313066 0.52849115 0.76365024 0.81169277]\u001b[0m\n\u001b[0m                          ^\u001b[0m\n\u001b[0;31mSyntaxError\u001b[0m\u001b[0;31m:\u001b[0m invalid syntax\n"
     ]
    }
   ],
   "source": [
    "Breakup:  [0.45266617 0.96601    0.40920068 0.1849399 ] [0.10989256 0.70900989 0.36081917 0.7977644 ]\n",
    "Coalescence2:  [0.20888366 0.6639128  0.54132028 0.39876931]\n",
    "Breakup:  [0.17049458 0.53626019 0.64991945 0.40314732] [0.21535997 0.74911539 0.99756181 0.41574785]\n",
    "Coalescence2:  [0.37014397 0.70525876 0.23692592 0.74450201]"
   ]
  },
  {
   "cell_type": "code",
   "execution_count": null,
   "metadata": {},
   "outputs": [],
   "source": [
    "Breakup:  [0.49596368 0.79420218 0.43196597 0.22505372] [0.56433569 0.41152345 0.18602426 0.66396069]\n",
    "Coalescence2:  [0.24962726 0.53297109 0.69754421 0.37390169]\n",
    "Breakup:  [0.61200657 0.39072841 0.20248416 0.53744049] [0.32690274 0.29528573 0.10817429 0.02436145]\n",
    "Coalescence2:  [0.06279447 0.96298934 0.16355822 0.22628348]"
   ]
  },
  {
   "cell_type": "code",
   "execution_count": null,
   "metadata": {},
   "outputs": [],
   "source": []
  }
 ],
 "metadata": {
  "kernelspec": {
   "display_name": "Python (edjPySDM)",
   "language": "python",
   "name": "edjpysdm"
  },
  "language_info": {
   "codemirror_mode": {
    "name": "ipython",
    "version": 3
   },
   "file_extension": ".py",
   "mimetype": "text/x-python",
   "name": "python",
   "nbconvert_exporter": "python",
   "pygments_lexer": "ipython3",
   "version": "3.8.8"
  }
 },
 "nbformat": 4,
 "nbformat_minor": 4
}
