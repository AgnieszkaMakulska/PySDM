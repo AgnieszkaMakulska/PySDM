{
 "cells": [
  {
   "cell_type": "markdown",
   "metadata": {},
   "source": [
    "## 0. Install instructions"
   ]
  },
  {
   "cell_type": "markdown",
   "metadata": {},
   "source": [
    "Be sure that an up-to-date version of Python3 is installed in order to build and run this package. Download the source code from: https://github.com/edejong-caltech/PySDM/tree/edj-Breakup, or install using suggested steps below."
   ]
  },
  {
   "cell_type": "raw",
   "metadata": {},
   "source": [
    "git clone https://github.com/edejong-caltech/PySDM.git\n",
    "git checkout edj-Breakup\n",
    "cd PySDM"
   ]
  },
  {
   "cell_type": "markdown",
   "metadata": {},
   "source": [
    "Build the module. Be sure all requirements are install and up to date."
   ]
  },
  {
   "cell_type": "raw",
   "metadata": {},
   "source": [
    "pip3 install -r requirements.txt\n",
    "pip3 install -e ."
   ]
  },
  {
   "cell_type": "markdown",
   "metadata": {},
   "source": [
    "Tests and examples that use breakup can be found in \"../PySDM_tests\", including this notebook."
   ]
  },
  {
   "cell_type": "markdown",
   "metadata": {},
   "source": [
    "You can view all the contributions that I have made to this code base by comparing it to the original: https://github.com/atmos-cloud-sim-uj/PySDM"
   ]
  },
  {
   "cell_type": "markdown",
   "metadata": {},
   "source": [
    "## 1. Background"
   ]
  },
  {
   "cell_type": "markdown",
   "metadata": {},
   "source": [
    "PySDM is an existing superdroplet-method code that can handle many sets of particle processes, excluding breakup. The purpose of this project is to add a breakup-type process to the codebase for future research and testing. I extend the current implementation of particle coalescence to include breakup as well, with the following algorithm (my contributions and changes marked in green)."
   ]
  },
  {
   "cell_type": "markdown",
   "metadata": {},
   "source": [
    "1. Randomly order the existing list of superdroplets, and generate a random number for collision probability.\n",
    "\n",
    "2. Group the ordered list of superdroplets into pairs.\n",
    "\n",
    "3. a) Compute the probability of a collision, based on collision kernel\n",
    "      - <span style='color:green'> In the new version, coalescence and breakup take an additional argument: coalescence efficiency $E_c$. This required a minor modification to the backend and front end for \"PySDM/dynamics/coalescence.py\" and a new module \"PySDM/physics/coalescence_efficiences.py\". </span>\n",
    "      - As in the literature, coalescence proceeds with rate $K(x,y)E_c$ and breakup with rate $K(x,y)(1-E_c)$ where $K(x,y)$ is the rate of collisions between particles of size $x$ and $y$.\n",
    "\n",
    "   b) <span style='color:green'> Compute the number of fragments resulting from collisional breakup. Included are two example fragmentation functions: \"PySDM/physics/breakup_fragmentations/slams.py\" and \".../alwaysn.py\". </span>\n",
    "   \n",
    "4. Compute $\\gamma$, the number of collisions that lead to <span style='color:green'> breakup </span> (rather than to coalescence).\n",
    "\n",
    "5. Perform the breakup step.\n",
    "   "
   ]
  },
  {
   "cell_type": "markdown",
   "metadata": {},
   "source": [
    "#### <span style='color:green'> Breakup step </span>  "
   ]
  },
  {
   "cell_type": "markdown",
   "metadata": {},
   "source": [
    "The breakup step that updates particle attributes, which is called from \"dynamics/breakup.py\" and \"state/particles.py\", is based on the backend kernel for coalescence with modifications to include the fragmentation. The CPU backend source code is found in <span style='color:green'> \"backends/numba/impl/_algorithmic_methods.py\" </span>. The steps are as follows:"
   ]
  },
  {
   "cell_type": "markdown",
   "metadata": {},
   "source": [
    "- If $\\gamma = 0$, no collision; continue\n",
    "- Else, for particles $j, k$ with multiplicities $n[j]$ and $n[k]$ and extrinsic attributes $a[j]$ and $a[k]$, find the new number of particles $n'[j] = n[j] - \\gamma n[k]$\n",
    "\n",
    "- If $n'[j] > 0$, update the attributes and particle counts:\n",
    "    * $n[j]$ = $n'[j]$, $a[j]$ unchanged\n",
    "    * $n[k]$ = $n[k] * n_{fragment}$\n",
    "    * $a[k]$ = $\\frac{a[k] + \\gamma a[j]}{n_{fragment}}$\n",
    "- Else split the resulting single droplet $a[k]$ into two superdroplets with equal attributes and half the multiplicity.\n",
    "\n",
    "- If any SD multiplicities are zero, flag them."
   ]
  },
  {
   "cell_type": "markdown",
   "metadata": {},
   "source": [
    "## 2. Demonstration:"
   ]
  },
  {
   "cell_type": "markdown",
   "metadata": {},
   "source": [
    "### a. Simple breakup only\n",
    "The following demonstrates an initial droplet population in a zero-D \"Box\" that undergoes only breakup."
   ]
  },
  {
   "cell_type": "code",
   "execution_count": 1,
   "metadata": {},
   "outputs": [],
   "source": [
    "import sys\n",
    "import numpy as np\n",
    "\n",
    "from PySDM.backends import CPU\n",
    "from PySDM.builder import Builder\n",
    "from PySDM.environments import Box\n",
    "from PySDM.dynamics import Breakup\n",
    "from PySDM.dynamics import Coalescence\n",
    "from PySDM.initialisation.spectral_sampling import ConstantMultiplicity\n",
    "\n",
    "from PySDM.products.state import ParticlesVolumeSpectrum, ParticlesConcentration, ParticleMeanRadius\n",
    "from PySDM.products.stats.timers import WallTime\n",
    "\n",
    "from matplotlib import pyplot\n",
    "\n",
    "from PySDM.initialisation.spectra import Exponential\n",
    "from PySDM.physics.coalescence_kernels import Golovin, Geometric\n",
    "from PySDM.physics.coalescence_efficiencies import Berry1967, ConstEc\n",
    "from PySDM.physics.breakup_fragmentations import AlwaysN, SLAMS\n",
    "from PySDM.physics.constants import si\n",
    "from PySDM.physics.formulae import Formulae\n",
    "from pystrict import strict\n",
    "\n",
    "from numba import config, threading_layer\n",
    "config.THREADING_LAYER = 'threadsafe'"
   ]
  },
  {
   "cell_type": "code",
   "execution_count": 2,
   "metadata": {},
   "outputs": [],
   "source": [
    "@strict\n",
    "class Settings:\n",
    "\n",
    "    def __init__(self):\n",
    "        self.formulae = Formulae()\n",
    "        self.n_sd = 2**12\n",
    "        self.n_part = 100 / si.cm**3\n",
    "        self.X0 = self.formulae.trivia.volume(radius=30.531 * si.micrometres)\n",
    "        self.dv = 1 * si.m**3\n",
    "        self.norm_factor = self.n_part * self.dv\n",
    "        self.rho = 1000 * si.kilogram / si.metre**3\n",
    "        self.dt = 1 * si.seconds\n",
    "        self.adaptive = False\n",
    "        self.seed = 44\n",
    "        self._steps = [0, 60, 120]\n",
    "        self.kernel = Golovin(b=1500 / si.second)\n",
    "        self.coal_eff = ConstEc(0.0)     # no collisions\n",
    "        self.fragmentation = AlwaysN(n=3)\n",
    "        self.spectrum = Exponential(norm_factor=self.norm_factor, scale=self.X0)\n",
    "        self.radius_bins_edges = np.logspace(np.log10(10 * si.um), np.log10(100 * si.um), num=128, endpoint=True)\n",
    "        self.radius_range = [0 * si.um, 1e6 * si.um]\n",
    "\n",
    "    @property\n",
    "    def output_steps(self):\n",
    "        return [int(step/self.dt) for step in self._steps]"
   ]
  },
  {
   "cell_type": "code",
   "execution_count": 3,
   "metadata": {},
   "outputs": [
    {
     "name": "stderr",
     "output_type": "stream",
     "text": [
      "/home/edejong/.local/lib/python3.8/site-packages/numba/np/ufunc/parallel.py:365: NumbaWarning: The TBB threading layer requires TBB version 2019.5 or later i.e., TBB_INTERFACE_VERSION >= 11005. Found TBB_INTERFACE_VERSION = 6103. The TBB threading layer is disabled.\n",
      "  warnings.warn(problem)\n"
     ]
    },
    {
     "data": {
      "text/plain": [
       "<matplotlib.legend.Legend at 0x7f1ed04620a0>"
      ]
     },
     "execution_count": 3,
     "metadata": {},
     "output_type": "execute_result"
    },
    {
     "data": {
      "image/png": "[encoded data removed]",
      "text/plain": [
       "<Figure size 432x288 with 1 Axes>"
      ]
     },
     "metadata": {
      "needs_background": "light"
     },
     "output_type": "display_data"
    }
   ],
   "source": [
    "settings = Settings()\n",
    "backend = CPU\n",
    "\n",
    "builder = Builder(n_sd=settings.n_sd, backend=backend, formulae=settings.formulae)\n",
    "builder.set_environment(Box(dv=settings.dv, dt=settings.dt))\n",
    "attributes = {}\n",
    "attributes['volume'], attributes['n'] = ConstantMultiplicity(settings.spectrum).sample(settings.n_sd)\n",
    "breakup = Breakup(settings.kernel, settings.coal_eff, settings.fragmentation, adaptive=settings.adaptive)\n",
    "builder.add_dynamic(breakup)\n",
    "products = [ParticlesVolumeSpectrum(), WallTime(), ParticleMeanRadius(), ParticlesConcentration(radius_range = settings.radius_range)]\n",
    "core = builder.build(attributes, products)\n",
    "\n",
    "for step in settings.output_steps:\n",
    "    core.run(step - core.n_steps)\n",
    "    pyplot.step(x=settings.radius_bins_edges[:-1] / si.micrometres, \n",
    "                y=core.products['dv/dlnr'].get(settings.radius_bins_edges) * settings.rho,\n",
    "                where='post', label=\"t = {step*settings.dt}s\")\n",
    "    #print(core.products['radius_m1'].get(), core.products['n_a_cm3'].get())\n",
    "    \n",
    "pyplot.xscale(\"log\")\n",
    "pyplot.xlabel(\"radius (um)\")\n",
    "pyplot.ylabel(\"dm/dlnr\")\n",
    "pyplot.legend([0, 1, 2])"
   ]
  },
  {
   "cell_type": "markdown",
   "metadata": {},
   "source": [
    "Notice that as time progresses, the droplet mass spectrum shifts toward smaller and smaller droplets due to fragmentation."
   ]
  },
  {
   "cell_type": "markdown",
   "metadata": {},
   "source": [
    "### b. Stochastic Fragmentation\n",
    "This time we will use the stochastic SLAMS fragmentation function rather than the simple constant fragmentation number above."
   ]
  },
  {
   "cell_type": "code",
   "execution_count": 4,
   "metadata": {},
   "outputs": [],
   "source": [
    "#@strict\n",
    "class Settings:\n",
    "\n",
    "    def __init__(self):\n",
    "        self.formulae = Formulae()\n",
    "        self.n_sd = 2**12\n",
    "        self.n_part = 100 / si.cm**3\n",
    "        self.X0 = self.formulae.trivia.volume(radius=30.531 * si.micrometres)\n",
    "        self.dv = 1 * si.m**3\n",
    "        self.norm_factor = self.n_part * self.dv\n",
    "        self.rho = 1000 * si.kilogram / si.metre**3\n",
    "        self.dt = 1 * si.seconds\n",
    "        self.adaptive = False\n",
    "        self.seed = 44\n",
    "        self._steps = [0, 30, 60]\n",
    "        self.kernel = Golovin(b=1500 / si.second)\n",
    "        self.coal_eff = ConstEc(0.0)     # no collisions\n",
    "        self.fragmentation = SLAMS()\n",
    "        self.spectrum = Exponential(norm_factor=self.norm_factor, scale=self.X0)\n",
    "        self.radius_bins_edges = np.logspace(np.log10(1 * si.um), np.log10(100 * si.um), num=128, endpoint=True)\n",
    "        self.radius_range = [0 * si.um, 1e6 * si.um]\n",
    "\n",
    "    @property\n",
    "    def output_steps(self):\n",
    "        return [int(step/self.dt) for step in self._steps]"
   ]
  },
  {
   "cell_type": "code",
   "execution_count": 5,
   "metadata": {},
   "outputs": [
    {
     "data": {
      "text/plain": [
       "<matplotlib.legend.Legend at 0x7f1e51b221f0>"
      ]
     },
     "execution_count": 5,
     "metadata": {},
     "output_type": "execute_result"
    },
    {
     "data": {
      "image/png": "[encoded data removed]",
      "text/plain": [
       "<Figure size 432x288 with 1 Axes>"
      ]
     },
     "metadata": {
      "needs_background": "light"
     },
     "output_type": "display_data"
    }
   ],
   "source": [
    "\n",
    "settings = Settings()\n",
    "\n",
    "backend = CPU\n",
    "builder = Builder(n_sd=settings.n_sd, backend=backend, formulae=settings.formulae)\n",
    "builder.set_environment(Box(dv=settings.dv, dt=settings.dt))\n",
    "attributes = {}\n",
    "attributes['volume'], attributes['n'] = ConstantMultiplicity(settings.spectrum).sample(settings.n_sd)\n",
    "breakup = Breakup(settings.kernel, settings.coal_eff, settings.fragmentation, adaptive=settings.adaptive)\n",
    "builder.add_dynamic(breakup)\n",
    "coalescence = Coalescence(settings.kernel, settings.coal_eff, adaptive=settings.adaptive)\n",
    "builder.add_dynamic(coalescence)\n",
    "products = [ParticlesVolumeSpectrum(), WallTime(), ParticleMeanRadius(), ParticlesConcentration(radius_range = settings.radius_range)]\n",
    "core = builder.build(attributes, products)\n",
    "\n",
    "for step in settings.output_steps:\n",
    "    core.run(step - core.n_steps)\n",
    "    pyplot.step(x=settings.radius_bins_edges[:-1] / si.micrometres, \n",
    "                y=core.products['dv/dlnr'].get(settings.radius_bins_edges) * settings.rho,\n",
    "                where='post')#, label=\"t = {step*settings.dt}s\")\n",
    "    \n",
    "pyplot.xscale(\"log\")\n",
    "pyplot.xlabel(\"radius (um)\")\n",
    "pyplot.ylabel(\"dm/dlnr\")\n",
    "pyplot.legend(settings._steps)"
   ]
  },
  {
   "cell_type": "markdown",
   "metadata": {},
   "source": [
    "In this example, we simulate only 1 minute rather than 2 minutes. Notice first that the breakup happens much more quickly, since particles are able to fragment into more pieces. Notice also the more jagged profile following breakup: because the number of fragments is determined stochastically as well as the collision probability, there is more noise in the product size distribution.\n",
    "\n",
    "In reality, this SLAMS kernel is taken from a paper on phytoplankton and microphysics droplets have a tendency to fragment most often into two fragments."
   ]
  },
  {
   "cell_type": "markdown",
   "metadata": {},
   "source": [
    "### c. Collisions and Breakup: constant collection efficiency\n",
    "In this example, we allow both collisions and breakup, mitigating the ratio of the two with the collision efficiency Ec. For now let's stick with the same Golovin kernel from above. Try playing with the setting of ConstEc in settings to change the relative amount of breakup/collisions."
   ]
  },
  {
   "cell_type": "code",
   "execution_count": 6,
   "metadata": {},
   "outputs": [],
   "source": [
    "#@strict\n",
    "class Settings:\n",
    "\n",
    "    def __init__(self):\n",
    "        self.formulae = Formulae()\n",
    "        self.n_sd = 2**12\n",
    "        self.n_part = 100 / si.cm**3\n",
    "        self.X0 = self.formulae.trivia.volume(radius=30.531 * si.micrometres)\n",
    "        self.dv = 1 * si.m**3\n",
    "        self.norm_factor = self.n_part * self.dv\n",
    "        self.rho = 1000 * si.kilogram / si.metre**3\n",
    "        self.dt = 1 * si.seconds\n",
    "        self.adaptive = False\n",
    "        self.seed = 44\n",
    "        self._steps = [0, 120, 240]\n",
    "        self.kernel = Golovin(b=1500 / si.second)\n",
    "        self.coal_eff = ConstEc(0.4)\n",
    "        self.fragmentation = AlwaysN(n=2)\n",
    "        self.spectrum = Exponential(norm_factor=self.norm_factor, scale=self.X0)\n",
    "        self.radius_bins_edges = np.logspace(np.log10(10 * si.um), np.log10(100 * si.um), num=128, endpoint=True)\n",
    "        self.radius_range = [0 * si.um, 1e6 * si.um]\n",
    "\n",
    "    @property\n",
    "    def output_steps(self):\n",
    "        return [int(step/self.dt) for step in self._steps]"
   ]
  },
  {
   "cell_type": "code",
   "execution_count": 7,
   "metadata": {},
   "outputs": [
    {
     "data": {
      "text/plain": [
       "<matplotlib.legend.Legend at 0x7f1e51dc36d0>"
      ]
     },
     "execution_count": 7,
     "metadata": {},
     "output_type": "execute_result"
    },
    {
     "data": {
      "image/png": "[encoded data removed]",
      "text/plain": [
       "<Figure size 432x288 with 1 Axes>"
      ]
     },
     "metadata": {
      "needs_background": "light"
     },
     "output_type": "display_data"
    }
   ],
   "source": [
    "\n",
    "settings = Settings()\n",
    "\n",
    "backend = CPU\n",
    "builder = Builder(n_sd=settings.n_sd, backend=backend, formulae=settings.formulae)\n",
    "builder.set_environment(Box(dv=settings.dv, dt=settings.dt))\n",
    "attributes = {}\n",
    "attributes['volume'], attributes['n'] = ConstantMultiplicity(settings.spectrum).sample(settings.n_sd)\n",
    "breakup = Breakup(settings.kernel, settings.coal_eff, settings.fragmentation, adaptive=settings.adaptive)\n",
    "builder.add_dynamic(breakup)\n",
    "coalescence = Coalescence(settings.kernel, settings.coal_eff, adaptive=settings.adaptive)\n",
    "builder.add_dynamic(coalescence)\n",
    "products = [ParticlesVolumeSpectrum(), WallTime(), ParticleMeanRadius(), ParticlesConcentration(radius_range = settings.radius_range)]\n",
    "core = builder.build(attributes, products)\n",
    "\n",
    "for step in settings.output_steps:\n",
    "    core.run(step - core.n_steps)\n",
    "    pyplot.step(x=settings.radius_bins_edges[:-1] / si.micrometres, \n",
    "                y=core.products['dv/dlnr'].get(settings.radius_bins_edges) * settings.rho,\n",
    "                where='post')#, label=\"t = {step*settings.dt}s\")\n",
    "    \n",
    "pyplot.xscale(\"log\")\n",
    "pyplot.xlabel(\"radius (um)\")\n",
    "pyplot.ylabel(\"dm/dlnr\")\n",
    "pyplot.legend(settings._steps)"
   ]
  },
  {
   "cell_type": "markdown",
   "metadata": {},
   "source": [
    "This case is a little more nuanced: since collisions and breakup both proceed, it appears that the main mode of the distribution does not change, but the distribution narrows due to the uniform fragmentation. If you decrease Ec or increase the number of fragments to $n=3$, breakup will eventually take over."
   ]
  },
  {
   "cell_type": "markdown",
   "metadata": {},
   "source": [
    "### d. Collisions and Breakup with realistic kernel & efficiency"
   ]
  },
  {
   "cell_type": "markdown",
   "metadata": {},
   "source": [
    "For this final example, let us shift to the most physically realistic \"hydrodynamic\" collision kernel with a collection efficiency parameterized by Berry in his 1967 work."
   ]
  },
  {
   "cell_type": "code",
   "execution_count": 8,
   "metadata": {},
   "outputs": [],
   "source": [
    "#@strict\n",
    "class Settings:\n",
    "\n",
    "    def __init__(self):\n",
    "        self.formulae = Formulae()\n",
    "        self.n_sd = 2**12\n",
    "        self.n_part = 100 / si.cm**3\n",
    "        self.X0 = self.formulae.trivia.volume(radius=30.531 * si.micrometres)\n",
    "        self.dv = 1 * si.m**3\n",
    "        self.norm_factor = self.n_part * self.dv\n",
    "        self.rho = 1000 * si.kilogram / si.metre**3\n",
    "        self.dt = 1 * si.seconds\n",
    "        self.adaptive = False\n",
    "        self.seed = 44\n",
    "        self._steps = [0, 10, 20]\n",
    "        self.kernel = Geometric()\n",
    "        self.coal_eff = Berry1967()\n",
    "        self.fragmentation = AlwaysN(n=2)\n",
    "        self.spectrum = Exponential(norm_factor=self.norm_factor, scale=self.X0)\n",
    "        self.radius_bins_edges = np.logspace(np.log10(10 * si.um), np.log10(100 * si.um), num=128, endpoint=True)\n",
    "        self.radius_range = [0 * si.um, 1e6 * si.um]\n",
    "\n",
    "    @property\n",
    "    def output_steps(self):\n",
    "        return [int(step/self.dt) for step in self._steps]"
   ]
  },
  {
   "cell_type": "code",
   "execution_count": 9,
   "metadata": {},
   "outputs": [
    {
     "data": {
      "text/plain": [
       "<matplotlib.legend.Legend at 0x7f1e51c511c0>"
      ]
     },
     "execution_count": 9,
     "metadata": {},
     "output_type": "execute_result"
    },
    {
     "data": {
      "image/png": "[encoded data removed]",
      "text/plain": [
       "<Figure size 432x288 with 1 Axes>"
      ]
     },
     "metadata": {
      "needs_background": "light"
     },
     "output_type": "display_data"
    }
   ],
   "source": [
    "settings = Settings()\n",
    "\n",
    "backend = CPU\n",
    "builder = Builder(n_sd=settings.n_sd, backend=backend, formulae=settings.formulae)\n",
    "builder.set_environment(Box(dv=settings.dv, dt=settings.dt))\n",
    "attributes = {}\n",
    "attributes['volume'], attributes['n'] = ConstantMultiplicity(settings.spectrum).sample(settings.n_sd)\n",
    "breakup = Breakup(settings.kernel, settings.coal_eff, settings.fragmentation, adaptive=settings.adaptive)\n",
    "builder.add_dynamic(breakup)\n",
    "coalescence = Coalescence(settings.kernel, settings.coal_eff, adaptive=settings.adaptive)\n",
    "builder.add_dynamic(coalescence)\n",
    "products = [ParticlesVolumeSpectrum(), WallTime(), ParticleMeanRadius(), ParticlesConcentration(radius_range = settings.radius_range)]\n",
    "core = builder.build(attributes, products)\n",
    "\n",
    "for step in settings.output_steps:\n",
    "    core.run(step - core.n_steps)\n",
    "    pyplot.step(x=settings.radius_bins_edges[:-1] / si.micrometres, \n",
    "                y=core.products['dv/dlnr'].get(settings.radius_bins_edges) * settings.rho,\n",
    "                where='post')\n",
    "    \n",
    "pyplot.xscale(\"log\")\n",
    "pyplot.xlabel(\"radius (um)\")\n",
    "pyplot.ylabel(\"dm/dlnr\")\n",
    "pyplot.legend(settings._steps)"
   ]
  },
  {
   "cell_type": "markdown",
   "metadata": {},
   "source": [
    "And, as a final comparison, here is the same set of dynamics, including the collection efficiency, with no breakup. It is controversial in the literature whether breakup is significant enough to include as a process for this type of simulation, but clearly in this instance in makes a difference in the dynamics."
   ]
  },
  {
   "cell_type": "code",
   "execution_count": 10,
   "metadata": {},
   "outputs": [
    {
     "data": {
      "text/plain": [
       "<matplotlib.legend.Legend at 0x7f1e51ac1580>"
      ]
     },
     "execution_count": 10,
     "metadata": {},
     "output_type": "execute_result"
    },
    {
     "data": {
      "image/png": "[encoded data removed]",
      "text/plain": [
       "<Figure size 432x288 with 1 Axes>"
      ]
     },
     "metadata": {
      "needs_background": "light"
     },
     "output_type": "display_data"
    }
   ],
   "source": [
    "settings = Settings()\n",
    "\n",
    "backend = CPU\n",
    "builder = Builder(n_sd=settings.n_sd, backend=backend, formulae=settings.formulae)\n",
    "builder.set_environment(Box(dv=settings.dv, dt=settings.dt))\n",
    "attributes = {}\n",
    "attributes['volume'], attributes['n'] = ConstantMultiplicity(settings.spectrum).sample(settings.n_sd)\n",
    "#breakup = Breakup(settings.kernel, settings.coal_eff, settings.fragmentation, adaptive=settings.adaptive)\n",
    "#builder.add_dynamic(breakup)\n",
    "coalescence = Coalescence(settings.kernel, settings.coal_eff, adaptive=settings.adaptive)\n",
    "builder.add_dynamic(coalescence)\n",
    "products = [ParticlesVolumeSpectrum(), WallTime(), ParticleMeanRadius(), ParticlesConcentration(radius_range = settings.radius_range)]\n",
    "core = builder.build(attributes, products)\n",
    "\n",
    "for step in settings.output_steps:\n",
    "    core.run(step - core.n_steps)\n",
    "    pyplot.step(x=settings.radius_bins_edges[:-1] / si.micrometres, \n",
    "                y=core.products['dv/dlnr'].get(settings.radius_bins_edges) * settings.rho,\n",
    "                where='post')\n",
    "    \n",
    "pyplot.xscale(\"log\")\n",
    "pyplot.xlabel(\"radius (um)\")\n",
    "pyplot.ylabel(\"dm/dlnr\")\n",
    "pyplot.legend(settings._steps)"
   ]
  },
  {
   "cell_type": "code",
   "execution_count": null,
   "metadata": {},
   "outputs": [],
   "source": []
  }
 ],
 "metadata": {
  "kernelspec": {
   "display_name": "Python (edjPySDM)",
   "language": "python",
   "name": "edjpysdm"
  },
  "language_info": {
   "codemirror_mode": {
    "name": "ipython",
    "version": 3
   },
   "file_extension": ".py",
   "mimetype": "text/x-python",
   "name": "python",
   "nbconvert_exporter": "python",
   "pygments_lexer": "ipython3",
   "version": "3.8.8"
  }
 },
 "nbformat": 4,
 "nbformat_minor": 4
}
