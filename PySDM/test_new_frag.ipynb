{
 "cells": [
  {
   "cell_type": "code",
   "execution_count": 1,
   "metadata": {},
   "outputs": [],
   "source": [
    "%load_ext autoreload\n",
    "%autoreload"
   ]
  },
  {
   "cell_type": "code",
   "execution_count": 2,
   "metadata": {},
   "outputs": [],
   "source": [
    "from matplotlib import pyplot\n",
    "import numpy as np\n",
    "import os\n",
    "os.environ['NUMBA_DISABLE_JIT'] = '1'"
   ]
  },
  {
   "cell_type": "code",
   "execution_count": 3,
   "metadata": {},
   "outputs": [],
   "source": [
    "from pystrict import strict\n",
    "import numpy as np\n",
    "from PySDM.physics.constants import si\n",
    "from PySDM.initialisation.spectra import Gamma\n",
    "from PySDM.dynamics.collisions.collision_kernels import Golovin\n",
    "from PySDM.dynamics.collisions.coalescence_efficiencies import ConstEc\n",
    "from PySDM.dynamics.collisions.breakup_efficiencies import ConstEb\n",
    "from PySDM.dynamics.collisions.breakup_fragmentations import Feingold1988Frag, ExponFrag, AlwaysN\n",
    "from PySDM.formulae import Formulae\n",
    "from PySDM.physics.constants_defaults import rho_w\n"
   ]
  },
  {
   "cell_type": "code",
   "execution_count": 12,
   "metadata": {},
   "outputs": [],
   "source": [
    "@strict\n",
    "class Settings:\n",
    "\n",
    "    def __init__(self):\n",
    "        self.formulae = Formulae()\n",
    "        self.n_sd = 2**8\n",
    "        self.n_part = 1e4 / si.cm**3\n",
    "        self.theta = 0.33e-9 * si.g / rho_w\n",
    "        self.k = 1\n",
    "        self.dv = 1 * si.cm**3\n",
    "        self.norm_factor = self.n_part * self.dv\n",
    "        self.dt = 1 * si.seconds\n",
    "        self.adaptive = False\n",
    "        self.seed = 44\n",
    "        self._steps = [i for i in range(60)] #[0, 60]\n",
    "        self.kernel = Golovin(b=2000 * si.cm**3 / si.g / si.s * rho_w)\n",
    "        #self.kernel = Golovin(b=20000 * si.cm**3 / si.g / si.s * rho_w)\n",
    "        self.coal_effs = [ConstEc(Ec=0.8), ConstEc(Ec=0.9),ConstEc(Ec=1.0)]\n",
    "        self.rho = rho_w\n",
    "        self.vmin = 0.1*si.um**3\n",
    "        self.fragtol = 1e-3\n",
    "        self.fragmentation = Feingold1988Frag(scale=self.k * self.theta / 2, fragtol=self.fragtol, \n",
    "                                            vmin=self.vmin, nfmax=20)\n",
    "        #self.fragmentation = ExponFrag(scale=self.k*self.theta/2)\n",
    "        #self.fragmentation = AlwaysN(n=2)\n",
    "        self.break_eff = ConstEb(1.0) # no \"bouncing\"\n",
    "        self.spectrum = Gamma(norm_factor=self.norm_factor, k=self.k, theta=self.theta)\n",
    "        # self.radius_bins_edges = np.logspace(\n",
    "        #     np.log10(1 * si.um),\n",
    "        #     np.log10(1000 * si.um),\n",
    "        #     num=128, endpoint=True\n",
    "        # )\n",
    "        # self.radius_range = [0 * si.um, 1e6 * si.um]\n",
    "\n",
    "\n",
    "    @property\n",
    "    def output_steps(self):\n",
    "        return [int(step/self.dt) for step in self._steps]"
   ]
  },
  {
   "cell_type": "code",
   "execution_count": 13,
   "metadata": {},
   "outputs": [],
   "source": [
    "from PySDM.backends import CPU\n",
    "from PySDM.builder import Builder\n",
    "from PySDM.environments import Box\n",
    "from PySDM.dynamics import Collision\n",
    "from PySDM.initialisation.sampling.spectral_sampling import ConstantMultiplicity\n",
    "import PySDM.products.size_spectral.arbitrary_moment as am"
   ]
  },
  {
   "cell_type": "code",
   "execution_count": 14,
   "metadata": {},
   "outputs": [],
   "source": [
    "settings = Settings()\n",
    "coal_eff = ConstEc(Ec=0.8)\n",
    "backend = CPU\n",
    "builder = Builder(n_sd=settings.n_sd, backend=backend(settings.formulae))\n",
    "env = Box(dv=settings.dv, dt=settings.dt)\n",
    "builder.set_environment(env)\n",
    "env['rhod'] = 1.0\n",
    "attributes = {}\n",
    "attributes['volume'], attributes['n'] = \\\n",
    "    ConstantMultiplicity(settings.spectrum).sample(settings.n_sd)\n",
    "collision = Collision(\n",
    "    settings.kernel,\n",
    "    coal_eff,\n",
    "    settings.break_eff,\n",
    "    settings.fragmentation,\n",
    "    adaptive=settings.adaptive\n",
    ")\n",
    "builder.add_dynamic(collision)\n",
    "M0 = am.make_arbitrary_moment_product(rank=0, attr='volume', attr_unit='m^3')\n",
    "M1 = am.make_arbitrary_moment_product(rank=1, attr='volume', attr_unit='m^3')\n",
    "M2 = am.make_arbitrary_moment_product(rank=2, attr='volume', attr_unit='m^3')\n",
    "products = (\n",
    "    M0(name='M0'),\n",
    "    M1(name='M1'),\n",
    "    M2(name='M2')\n",
    ")\n",
    "particulator = builder.build(attributes, products)"
   ]
  },
  {
   "cell_type": "code",
   "execution_count": 15,
   "metadata": {},
   "outputs": [
    {
     "data": {
      "text/plain": [
       "[<matplotlib.lines.Line2D at 0x7fd958c5dca0>]"
      ]
     },
     "execution_count": 15,
     "metadata": {},
     "output_type": "execute_result"
    },
    {
     "data": {
      "image/png": "[encoded data removed]",
      "text/plain": [
       "<Figure size 432x288 with 3 Axes>"
      ]
     },
     "metadata": {
      "needs_background": "light"
     },
     "output_type": "display_data"
    }
   ],
   "source": [
    "t = settings.output_steps\n",
    "moments = np.zeros((3, len(t)))\n",
    "j = 0\n",
    "for step in settings.output_steps:\n",
    "    particulator.run(step - particulator.n_steps)\n",
    "    moments[:,j] = [particulator.products['M0'].get()[0], particulator.products['M1'].get()[0], \n",
    "        particulator.products['M2'].get()[0]]\n",
    "    j += 1\n",
    "    #print(particulator.attributes['n'].to_ndarray())\n",
    "fig, ax = pyplot.subplots(1, 3)\n",
    "ax[0].plot(t,moments[0,:])\n",
    "ax[1].plot(t,moments[1,:]*moments[0,:])\n",
    "ax[2].plot(t,moments[2,:]*moments[0,:])"
   ]
  },
  {
   "cell_type": "code",
   "execution_count": null,
   "metadata": {},
   "outputs": [],
   "source": []
  },
  {
   "cell_type": "code",
   "execution_count": null,
   "metadata": {},
   "outputs": [],
   "source": []
  }
 ],
 "metadata": {
  "interpreter": {
   "hash": "b43cf254c70d60c2e21a7f71ba113e70c1694742e72407132919c841d907074b"
  },
  "kernelspec": {
   "display_name": "Python 3.9.4 ('edjPySDM')",
   "language": "python",
   "name": "python3"
  },
  "language_info": {
   "codemirror_mode": {
    "name": "ipython",
    "version": 3
   },
   "file_extension": ".py",
   "mimetype": "text/x-python",
   "name": "python",
   "nbconvert_exporter": "python",
   "pygments_lexer": "ipython3",
   "version": "3.9.4"
  },
  "orig_nbformat": 4
 },
 "nbformat": 4,
 "nbformat_minor": 2
}
