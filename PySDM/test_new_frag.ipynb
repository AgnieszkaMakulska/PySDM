{
 "cells": [
  {
   "cell_type": "code",
   "execution_count": 8,
   "metadata": {},
   "outputs": [
    {
     "name": "stdout",
     "output_type": "stream",
     "text": [
      "The autoreload extension is already loaded. To reload it, use:\n",
      "  %reload_ext autoreload\n"
     ]
    }
   ],
   "source": [
    "%load_ext autoreload\n",
    "%autoreload"
   ]
  },
  {
   "cell_type": "code",
   "execution_count": 9,
   "metadata": {},
   "outputs": [],
   "source": [
    "from matplotlib import pyplot\n",
    "import numpy as np\n",
    "import os\n",
    "os.environ['NUMBA_DISABLE_JIT'] = '1'"
   ]
  },
  {
   "cell_type": "code",
   "execution_count": 10,
   "metadata": {},
   "outputs": [],
   "source": [
    "from pystrict import strict\n",
    "import numpy as np\n",
    "from PySDM.physics.constants import si\n",
    "from PySDM.initialisation.spectra import Gamma\n",
    "from PySDM.dynamics.collisions.collision_kernels import Golovin\n",
    "from PySDM.dynamics.collisions.coalescence_efficiencies import ConstEc\n",
    "from PySDM.dynamics.collisions.breakup_efficiencies import ConstEb\n",
    "from PySDM.dynamics.collisions.breakup_fragmentations import Feingold1988Frag, ExponFrag, AlwaysN\n",
    "from PySDM.formulae import Formulae\n",
    "from PySDM.physics.constants_defaults import rho_w\n"
   ]
  },
  {
   "cell_type": "code",
   "execution_count": 11,
   "metadata": {},
   "outputs": [],
   "source": [
    "@strict\n",
    "class Settings:\n",
    "\n",
    "    def __init__(self):\n",
    "        self.formulae = Formulae()\n",
    "        self.n_sd = 2**4\n",
    "        self.n_part = 1e4 / si.cm**3\n",
    "        self.theta = 0.33e-9 * si.g / rho_w\n",
    "        self.k = 1\n",
    "        self.dv = 1 * si.m**3\n",
    "        self.norm_factor = self.n_part * self.dv\n",
    "        self.dt = 1 * si.seconds\n",
    "        self.adaptive = False\n",
    "        self.seed = 44\n",
    "        self._steps = [i for i in range(60)] #[0, 60]\n",
    "        #self.kernel = Golovin(b=2000 * si.cm**3 / si.g / si.s * rho_w)\n",
    "        self.kernel = Golovin(b=20000 * si.cm**3 / si.g / si.s * rho_w)\n",
    "        self.coal_effs = [ConstEc(Ec=0.8), ConstEc(Ec=0.9),ConstEc(Ec=1.0)]\n",
    "        self.rho = rho_w\n",
    "        self.vmin = 0.1*si.um**3\n",
    "        self.fragtol = 1e-3\n",
    "        #self.fragmentation = Feingold1988Frag(scale=self.k * self.theta / 2, fragtol=self.fragtol, vmin=self.vmin)\n",
    "        self.fragmentation = ExponFrag(scale=self.k*self.theta/2)\n",
    "        #self.fragmentation = AlwaysN(n=2)\n",
    "        self.break_eff = ConstEb(1.0) # no \"bouncing\"\n",
    "        self.spectrum = Gamma(norm_factor=self.norm_factor, k=self.k, theta=self.theta)\n",
    "        # self.radius_bins_edges = np.logspace(\n",
    "        #     np.log10(1 * si.um),\n",
    "        #     np.log10(1000 * si.um),\n",
    "        #     num=128, endpoint=True\n",
    "        # )\n",
    "        # self.radius_range = [0 * si.um, 1e6 * si.um]\n",
    "\n",
    "\n",
    "    @property\n",
    "    def output_steps(self):\n",
    "        return [int(step/self.dt) for step in self._steps]"
   ]
  },
  {
   "cell_type": "code",
   "execution_count": 12,
   "metadata": {},
   "outputs": [],
   "source": [
    "from PySDM.backends import CPU\n",
    "from PySDM.builder import Builder\n",
    "from PySDM.environments import Box\n",
    "from PySDM.dynamics import Collision\n",
    "from PySDM.initialisation.sampling.spectral_sampling import ConstantMultiplicity\n",
    "import PySDM.products.size_spectral.arbitrary_moment as am"
   ]
  },
  {
   "cell_type": "code",
   "execution_count": 13,
   "metadata": {},
   "outputs": [],
   "source": [
    "settings = Settings()\n",
    "coal_eff = ConstEc(Ec=0.0)\n",
    "backend = CPU\n",
    "builder = Builder(n_sd=settings.n_sd, backend=backend(settings.formulae))\n",
    "env = Box(dv=settings.dv, dt=settings.dt)\n",
    "builder.set_environment(env)\n",
    "env['rhod'] = 1.0\n",
    "attributes = {}\n",
    "attributes['volume'], attributes['n'] = \\\n",
    "    ConstantMultiplicity(settings.spectrum).sample(settings.n_sd)\n",
    "collision = Collision(\n",
    "    settings.kernel,\n",
    "    coal_eff,\n",
    "    settings.break_eff,\n",
    "    settings.fragmentation,\n",
    "    adaptive=settings.adaptive\n",
    ")\n",
    "builder.add_dynamic(collision)\n",
    "M0 = am.make_arbitrary_moment_product(rank=0, attr='volume', attr_unit='m^3')\n",
    "M1 = am.make_arbitrary_moment_product(rank=1, attr='volume', attr_unit='m^3')\n",
    "M2 = am.make_arbitrary_moment_product(rank=2, attr='volume', attr_unit='m^3')\n",
    "products = (\n",
    "    M0(name='M0'),\n",
    "    M1(name='M1'),\n",
    "    M2(name='M2')\n",
    ")\n",
    "particulator = builder.build(attributes, products)"
   ]
  },
  {
   "cell_type": "code",
   "execution_count": 14,
   "metadata": {},
   "outputs": [
    {
     "name": "stdout",
     "output_type": "stream",
     "text": [
      "[624987500 624987500 624987500 624987500 624987500 624987500 624987500\n",
      " 624987500 624987500 624987500 624987500 624987500 624987500 624987500\n",
      " 624987500 624987500]\n",
      "[ 1.          3.52393926 17.33280638 11.73905134  1.         27.33046357\n",
      "  4.96888267  2.95533753]\n",
      "[ 624987500  624987500  624987500  624987500  624987500  624987500\n",
      "  624987500  624987500  624987500  624987500 8540599049 8540599049\n",
      "  624987500  624987500  923524507  923524507]\n",
      "[20.74351813  2.2214341  18.75817935  1.         21.04688068  1.\n",
      "  6.36160791  3.8131608 ]\n",
      "[ 624987500  624987500 7915611549 1388368546  624987500  624987500\n",
      " 7915611549  624987500  624987500  624987500  624987500  624987500\n",
      "  624987500  624987500  923524507  923524507]\n",
      "[  5.36526178   8.25461198 119.43241915   1.71759097   1.95071678\n",
      "   1.           1.           1.4400916 ]\n",
      "[ 624987500  624987500  923524507  624987500  624987500  624987500\n",
      " 7915611549  624987500  923524507  624987500 7290624049  624987500\n",
      "  624987500  624987500 1388368546  624987500]\n",
      "[3.04463221 2.22955184 2.5122656  1.7403514  1.         4.60390454\n",
      " 1.11176326 1.63184478]\n",
      "[ 624987500  624987500  923524507  624987500 1388368546  624987500\n",
      " 7290624049  624987500 7915611549  624987500  923524507  624987500\n",
      "  624987500  624987500  624987500  624987500]\n",
      "[ 1.79671746  1.79821215  1.         23.43590494  3.87069259 15.58623419\n",
      " 56.12614539  4.91712049]\n",
      "[ 624987500  624987500 7290624049 1123860115 1388368546  624987500\n",
      "  624987500  624987500 7290624049  923524507 4870600772 4870600772\n",
      "  923524507  624987500  624987500  624987500]\n",
      "[ 1.         65.15020928  1.          1.55156429  1.         16.04745504\n",
      "  1.         27.84808227]\n",
      "[7290624049  923524507  624987500  624987500 4870600772  624987500\n",
      " 6665636549  969708287 4870600772  624987500 1123860115  624987500\n",
      " 1388368546  923524507  624987500  624987500]\n",
      "[ 2.13210363  1.          1.          1.          1.37004864 17.33108548\n",
      "  1.          3.85804036]\n",
      "[  298537007  1332538118  5742112042   923524507  7290624049  4870600772\n",
      "  3746740657  1123860115   624987500   624987500   763381046 10831711790\n",
      "   969708287   624987500   624987500   624987500]\n",
      "[ 9.56647686  5.92906399  3.97279692  1.          1.          1.\n",
      "  1.68971501 21.96272214]\n",
      "[  3746740657    298537007    969708287    763381046   5742112042\n",
      "    624987500    624987500    624987500   4870600772    624987500\n",
      "   6367099542    923524507   1332538118    624987500 213210848874\n",
      "  14975175750]\n",
      "[ 3.09661807 43.16979797  1.61301814  4.86573336  1.          1.\n",
      "  1.          7.52389828]\n",
      "[   763381046    624987500  13490292056  13490292056   5742112042\n",
      "    969708287   4870600772    298537007   6367099542   3746740657\n",
      "   1332538118    923524507 183260497374  14975175750    624987500\n",
      "    624987500]\n",
      "[ 1.         21.45015755  1.02721807  2.12022707  1.          1.\n",
      "  1.          4.28282793]\n",
      "[ 14975175750    624987500    624987500    624987500 171542571605\n",
      "   1082320404   3746740657    969708287  13191755049    298537007\n",
      "   5742112042   4870600772  13490292056   6367099542   1332538118\n",
      "    923524507]\n",
      "[1.         1.         1.         5.87358521 2.05394784 2.81940359\n",
      " 1.         1.        ]\n",
      "[ 14975175750    624987500   4870600772   3746740657    923524507\n",
      "    624987500   1082320404    624987500  12222046762   1991730246\n",
      "  13490292056    298537007 164879881015   1332538118   6367099542\n",
      "   5742112042]\n",
      "[1.         5.42428374 1.         1.         1.         1.89833371\n",
      " 1.         5.3089774 ]\n",
      "[ 14975175750   1991730246   4659791638   5870812973   5034561424\n",
      "   1332538118    624987500    624987500   3746740657    624987500\n",
      "   4870600772    923524507  13490292056  12222046762 456263063031\n",
      " 675565129175]\n",
      "[1.         3.44573388 1.         2.20027121 1.98760913 1.\n",
      " 1.53463362 6.5028966 ]\n",
      "[  5034561424    624987500  12222046762    923524507 455638075531\n",
      "    624987500  14975175750  13490292056 440779046680 160346115431\n",
      "   5870812973   4870600772   1991730246   1332538118   4659791638\n",
      "   3746740657]\n",
      "[8.40922098 1.         1.         9.78010413 1.         1.99619662\n",
      " 1.         1.606616  ]\n",
      "[ 424884017881 2845815942004   12222046762     624987500  395737372531\n",
      "   14975175750    1991730246     923524507    5034561424    4659791638\n",
      "    7619479083   11719297008  151018348605    1332538118    3746740657\n",
      "     624987500]\n",
      "issue with success: n_fragment =  11.682296175869569  and gamma =  23.0 , from multiplicities  424884017881 ,  923524507\n",
      "[ 1.          3.03008817  2.08425547  2.367172    1.         11.68229618\n",
      "  1.          1.        ]\n"
     ]
    },
    {
     "ename": "Exception",
     "evalue": "Breakup step failed due to multiplicity exceeding maximum allowed",
     "output_type": "error",
     "traceback": [
      "\u001b[0;31m---------------------------------------------------------------------------\u001b[0m",
      "\u001b[0;31mException\u001b[0m                                 Traceback (most recent call last)",
      "\u001b[0;32m<ipython-input-14-9c1cec45c503>\u001b[0m in \u001b[0;36m<module>\u001b[0;34m\u001b[0m\n\u001b[1;32m      3\u001b[0m \u001b[0mj\u001b[0m \u001b[0;34m=\u001b[0m \u001b[0;36m0\u001b[0m\u001b[0;34m\u001b[0m\u001b[0;34m\u001b[0m\u001b[0m\n\u001b[1;32m      4\u001b[0m \u001b[0;32mfor\u001b[0m \u001b[0mstep\u001b[0m \u001b[0;32min\u001b[0m \u001b[0msettings\u001b[0m\u001b[0;34m.\u001b[0m\u001b[0moutput_steps\u001b[0m\u001b[0;34m:\u001b[0m\u001b[0;34m\u001b[0m\u001b[0;34m\u001b[0m\u001b[0m\n\u001b[0;32m----> 5\u001b[0;31m     \u001b[0mparticulator\u001b[0m\u001b[0;34m.\u001b[0m\u001b[0mrun\u001b[0m\u001b[0;34m(\u001b[0m\u001b[0mstep\u001b[0m \u001b[0;34m-\u001b[0m \u001b[0mparticulator\u001b[0m\u001b[0;34m.\u001b[0m\u001b[0mn_steps\u001b[0m\u001b[0;34m)\u001b[0m\u001b[0;34m\u001b[0m\u001b[0;34m\u001b[0m\u001b[0m\n\u001b[0m\u001b[1;32m      6\u001b[0m     moments[:,j] = [particulator.products['M0'].get()[0], particulator.products['M1'].get()[0], \n\u001b[1;32m      7\u001b[0m         particulator.products['M2'].get()[0]]\n",
      "\u001b[0;32m~/Documents/PySDM/PySDM/particulator.py\u001b[0m in \u001b[0;36mrun\u001b[0;34m(self, steps)\u001b[0m\n\u001b[1;32m     42\u001b[0m             \u001b[0;32mfor\u001b[0m \u001b[0mkey\u001b[0m\u001b[0;34m,\u001b[0m \u001b[0mdynamic\u001b[0m \u001b[0;32min\u001b[0m \u001b[0mself\u001b[0m\u001b[0;34m.\u001b[0m\u001b[0mdynamics\u001b[0m\u001b[0;34m.\u001b[0m\u001b[0mitems\u001b[0m\u001b[0;34m(\u001b[0m\u001b[0;34m)\u001b[0m\u001b[0;34m:\u001b[0m\u001b[0;34m\u001b[0m\u001b[0;34m\u001b[0m\u001b[0m\n\u001b[1;32m     43\u001b[0m                 \u001b[0;32mwith\u001b[0m \u001b[0mself\u001b[0m\u001b[0;34m.\u001b[0m\u001b[0mtimers\u001b[0m\u001b[0;34m[\u001b[0m\u001b[0mkey\u001b[0m\u001b[0;34m]\u001b[0m\u001b[0;34m:\u001b[0m\u001b[0;34m\u001b[0m\u001b[0;34m\u001b[0m\u001b[0m\n\u001b[0;32m---> 44\u001b[0;31m                     \u001b[0mdynamic\u001b[0m\u001b[0;34m(\u001b[0m\u001b[0;34m)\u001b[0m\u001b[0;34m\u001b[0m\u001b[0;34m\u001b[0m\u001b[0m\n\u001b[0m\u001b[1;32m     45\u001b[0m             \u001b[0mself\u001b[0m\u001b[0;34m.\u001b[0m\u001b[0mn_steps\u001b[0m \u001b[0;34m+=\u001b[0m \u001b[0;36m1\u001b[0m\u001b[0;34m\u001b[0m\u001b[0;34m\u001b[0m\u001b[0m\n\u001b[1;32m     46\u001b[0m             \u001b[0mself\u001b[0m\u001b[0;34m.\u001b[0m\u001b[0m_notify_observers\u001b[0m\u001b[0;34m(\u001b[0m\u001b[0;34m)\u001b[0m\u001b[0;34m\u001b[0m\u001b[0;34m\u001b[0m\u001b[0m\n",
      "\u001b[0;32m~/Documents/PySDM/PySDM/dynamics/collisions/collision.py\u001b[0m in \u001b[0;36m__call__\u001b[0;34m(self)\u001b[0m\n\u001b[1;32m    139\u001b[0m             \u001b[0;32mif\u001b[0m \u001b[0;32mnot\u001b[0m \u001b[0mself\u001b[0m\u001b[0;34m.\u001b[0m\u001b[0madaptive\u001b[0m\u001b[0;34m:\u001b[0m\u001b[0;34m\u001b[0m\u001b[0;34m\u001b[0m\u001b[0m\n\u001b[1;32m    140\u001b[0m                 \u001b[0;32mfor\u001b[0m \u001b[0m_\u001b[0m \u001b[0;32min\u001b[0m \u001b[0mrange\u001b[0m\u001b[0;34m(\u001b[0m\u001b[0mself\u001b[0m\u001b[0;34m.\u001b[0m\u001b[0m__substeps\u001b[0m\u001b[0;34m)\u001b[0m\u001b[0;34m:\u001b[0m\u001b[0;34m\u001b[0m\u001b[0;34m\u001b[0m\u001b[0m\n\u001b[0;32m--> 141\u001b[0;31m                     \u001b[0mself\u001b[0m\u001b[0;34m.\u001b[0m\u001b[0mstep\u001b[0m\u001b[0;34m(\u001b[0m\u001b[0;34m)\u001b[0m\u001b[0;34m\u001b[0m\u001b[0;34m\u001b[0m\u001b[0m\n\u001b[0m\u001b[1;32m    142\u001b[0m             \u001b[0;32melse\u001b[0m\u001b[0;34m:\u001b[0m\u001b[0;34m\u001b[0m\u001b[0;34m\u001b[0m\u001b[0m\n\u001b[1;32m    143\u001b[0m                 \u001b[0mself\u001b[0m\u001b[0;34m.\u001b[0m\u001b[0mdt_left\u001b[0m\u001b[0;34m[\u001b[0m\u001b[0;34m:\u001b[0m\u001b[0;34m]\u001b[0m \u001b[0;34m=\u001b[0m \u001b[0mself\u001b[0m\u001b[0;34m.\u001b[0m\u001b[0mparticulator\u001b[0m\u001b[0;34m.\u001b[0m\u001b[0mdt\u001b[0m\u001b[0;34m\u001b[0m\u001b[0;34m\u001b[0m\u001b[0m\n",
      "\u001b[0;32m~/Documents/PySDM/PySDM/dynamics/collisions/collision.py\u001b[0m in \u001b[0;36mstep\u001b[0;34m(self)\u001b[0m\n\u001b[1;32m    172\u001b[0m         \u001b[0mself\u001b[0m\u001b[0;34m.\u001b[0m\u001b[0mcompute_gamma\u001b[0m\u001b[0;34m(\u001b[0m\u001b[0mself\u001b[0m\u001b[0;34m.\u001b[0m\u001b[0mprob\u001b[0m\u001b[0;34m,\u001b[0m \u001b[0mrand\u001b[0m\u001b[0;34m,\u001b[0m \u001b[0mself\u001b[0m\u001b[0;34m.\u001b[0m\u001b[0mis_first_in_pair\u001b[0m\u001b[0;34m)\u001b[0m\u001b[0;34m\u001b[0m\u001b[0;34m\u001b[0m\u001b[0m\n\u001b[1;32m    173\u001b[0m \u001b[0;34m\u001b[0m\u001b[0m\n\u001b[0;32m--> 174\u001b[0;31m         self.particulator.collision_coalescence_breakup(\n\u001b[0m\u001b[1;32m    175\u001b[0m             \u001b[0menable_breakup\u001b[0m\u001b[0;34m=\u001b[0m\u001b[0mself\u001b[0m\u001b[0;34m.\u001b[0m\u001b[0menable_breakup\u001b[0m\u001b[0;34m,\u001b[0m \u001b[0mgamma\u001b[0m\u001b[0;34m=\u001b[0m\u001b[0mself\u001b[0m\u001b[0;34m.\u001b[0m\u001b[0mprob\u001b[0m\u001b[0;34m,\u001b[0m \u001b[0mrand\u001b[0m\u001b[0;34m=\u001b[0m\u001b[0mproc_rand\u001b[0m\u001b[0;34m,\u001b[0m\u001b[0;34m\u001b[0m\u001b[0;34m\u001b[0m\u001b[0m\n\u001b[1;32m    176\u001b[0m             \u001b[0mEc\u001b[0m\u001b[0;34m=\u001b[0m\u001b[0mself\u001b[0m\u001b[0;34m.\u001b[0m\u001b[0mEc_temp\u001b[0m\u001b[0;34m,\u001b[0m \u001b[0mEb\u001b[0m\u001b[0;34m=\u001b[0m\u001b[0mself\u001b[0m\u001b[0;34m.\u001b[0m\u001b[0mEb_temp\u001b[0m\u001b[0;34m,\u001b[0m \u001b[0mn_fragment\u001b[0m\u001b[0;34m=\u001b[0m\u001b[0mself\u001b[0m\u001b[0;34m.\u001b[0m\u001b[0mn_fragment\u001b[0m\u001b[0;34m,\u001b[0m\u001b[0;34m\u001b[0m\u001b[0;34m\u001b[0m\u001b[0m\n",
      "\u001b[0;32m~/Documents/PySDM/PySDM/particulator.py\u001b[0m in \u001b[0;36mcollision_coalescence_breakup\u001b[0;34m(self, enable_breakup, gamma, rand, Ec, Eb, n_fragment, coalescence_rate, breakup_rate, is_first_in_pair)\u001b[0m\n\u001b[1;32m    131\u001b[0m         \u001b[0mattributes\u001b[0m \u001b[0;34m=\u001b[0m \u001b[0mself\u001b[0m\u001b[0;34m.\u001b[0m\u001b[0mattributes\u001b[0m\u001b[0;34m.\u001b[0m\u001b[0mget_extensive_attribute_storage\u001b[0m\u001b[0;34m(\u001b[0m\u001b[0;34m)\u001b[0m\u001b[0;34m\u001b[0m\u001b[0;34m\u001b[0m\u001b[0m\n\u001b[1;32m    132\u001b[0m         \u001b[0;32mif\u001b[0m \u001b[0menable_breakup\u001b[0m\u001b[0;34m:\u001b[0m\u001b[0;34m\u001b[0m\u001b[0;34m\u001b[0m\u001b[0m\n\u001b[0;32m--> 133\u001b[0;31m             self.backend.collision_coalescence_breakup(\n\u001b[0m\u001b[1;32m    134\u001b[0m                 \u001b[0mmultiplicity\u001b[0m\u001b[0;34m=\u001b[0m\u001b[0mmultiplicity\u001b[0m\u001b[0;34m,\u001b[0m \u001b[0midx\u001b[0m\u001b[0;34m=\u001b[0m\u001b[0midx\u001b[0m\u001b[0;34m,\u001b[0m \u001b[0mattributes\u001b[0m\u001b[0;34m=\u001b[0m\u001b[0mattributes\u001b[0m\u001b[0;34m,\u001b[0m \u001b[0mgamma\u001b[0m\u001b[0;34m=\u001b[0m\u001b[0mgamma\u001b[0m\u001b[0;34m,\u001b[0m \u001b[0mrand\u001b[0m\u001b[0;34m=\u001b[0m\u001b[0mrand\u001b[0m\u001b[0;34m,\u001b[0m\u001b[0;34m\u001b[0m\u001b[0;34m\u001b[0m\u001b[0m\n\u001b[1;32m    135\u001b[0m                 \u001b[0mEc\u001b[0m\u001b[0;34m=\u001b[0m\u001b[0mEc\u001b[0m\u001b[0;34m,\u001b[0m \u001b[0mEb\u001b[0m\u001b[0;34m=\u001b[0m\u001b[0mEb\u001b[0m\u001b[0;34m,\u001b[0m \u001b[0mn_fragment\u001b[0m\u001b[0;34m=\u001b[0m\u001b[0mn_fragment\u001b[0m\u001b[0;34m,\u001b[0m \u001b[0mhealthy\u001b[0m\u001b[0;34m=\u001b[0m\u001b[0mhealthy\u001b[0m\u001b[0;34m,\u001b[0m \u001b[0mcell_id\u001b[0m\u001b[0;34m=\u001b[0m\u001b[0mcell_id\u001b[0m\u001b[0;34m,\u001b[0m\u001b[0;34m\u001b[0m\u001b[0;34m\u001b[0m\u001b[0m\n",
      "\u001b[0;32m~/Documents/PySDM/PySDM/backends/impl_numba/methods/collisions_methods.py\u001b[0m in \u001b[0;36mcollision_coalescence_breakup\u001b[0;34m(self, multiplicity, idx, attributes, gamma, rand, Ec, Eb, n_fragment, healthy, cell_id, coalescence_rate, breakup_rate, is_first_in_pair)\u001b[0m\n\u001b[1;32m    208\u001b[0m         \u001b[0mprint\u001b[0m\u001b[0;34m(\u001b[0m\u001b[0mn_fragment\u001b[0m\u001b[0;34m.\u001b[0m\u001b[0mdata\u001b[0m\u001b[0;34m)\u001b[0m\u001b[0;34m\u001b[0m\u001b[0;34m\u001b[0m\u001b[0m\n\u001b[1;32m    209\u001b[0m         \u001b[0;32mif\u001b[0m \u001b[0;32mnot\u001b[0m \u001b[0msuccess\u001b[0m\u001b[0;34m:\u001b[0m\u001b[0;34m\u001b[0m\u001b[0;34m\u001b[0m\u001b[0m\n\u001b[0;32m--> 210\u001b[0;31m             \u001b[0;32mraise\u001b[0m \u001b[0mException\u001b[0m\u001b[0;34m(\u001b[0m\u001b[0;34mf\"Breakup step failed due to multiplicity exceeding maximum allowed\"\u001b[0m\u001b[0;34m)\u001b[0m\u001b[0;34m\u001b[0m\u001b[0;34m\u001b[0m\u001b[0m\n\u001b[0m\u001b[1;32m    211\u001b[0m \u001b[0;34m\u001b[0m\u001b[0m\n\u001b[1;32m    212\u001b[0m     \u001b[0;34m@\u001b[0m\u001b[0mstaticmethod\u001b[0m\u001b[0;34m\u001b[0m\u001b[0;34m\u001b[0m\u001b[0m\n",
      "\u001b[0;31mException\u001b[0m: Breakup step failed due to multiplicity exceeding maximum allowed"
     ]
    }
   ],
   "source": [
    "t = settings.output_steps\n",
    "moments = np.zeros((3, len(t)))\n",
    "j = 0\n",
    "for step in settings.output_steps:\n",
    "    particulator.run(step - particulator.n_steps)\n",
    "    moments[:,j] = [particulator.products['M0'].get()[0], particulator.products['M1'].get()[0], \n",
    "        particulator.products['M2'].get()[0]]\n",
    "    j += 1\n",
    "    print(particulator.attributes['n'].to_ndarray())\n",
    "fig, ax = pyplot.subplots(1, 3)\n",
    "ax[0].plot(t,moments[0,:])\n",
    "ax[1].plot(t,moments[1,:]*moments[0,:])\n",
    "ax[2].plot(t,moments[2,:]*moments[0,:])"
   ]
  },
  {
   "cell_type": "code",
   "execution_count": null,
   "metadata": {},
   "outputs": [],
   "source": []
  },
  {
   "cell_type": "code",
   "execution_count": null,
   "metadata": {},
   "outputs": [],
   "source": []
  }
 ],
 "metadata": {
  "interpreter": {
   "hash": "b43cf254c70d60c2e21a7f71ba113e70c1694742e72407132919c841d907074b"
  },
  "kernelspec": {
   "display_name": "Python 3.9.4 ('edjPySDM')",
   "language": "python",
   "name": "python3"
  },
  "language_info": {
   "codemirror_mode": {
    "name": "ipython",
    "version": 3
   },
   "file_extension": ".py",
   "mimetype": "text/x-python",
   "name": "python",
   "nbconvert_exporter": "python",
   "pygments_lexer": "ipython3",
   "version": "3.9.4"
  },
  "orig_nbformat": 4
 },
 "nbformat": 4,
 "nbformat_minor": 2
}
