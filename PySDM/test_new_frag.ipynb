{
 "cells": [
  {
   "cell_type": "code",
   "execution_count": 58,
   "metadata": {},
   "outputs": [
    {
     "name": "stdout",
     "output_type": "stream",
     "text": [
      "The autoreload extension is already loaded. To reload it, use:\n",
      "  %reload_ext autoreload\n"
     ]
    }
   ],
   "source": [
    "%load_ext autoreload\n",
    "%autoreload"
   ]
  },
  {
   "cell_type": "code",
   "execution_count": 59,
   "metadata": {},
   "outputs": [],
   "source": [
    "from matplotlib import pyplot\n",
    "import numpy as np\n",
    "import os\n",
    "os.environ['NUMBA_DISABLE_JIT'] = '1'"
   ]
  },
  {
   "cell_type": "code",
   "execution_count": 60,
   "metadata": {},
   "outputs": [],
   "source": [
    "from pystrict import strict\n",
    "import numpy as np\n",
    "from PySDM.physics.constants import si\n",
    "from PySDM.initialisation.spectra import Gamma\n",
    "from PySDM.dynamics.collisions.collision_kernels import Golovin\n",
    "from PySDM.dynamics.collisions.coalescence_efficiencies import ConstEc\n",
    "from PySDM.dynamics.collisions.breakup_efficiencies import ConstEb\n",
    "from PySDM.dynamics.collisions.breakup_fragmentations import Feingold1988Frag, ExponFrag\n",
    "from PySDM.formulae import Formulae\n",
    "from PySDM.physics.constants_defaults import rho_w\n"
   ]
  },
  {
   "cell_type": "code",
   "execution_count": 79,
   "metadata": {},
   "outputs": [],
   "source": [
    "@strict\n",
    "class Settings:\n",
    "\n",
    "    def __init__(self):\n",
    "        self.formulae = Formulae()\n",
    "        self.n_sd = 2**4\n",
    "        self.n_part = 1e4 / si.cm**3\n",
    "        self.theta = 0.33e-9 * si.g / rho_w\n",
    "        self.k = 1\n",
    "        self.dv = 1 * si.m**3\n",
    "        self.norm_factor = self.n_part * self.dv\n",
    "        self.dt = 1 * si.seconds\n",
    "        self.adaptive = False\n",
    "        self.seed = 44\n",
    "        self._steps = [i for i in range(60)] #[0, 60]\n",
    "        #self.kernel = Golovin(b=2000 * si.cm**3 / si.g / si.s * rho_w)\n",
    "        self.kernel = Golovin(b=20000 * si.cm**3 / si.g / si.s * rho_w)\n",
    "        self.coal_effs = [ConstEc(Ec=0.8), ConstEc(Ec=0.9),ConstEc(Ec=1.0)]\n",
    "        self.rho = rho_w\n",
    "        self.vmin = 0.1*si.um**3\n",
    "        self.fragtol = 1e-3\n",
    "        #self.fragmentation = Feingold1988Frag(scale=self.k * self.theta / 2, fragtol=self.fragtol, vmin=self.vmin)\n",
    "        self.fragmentation = ExponFrag(scale=self.k*self.theta/2)\n",
    "        self.break_eff = ConstEb(1.0) # no \"bouncing\"\n",
    "        self.spectrum = Gamma(norm_factor=self.norm_factor, k=self.k, theta=self.theta)\n",
    "        # self.radius_bins_edges = np.logspace(\n",
    "        #     np.log10(1 * si.um),\n",
    "        #     np.log10(1000 * si.um),\n",
    "        #     num=128, endpoint=True\n",
    "        # )\n",
    "        # self.radius_range = [0 * si.um, 1e6 * si.um]\n",
    "\n",
    "\n",
    "    @property\n",
    "    def output_steps(self):\n",
    "        return [int(step/self.dt) for step in self._steps]"
   ]
  },
  {
   "cell_type": "code",
   "execution_count": 80,
   "metadata": {},
   "outputs": [],
   "source": [
    "from PySDM.backends import CPU\n",
    "from PySDM.builder import Builder\n",
    "from PySDM.environments import Box\n",
    "from PySDM.dynamics import Collision\n",
    "from PySDM.initialisation.sampling.spectral_sampling import ConstantMultiplicity\n",
    "import PySDM.products.size_spectral.arbitrary_moment as am"
   ]
  },
  {
   "cell_type": "code",
   "execution_count": 81,
   "metadata": {},
   "outputs": [],
   "source": [
    "settings = Settings()\n",
    "coal_eff = ConstEc(Ec=0.0)\n",
    "backend = CPU\n",
    "builder = Builder(n_sd=settings.n_sd, backend=backend(settings.formulae))\n",
    "env = Box(dv=settings.dv, dt=settings.dt)\n",
    "builder.set_environment(env)\n",
    "env['rhod'] = 1.0\n",
    "attributes = {}\n",
    "attributes['volume'], attributes['n'] = \\\n",
    "    ConstantMultiplicity(settings.spectrum).sample(settings.n_sd)\n",
    "collision = Collision(\n",
    "    settings.kernel,\n",
    "    coal_eff,\n",
    "    settings.break_eff,\n",
    "    settings.fragmentation,\n",
    "    adaptive=settings.adaptive\n",
    ")\n",
    "builder.add_dynamic(collision)\n",
    "M0 = am.make_arbitrary_moment_product(rank=0, attr='volume', attr_unit='m^3')\n",
    "M1 = am.make_arbitrary_moment_product(rank=1, attr='volume', attr_unit='m^3')\n",
    "M2 = am.make_arbitrary_moment_product(rank=2, attr='volume', attr_unit='m^3')\n",
    "products = (\n",
    "    M0(name='M0'),\n",
    "    M1(name='M1'),\n",
    "    M2(name='M2')\n",
    ")\n",
    "particulator = builder.build(attributes, products)"
   ]
  },
  {
   "cell_type": "code",
   "execution_count": 82,
   "metadata": {},
   "outputs": [
    {
     "name": "stdout",
     "output_type": "stream",
     "text": [
      "[624987500 624987500 624987500 624987500 624987500 624987500 624987500\n",
      " 624987500 624987500 624987500 624987500 624987500 624987500 624987500\n",
      " 624987500 624987500]\n",
      "[624987500 624987500 624987500 624987500 624987500 624987500 624987500\n",
      " 624987500 624987500 624987500 624987500 624987500 624987500 624987500\n",
      " 624987500 624987500]\n",
      "[  624987500   624987500   624987500   624987500   624987500   624987500\n",
      " 21944463953 21944463953   624987500   624987500   624987500   624987500\n",
      "   624987500   624987500  6817109740  6817109740]\n",
      "[  624987500   624987500  6192122240 55091401292   624987500   624987500\n",
      "   624987500   624987500 15127354213  6817109740   624987500   624987500\n",
      "  4849032701 63157213143   624987500   624987500]\n",
      "[ 6192122240   624987500   312493750   312493750   624987500   624987500\n",
      "  8065811851 55091401292 15127354213   624987500   624987500   624987500\n",
      "  4849032701   624987500  6192122240   624987500]\n",
      "[26961391721 77723094261  7440824351  3197480622   624987500   624987500\n",
      "   624987500   312493750   624987500   624987500 14502366713   312493750\n",
      "  6192122240   624987500  4849032701   624987500]\n",
      "[26961391721  4849032701 14502366713   624987500  7128330601   987922594\n",
      " 75355740007  4857444197   624987500   624987500  5879628490   572772809\n",
      "  3197480622   624987500   624987500   624987500]\n",
      "[23763911099  3197480622   624987500   624987500  4857444197   624987500\n",
      " 13877379213  1174957352 74730752507   624987500  4849032701   624987500\n",
      "  5879628490   572772809  7128330601   987922594]\n",
      "[    7128330601     3197480622     4849032701     1174957352\n",
      "    13252391713      756333134  7384296316087 59247451734904\n",
      "     4857444197      624987500      624987500      624987500\n",
      "     4891705896    23023603395    59077365501    75042434734]\n",
      "[   57902408149     1174957352     4266718396     2148110279\n",
      "  7248287878571     4857444197    23023603395     7128330601\n",
      " 58190362606086     4849032701    55938153569    17434489659\n",
      "     3197480622      624987500     9650704959    14177465063]\n",
      "[    9650704959     3197480622    14177465063      624987500\n",
      "  6386410762579     4266718396     7128330601     4849032701\n",
      "    21848646043    64131804581    40467918490    17434489659\n",
      " 56703870293018     2148110279    55938153569     4857444197]\n",
      "[   48809822968     7128330601    21848646043    17434489659\n",
      "    37270437868     5365517588    14177465063     4849032701\n",
      "    61983694302     2148110279     9650704959     4857444197\n",
      " 50317459530439  6386410762579     4266718396      624987500]\n",
      "[   38315547501     9089530518     4857444197     4849032701\n",
      "     9650704959     2148110279    17434489659      624987500\n",
      " 44915845341436    14177465063    61983694302     7128330601\n",
      "  5935707285187     5365517588    37270437868    21848646043]\n",
      "[   29226016983     9089530518     9650704959     2148110279\n",
      " 44827722103936      624987500     5365517588     4857444197\n",
      "  5764627350763     7128330601     3257024596    50875167660\n",
      "    21848646043     4849032701    61983694302    37270437868]\n",
      "[   29226016983     2148110279 35364940919176    50875167660\n",
      "    16483128455     5365517588  5652906134232     4857444197\n",
      "     9650704959     7128330601     5832505922     3257024596\n",
      "     4849032701      624987500    61983694302    37270437868]\n",
      "[   61983694302     4857444197     3257024596      624987500\n",
      "     5832505922     4849032701  5450241330093     9650704959\n",
      "    48727057381     2148110279 32234224138264    37270437868\n",
      "    16483128455     5365517588    29226016983     7128330601]\n",
      "[   45500565847    16483128455     5832505922     5365517588\n",
      "    48727057381    29226016983    34013413272     3257024596\n",
      "     9650704959     4857444197     4849032701      624987500\n",
      " 31229129523523     7128330601  5248318963867     2148110279]\n",
      "[   45500565847    16483128455     4857444197      624987500\n",
      "    23860499395     5365517588     9650704959     3257024596\n",
      "     7128330601     4849032701  4806144591331    34013413272\n",
      " 24650976777088    48727057381     3684395643     2148110279]\n",
      "issue with success: n_fragment =  2.8594913814082337  and gamma =  458.0 , from multiplicities  24650976777088 ,  3684395643\n"
     ]
    },
    {
     "ename": "Exception",
     "evalue": "Breakup step failed due to multiplicity exceeding maximum allowed",
     "output_type": "error",
     "traceback": [
      "\u001b[0;31m---------------------------------------------------------------------------\u001b[0m",
      "\u001b[0;31mException\u001b[0m                                 Traceback (most recent call last)",
      "\u001b[0;32m<ipython-input-82-9c1cec45c503>\u001b[0m in \u001b[0;36m<module>\u001b[0;34m\u001b[0m\n\u001b[1;32m      3\u001b[0m \u001b[0mj\u001b[0m \u001b[0;34m=\u001b[0m \u001b[0;36m0\u001b[0m\u001b[0;34m\u001b[0m\u001b[0;34m\u001b[0m\u001b[0m\n\u001b[1;32m      4\u001b[0m \u001b[0;32mfor\u001b[0m \u001b[0mstep\u001b[0m \u001b[0;32min\u001b[0m \u001b[0msettings\u001b[0m\u001b[0;34m.\u001b[0m\u001b[0moutput_steps\u001b[0m\u001b[0;34m:\u001b[0m\u001b[0;34m\u001b[0m\u001b[0;34m\u001b[0m\u001b[0m\n\u001b[0;32m----> 5\u001b[0;31m     \u001b[0mparticulator\u001b[0m\u001b[0;34m.\u001b[0m\u001b[0mrun\u001b[0m\u001b[0;34m(\u001b[0m\u001b[0mstep\u001b[0m \u001b[0;34m-\u001b[0m \u001b[0mparticulator\u001b[0m\u001b[0;34m.\u001b[0m\u001b[0mn_steps\u001b[0m\u001b[0;34m)\u001b[0m\u001b[0;34m\u001b[0m\u001b[0;34m\u001b[0m\u001b[0m\n\u001b[0m\u001b[1;32m      6\u001b[0m     moments[:,j] = [particulator.products['M0'].get()[0], particulator.products['M1'].get()[0], \n\u001b[1;32m      7\u001b[0m         particulator.products['M2'].get()[0]]\n",
      "\u001b[0;32m~/Documents/PySDM/PySDM/particulator.py\u001b[0m in \u001b[0;36mrun\u001b[0;34m(self, steps)\u001b[0m\n\u001b[1;32m     42\u001b[0m             \u001b[0;32mfor\u001b[0m \u001b[0mkey\u001b[0m\u001b[0;34m,\u001b[0m \u001b[0mdynamic\u001b[0m \u001b[0;32min\u001b[0m \u001b[0mself\u001b[0m\u001b[0;34m.\u001b[0m\u001b[0mdynamics\u001b[0m\u001b[0;34m.\u001b[0m\u001b[0mitems\u001b[0m\u001b[0;34m(\u001b[0m\u001b[0;34m)\u001b[0m\u001b[0;34m:\u001b[0m\u001b[0;34m\u001b[0m\u001b[0;34m\u001b[0m\u001b[0m\n\u001b[1;32m     43\u001b[0m                 \u001b[0;32mwith\u001b[0m \u001b[0mself\u001b[0m\u001b[0;34m.\u001b[0m\u001b[0mtimers\u001b[0m\u001b[0;34m[\u001b[0m\u001b[0mkey\u001b[0m\u001b[0;34m]\u001b[0m\u001b[0;34m:\u001b[0m\u001b[0;34m\u001b[0m\u001b[0;34m\u001b[0m\u001b[0m\n\u001b[0;32m---> 44\u001b[0;31m                     \u001b[0mdynamic\u001b[0m\u001b[0;34m(\u001b[0m\u001b[0;34m)\u001b[0m\u001b[0;34m\u001b[0m\u001b[0;34m\u001b[0m\u001b[0m\n\u001b[0m\u001b[1;32m     45\u001b[0m             \u001b[0mself\u001b[0m\u001b[0;34m.\u001b[0m\u001b[0mn_steps\u001b[0m \u001b[0;34m+=\u001b[0m \u001b[0;36m1\u001b[0m\u001b[0;34m\u001b[0m\u001b[0;34m\u001b[0m\u001b[0m\n\u001b[1;32m     46\u001b[0m             \u001b[0mself\u001b[0m\u001b[0;34m.\u001b[0m\u001b[0m_notify_observers\u001b[0m\u001b[0;34m(\u001b[0m\u001b[0;34m)\u001b[0m\u001b[0;34m\u001b[0m\u001b[0;34m\u001b[0m\u001b[0m\n",
      "\u001b[0;32m~/Documents/PySDM/PySDM/dynamics/collisions/collision.py\u001b[0m in \u001b[0;36m__call__\u001b[0;34m(self)\u001b[0m\n\u001b[1;32m    139\u001b[0m             \u001b[0;32mif\u001b[0m \u001b[0;32mnot\u001b[0m \u001b[0mself\u001b[0m\u001b[0;34m.\u001b[0m\u001b[0madaptive\u001b[0m\u001b[0;34m:\u001b[0m\u001b[0;34m\u001b[0m\u001b[0;34m\u001b[0m\u001b[0m\n\u001b[1;32m    140\u001b[0m                 \u001b[0;32mfor\u001b[0m \u001b[0m_\u001b[0m \u001b[0;32min\u001b[0m \u001b[0mrange\u001b[0m\u001b[0;34m(\u001b[0m\u001b[0mself\u001b[0m\u001b[0;34m.\u001b[0m\u001b[0m__substeps\u001b[0m\u001b[0;34m)\u001b[0m\u001b[0;34m:\u001b[0m\u001b[0;34m\u001b[0m\u001b[0;34m\u001b[0m\u001b[0m\n\u001b[0;32m--> 141\u001b[0;31m                     \u001b[0mself\u001b[0m\u001b[0;34m.\u001b[0m\u001b[0mstep\u001b[0m\u001b[0;34m(\u001b[0m\u001b[0;34m)\u001b[0m\u001b[0;34m\u001b[0m\u001b[0;34m\u001b[0m\u001b[0m\n\u001b[0m\u001b[1;32m    142\u001b[0m             \u001b[0;32melse\u001b[0m\u001b[0;34m:\u001b[0m\u001b[0;34m\u001b[0m\u001b[0;34m\u001b[0m\u001b[0m\n\u001b[1;32m    143\u001b[0m                 \u001b[0mself\u001b[0m\u001b[0;34m.\u001b[0m\u001b[0mdt_left\u001b[0m\u001b[0;34m[\u001b[0m\u001b[0;34m:\u001b[0m\u001b[0;34m]\u001b[0m \u001b[0;34m=\u001b[0m \u001b[0mself\u001b[0m\u001b[0;34m.\u001b[0m\u001b[0mparticulator\u001b[0m\u001b[0;34m.\u001b[0m\u001b[0mdt\u001b[0m\u001b[0;34m\u001b[0m\u001b[0;34m\u001b[0m\u001b[0m\n",
      "\u001b[0;32m~/Documents/PySDM/PySDM/dynamics/collisions/collision.py\u001b[0m in \u001b[0;36mstep\u001b[0;34m(self)\u001b[0m\n\u001b[1;32m    172\u001b[0m         \u001b[0mself\u001b[0m\u001b[0;34m.\u001b[0m\u001b[0mcompute_gamma\u001b[0m\u001b[0;34m(\u001b[0m\u001b[0mself\u001b[0m\u001b[0;34m.\u001b[0m\u001b[0mprob\u001b[0m\u001b[0;34m,\u001b[0m \u001b[0mrand\u001b[0m\u001b[0;34m,\u001b[0m \u001b[0mself\u001b[0m\u001b[0;34m.\u001b[0m\u001b[0mis_first_in_pair\u001b[0m\u001b[0;34m)\u001b[0m\u001b[0;34m\u001b[0m\u001b[0;34m\u001b[0m\u001b[0m\n\u001b[1;32m    173\u001b[0m \u001b[0;34m\u001b[0m\u001b[0m\n\u001b[0;32m--> 174\u001b[0;31m         self.particulator.collision_coalescence_breakup(\n\u001b[0m\u001b[1;32m    175\u001b[0m             \u001b[0menable_breakup\u001b[0m\u001b[0;34m=\u001b[0m\u001b[0mself\u001b[0m\u001b[0;34m.\u001b[0m\u001b[0menable_breakup\u001b[0m\u001b[0;34m,\u001b[0m \u001b[0mgamma\u001b[0m\u001b[0;34m=\u001b[0m\u001b[0mself\u001b[0m\u001b[0;34m.\u001b[0m\u001b[0mprob\u001b[0m\u001b[0;34m,\u001b[0m \u001b[0mrand\u001b[0m\u001b[0;34m=\u001b[0m\u001b[0mproc_rand\u001b[0m\u001b[0;34m,\u001b[0m\u001b[0;34m\u001b[0m\u001b[0;34m\u001b[0m\u001b[0m\n\u001b[1;32m    176\u001b[0m             \u001b[0mEc\u001b[0m\u001b[0;34m=\u001b[0m\u001b[0mself\u001b[0m\u001b[0;34m.\u001b[0m\u001b[0mEc_temp\u001b[0m\u001b[0;34m,\u001b[0m \u001b[0mEb\u001b[0m\u001b[0;34m=\u001b[0m\u001b[0mself\u001b[0m\u001b[0;34m.\u001b[0m\u001b[0mEb_temp\u001b[0m\u001b[0;34m,\u001b[0m \u001b[0mn_fragment\u001b[0m\u001b[0;34m=\u001b[0m\u001b[0mself\u001b[0m\u001b[0;34m.\u001b[0m\u001b[0mn_fragment\u001b[0m\u001b[0;34m,\u001b[0m\u001b[0;34m\u001b[0m\u001b[0;34m\u001b[0m\u001b[0m\n",
      "\u001b[0;32m~/Documents/PySDM/PySDM/particulator.py\u001b[0m in \u001b[0;36mcollision_coalescence_breakup\u001b[0;34m(self, enable_breakup, gamma, rand, Ec, Eb, n_fragment, coalescence_rate, breakup_rate, is_first_in_pair)\u001b[0m\n\u001b[1;32m    131\u001b[0m         \u001b[0mattributes\u001b[0m \u001b[0;34m=\u001b[0m \u001b[0mself\u001b[0m\u001b[0;34m.\u001b[0m\u001b[0mattributes\u001b[0m\u001b[0;34m.\u001b[0m\u001b[0mget_extensive_attribute_storage\u001b[0m\u001b[0;34m(\u001b[0m\u001b[0;34m)\u001b[0m\u001b[0;34m\u001b[0m\u001b[0;34m\u001b[0m\u001b[0m\n\u001b[1;32m    132\u001b[0m         \u001b[0;32mif\u001b[0m \u001b[0menable_breakup\u001b[0m\u001b[0;34m:\u001b[0m\u001b[0;34m\u001b[0m\u001b[0;34m\u001b[0m\u001b[0m\n\u001b[0;32m--> 133\u001b[0;31m             self.backend.collision_coalescence_breakup(\n\u001b[0m\u001b[1;32m    134\u001b[0m                 \u001b[0mmultiplicity\u001b[0m\u001b[0;34m=\u001b[0m\u001b[0mmultiplicity\u001b[0m\u001b[0;34m,\u001b[0m \u001b[0midx\u001b[0m\u001b[0;34m=\u001b[0m\u001b[0midx\u001b[0m\u001b[0;34m,\u001b[0m \u001b[0mattributes\u001b[0m\u001b[0;34m=\u001b[0m\u001b[0mattributes\u001b[0m\u001b[0;34m,\u001b[0m \u001b[0mgamma\u001b[0m\u001b[0;34m=\u001b[0m\u001b[0mgamma\u001b[0m\u001b[0;34m,\u001b[0m \u001b[0mrand\u001b[0m\u001b[0;34m=\u001b[0m\u001b[0mrand\u001b[0m\u001b[0;34m,\u001b[0m\u001b[0;34m\u001b[0m\u001b[0;34m\u001b[0m\u001b[0m\n\u001b[1;32m    135\u001b[0m                 \u001b[0mEc\u001b[0m\u001b[0;34m=\u001b[0m\u001b[0mEc\u001b[0m\u001b[0;34m,\u001b[0m \u001b[0mEb\u001b[0m\u001b[0;34m=\u001b[0m\u001b[0mEb\u001b[0m\u001b[0;34m,\u001b[0m \u001b[0mn_fragment\u001b[0m\u001b[0;34m=\u001b[0m\u001b[0mn_fragment\u001b[0m\u001b[0;34m,\u001b[0m \u001b[0mhealthy\u001b[0m\u001b[0;34m=\u001b[0m\u001b[0mhealthy\u001b[0m\u001b[0;34m,\u001b[0m \u001b[0mcell_id\u001b[0m\u001b[0;34m=\u001b[0m\u001b[0mcell_id\u001b[0m\u001b[0;34m,\u001b[0m\u001b[0;34m\u001b[0m\u001b[0;34m\u001b[0m\u001b[0m\n",
      "\u001b[0;32m~/Documents/PySDM/PySDM/backends/impl_numba/methods/collisions_methods.py\u001b[0m in \u001b[0;36mcollision_coalescence_breakup\u001b[0;34m(self, multiplicity, idx, attributes, gamma, rand, Ec, Eb, n_fragment, healthy, cell_id, coalescence_rate, breakup_rate, is_first_in_pair)\u001b[0m\n\u001b[1;32m    207\u001b[0m         )\n\u001b[1;32m    208\u001b[0m         \u001b[0;32mif\u001b[0m \u001b[0;32mnot\u001b[0m \u001b[0msuccess\u001b[0m\u001b[0;34m:\u001b[0m\u001b[0;34m\u001b[0m\u001b[0;34m\u001b[0m\u001b[0m\n\u001b[0;32m--> 209\u001b[0;31m             \u001b[0;32mraise\u001b[0m \u001b[0mException\u001b[0m\u001b[0;34m(\u001b[0m\u001b[0;34mf\"Breakup step failed due to multiplicity exceeding maximum allowed\"\u001b[0m\u001b[0;34m)\u001b[0m\u001b[0;34m\u001b[0m\u001b[0;34m\u001b[0m\u001b[0m\n\u001b[0m\u001b[1;32m    210\u001b[0m \u001b[0;34m\u001b[0m\u001b[0m\n\u001b[1;32m    211\u001b[0m     \u001b[0;34m@\u001b[0m\u001b[0mstaticmethod\u001b[0m\u001b[0;34m\u001b[0m\u001b[0;34m\u001b[0m\u001b[0m\n",
      "\u001b[0;31mException\u001b[0m: Breakup step failed due to multiplicity exceeding maximum allowed"
     ]
    }
   ],
   "source": [
    "t = settings.output_steps\n",
    "moments = np.zeros((3, len(t)))\n",
    "j = 0\n",
    "for step in settings.output_steps:\n",
    "    particulator.run(step - particulator.n_steps)\n",
    "    moments[:,j] = [particulator.products['M0'].get()[0], particulator.products['M1'].get()[0], \n",
    "        particulator.products['M2'].get()[0]]\n",
    "    j += 1\n",
    "    print(particulator.attributes['n'].to_ndarray())\n",
    "fig, ax = pyplot.subplots(1, 3)\n",
    "ax[0].plot(t,moments[0,:])\n",
    "ax[1].plot(t,moments[1,:]*moments[0,:])\n",
    "ax[2].plot(t,moments[2,:]*moments[0,:])"
   ]
  },
  {
   "cell_type": "code",
   "execution_count": null,
   "metadata": {},
   "outputs": [],
   "source": []
  },
  {
   "cell_type": "code",
   "execution_count": null,
   "metadata": {},
   "outputs": [],
   "source": []
  }
 ],
 "metadata": {
  "interpreter": {
   "hash": "b43cf254c70d60c2e21a7f71ba113e70c1694742e72407132919c841d907074b"
  },
  "kernelspec": {
   "display_name": "Python 3.9.4 ('edjPySDM')",
   "language": "python",
   "name": "python3"
  },
  "language_info": {
   "codemirror_mode": {
    "name": "ipython",
    "version": 3
   },
   "file_extension": ".py",
   "mimetype": "text/x-python",
   "name": "python",
   "nbconvert_exporter": "python",
   "pygments_lexer": "ipython3",
   "version": "3.9.4"
  },
  "orig_nbformat": 4
 },
 "nbformat": 4,
 "nbformat_minor": 2
}
