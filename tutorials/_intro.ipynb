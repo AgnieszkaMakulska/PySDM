{
 "cells": [
  {
   "cell_type": "markdown",
   "metadata": {
    "slideshow": {
     "slide_type": "skip"
    }
   },
   "source": [
    "note that this notebook can be viewed as a slideshow triggered by: File -> Download as -> Reveal.js slides (.html)"
   ]
  },
  {
   "cell_type": "markdown",
   "metadata": {
    "slideshow": {
     "slide_type": "slide"
    }
   },
   "source": [
    "## SuperDroplets tutorial: Intro\n",
    "### authors: see [github.com/atsmo-cloud-sim-uj](http://github.com/atmos-cloud-sim-uj/SuperDroplets/blob/masterAUTHORS)\n",
    "### copyright: Jagiellonian University\n",
    "#### tutorial licence: CC-BY"
   ]
  },
  {
   "cell_type": "markdown",
   "metadata": {
    "slideshow": {
     "slide_type": "slide"
    }
   },
   "source": [
    "#### *SuperDroplets* package implements particle-based methods for simulations of atmospheric aerosol-cloud-rain microphysics\n",
    "(at present limitted to ice-free processes)\n",
    "\n",
    "### The crux of the simulations is to compute the evolution of:\n",
    "- (i) thermo- and hydro-dynamic properties of moist air in which the particles are immersed (moisture, heat, momentum, ...),\n",
    "- (ii) physicochemical properties of the aerosol/cloud/drizzle/precipitation particles (size, hygroscopicity, ...)."
   ]
  },
  {
   "cell_type": "markdown",
   "metadata": {
    "slideshow": {
     "slide_type": "subslide"
    }
   },
   "source": [
    "### The particle-based ansatz in a nutshell:\n",
    "- the particles are modelled as point-like objects called **super-droplets**   \n",
    " (with the $i$-th super-droplet representing a multiplicity $n^{[i]}$ of its real-world counterparts with identical radius properties such as radius $r^{[i]}$, ...);\n",
    "\n",
    "- the **ambient air** is modelled as a continuum medium   \n",
    "  (characterised by tempreture $T$, pressure $p=p_d+p_v$, density $\\rho=\\rho_d+\\rho_v$ with $d$ and $v$ denoting dry air and water vapour, respectively);\n",
    "\n",
    "- there is **biderectional coupling** between the ambient air and particles   \n",
    "  (in particular: air humidity drives particle growth, latent heat release alters the air temperature)."
   ]
  },
  {
   "cell_type": "markdown",
   "metadata": {
    "slideshow": {
     "slide_type": "subslide"
    }
   },
   "source": [
    "### The following model state description is embraced:\n",
    "- moist air thermodynamic variables: \n",
    "  - dry-air potential temperature (see [Constants](constants.ipynb) for definition of $p_{1000}$, $R_d$, $c_{pd}$ ):   \n",
    "    $\\theta_d=T\\left(\\frac{p_{1000}}{p_d}\\right)^{\\frac{R_d}{c_{pd}}}$, \n",
    "  - water vapour mixing ratio:   \n",
    "    $q_v=\\frac{\\rho_v}{\\rho_d}$\n",
    "    \n",
    "- attributes of $i$-th super-droplet:\n",
    "  - multiplicity: $n_i$\n",
    "  - extensive attributes:\n",
    "    - volume: $v^{[i]}=\\frac{4}{3} \\pi (r^{[i]})^3$\n",
    "    - nucleus volume (related with dry radius $r_d^{[i]}$): $\\frac{4}{3} \\pi (r_d^{[i]})^3$\n",
    "  - intensive attributes:\n",
    "    - particle temperature: $T^{[i]}$"
   ]
  },
  {
   "cell_type": "markdown",
   "metadata": {
    "slideshow": {
     "slide_type": "slide"
    }
   },
   "source": [
    "### Evolution of model state is driven by the following processes:\n",
    "\n",
    "* particle collisional growth governed by the **Smoluchowski's** coagulation equation:\n",
    "\n",
    "  $\\frac{d}{dt} {n}^{[i]} = \\sum_{j=1}^{i-1} {\\frac{a_{j, i-j}}{2} c_j c_{i-j}} \\sum_{j=1}^{\\infty} {a_{j, i-j} c_i c_j}$\n",
    "\n",
    "  ... stochastic ... (see [Coalescence](Coalescence.ipynb)):        \n",
    "\n",
    "* particle diffusional growth governed by ODEs stemming from **Fick's** and **Fourier's** laws (see [Condensation](Condensation.ipynb)):   \n",
    "  $\\frac{d}{dt} \\left[\\begin{eqnarray} \n",
    "    r^{[i]} \\\\ \n",
    "    T^{[i]} \\\\ \n",
    "    \\vdots \\\\\n",
    "    \\rho_d \\\\\n",
    "    \\theta_d^{[c]} \\\\ \n",
    "    q_v^{[c]}\n",
    "  \\end{eqnarray} \\right]$\n",
    "  $=\\left[\\begin{eqnarray} \n",
    "    \\frac{1}{r} \\frac{\\rho_v - \\rho_v}{} \\\\ \n",
    "    \\frac{1}{c_{pl}}  \\\\ \n",
    "    \\vdots \\\\ \n",
    "    A_\\rho \\\\\n",
    "    A_\\theta + \\sum\\limits_i{...} ... \\\\ \n",
    "    A_q  - 4  \\pi\\rho_w / M_d\\sum\\limits_i   (r^{[i]})^2  \\frac{d}{dt} r^{[i]}\\\\ \n",
    "  \\end{eqnarray}\\right]$\n",
    "\n",
    "* ambient air dynamics described with:\n",
    "  - PDEs in the case of Eulerian environment (see, e.g., [Kinematic 2D setups](kinematic_2D_setups.ipynb)):   \n",
    "    $A_\\rho = \\partial_t\\rho_d = -\\nabla\\cdot(\\vec{u}\\rho_d)=0$   \n",
    "    $A_q = \\partial_t (q_v) = - \\frac{1}{\\rho_d } \\nabla \\cdot (\\vec{u} \\rho_d q_v)$   \n",
    "    $A_\\theta = \\partial_t (\\theta_d) = - \\frac{1}{\\rho_d } \\nabla \\cdot (\\vec{u} \\rho_d \\theta_d)$\n",
    "\n",
    "  - ODEs in the case of Lagrangian environments (see, e.g., [Parcel setups](parcel_setups.ipynb)):    \n",
    "    $A_\\rho=\\dot{\\rho}_d = ...$   \n",
    "    $A_q = 0$   \n",
    "    $A_\\theta = 0$\n",
    "\n",
    "\n"
   ]
  },
  {
   "cell_type": "code",
   "execution_count": null,
   "metadata": {},
   "outputs": [],
   "source": []
  },
  {
   "cell_type": "code",
   "execution_count": null,
   "metadata": {},
   "outputs": [],
   "source": []
  },
  {
   "cell_type": "code",
   "execution_count": null,
   "metadata": {},
   "outputs": [],
   "source": []
  }
 ],
 "metadata": {
  "celltoolbar": "Slideshow",
  "kernelspec": {
   "display_name": "Python 3",
   "language": "python",
   "name": "python3"
  },
  "language_info": {
   "codemirror_mode": {
    "name": "ipython",
    "version": 3
   },
   "file_extension": ".py",
   "mimetype": "text/x-python",
   "name": "python",
   "nbconvert_exporter": "python",
   "pygments_lexer": "ipython3",
   "version": "3.6.6"
  }
 },
 "nbformat": 4,
 "nbformat_minor": 2
}
