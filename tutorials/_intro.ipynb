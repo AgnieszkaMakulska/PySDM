{
 "cells": [
  {
   "cell_type": "markdown",
   "metadata": {
    "slideshow": {
     "slide_type": "skip"
    }
   },
   "source": [
    "note that this notebook can be viewed as a slideshow triggered by: File -> Download as -> Reveal.js slides (.html)"
   ]
  },
  {
   "cell_type": "markdown",
   "metadata": {
    "slideshow": {
     "slide_type": "slide"
    }
   },
   "source": [
    "## SuperDroplets tutorial: Intro\n",
    "### authors: see [github.com/atsmo-cloud-sim-uj](http://github.com/atmos-cloud-sim-uj/SuperDroplets/blob/masterAUTHORS)\n",
    "### copyright: Jagiellonian University\n",
    "#### tutorial licence: CC-BY"
   ]
  },
  {
   "cell_type": "markdown",
   "metadata": {
    "slideshow": {
     "slide_type": "slide"
    }
   },
   "source": [
    "#### *SuperDroplets* package implements particle-based methods for simulations of atmospheric aerosol-cloud-rain microphysics\n",
    "(at present limitted to ice-free processes)\n",
    "\n",
    "### The crux of the simulations is to compute the evolution of:\n",
    "- (i) thermo- and hydro-dynamic properties of moist air in which the particles are immersed (moisture, heat, momentum, ...),\n",
    "- (ii) physicochemical properties of the aerosol/cloud/drizzle/precipitation particles (size, hygroscopicity, ...)."
   ]
  },
  {
   "cell_type": "markdown",
   "metadata": {
    "slideshow": {
     "slide_type": "subslide"
    }
   },
   "source": [
    "### The particle-based ansatz in a nutshell:\n",
    "- the particles are modelled as point-like objects called **super-droplets**   \n",
    " (with the $i$-th super-droplet representing a multiplicity $n^{[i]}$ of its real-world counterparts with identical radius properties such as radius $r^{[i]}$, ...);\n",
    "\n",
    "- the **ambient air** is modelled as a continuum medium   \n",
    "  (characterised by tempreture $T$, pressure $p=p_d+p_v$, density $\\rho=\\rho_d+\\rho_v$ with $d$ and $v$ denoting dry air and water vapour, respectively);\n",
    "\n",
    "- there is **biderectional coupling** between the ambient air and particles   \n",
    "  (in particular: air humidity drives particle growth, latent heat release alters the air temperature)."
   ]
  },
  {
   "cell_type": "markdown",
   "metadata": {
    "slideshow": {
     "slide_type": "subslide"
    }
   },
   "source": [
    "### The following model state description is embraced:\n",
    "- moist air thermodynamic variables: \n",
    "  - dry-air potential temperature (see [Constants](constants.ipynb) for definition of $p_{1000}$, $R_d$, $c_{pd}$ ):   \n",
    "    $\\theta_d=T\\left(\\frac{p_{1000}}{p_d}\\right)^{\\frac{R_d}{c_{pd}}}$, \n",
    "  - water vapour mixing ratio:   \n",
    "    $q_v=\\frac{\\rho_v}{\\rho_d}$\n",
    "    \n",
    "- attributes of $i$-th super-droplet:\n",
    "  - multiplicity: $n_i$\n",
    "  - extensive attributes:\n",
    "    - volume: $v^{[i]}=\\frac{4}{3} \\pi (r^{[i]})^3$\n",
    "    - nucleus volume (related with dry radius $r_d^{[i]}$): $\\frac{4}{3} \\pi (r_d^{[i]})^3$\n",
    "  - intensive attributes:\n",
    "    - particle temperature: $T^{[i]}$"
   ]
  },
  {
   "cell_type": "markdown",
   "metadata": {
    "slideshow": {
     "slide_type": "slide"
    }
   },
   "source": [
    "### Evolution of model state is described by:\n",
    "\n",
    "* note on notation for differentiation:\n",
    "  - Newton's (dot) notations is used to depict variations due to particle-level processes\n",
    "  - partial derivatives (for Eulerian setups) and Euler's notation (for Lagrangian setups) are used to depict variations due to transport\n",
    "\n",
    "\n",
    "* prognostic equations for ambient air properties:\n",
    "  - PDEs in the case of Eulerian environment (see, e.g., [Kinematic 2D setups](kinematic_2D_setups.ipynb)):   \n",
    "    $\\partial_t (\\rho_d q_v) + ... = \\dot{q}_v$\n",
    "  - ODEs in the case of Lagrangian environments (see, e.g., [Parcel setups](parcel_setups.ipynb)):    \n",
    "    $\\frac{d}{dt} q_v = ... + \\dot{q}_v$\n",
    "\n",
    "* ODEs stemming from **Fick's** and **Fourier's** laws for $i$-th particle (see [Condensation](Condensation.ipynb)):   \n",
    "  $\\frac{d}{dt} \\left[\\begin{eqnarray} \n",
    "    r^{[i]} \\\\ T^{[i]} \\\\ \\vdots \\\\ \\theta_d^{[c]} \\\\ q_v^{[c]}\n",
    "  \\end{eqnarray} \\right]$\n",
    "  $=...$\n",
    "\n",
    "* stochastic representation congruent (to an extent) with **Smoluchowski's** coagulation equation (see [Coalescence](Coalescence.ipynb)):   \n",
    "  $\\dot{n}^{[i]} = ...$\n"
   ]
  },
  {
   "cell_type": "code",
   "execution_count": null,
   "metadata": {},
   "outputs": [],
   "source": []
  },
  {
   "cell_type": "code",
   "execution_count": null,
   "metadata": {},
   "outputs": [],
   "source": []
  },
  {
   "cell_type": "code",
   "execution_count": null,
   "metadata": {},
   "outputs": [],
   "source": []
  }
 ],
 "metadata": {
  "celltoolbar": "Slideshow",
  "kernelspec": {
   "display_name": "Python 3",
   "language": "python",
   "name": "python3"
  },
  "language_info": {
   "codemirror_mode": {
    "name": "ipython",
    "version": 3
   },
   "file_extension": ".py",
   "mimetype": "text/x-python",
   "name": "python",
   "nbconvert_exporter": "python",
   "pygments_lexer": "ipython3",
   "version": "3.7.2+"
  }
 },
 "nbformat": 4,
 "nbformat_minor": 2
}
