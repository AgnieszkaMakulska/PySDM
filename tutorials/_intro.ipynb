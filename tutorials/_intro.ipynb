{
 "cells": [
  {
   "cell_type": "markdown",
   "metadata": {
    "slideshow": {
     "slide_type": "skip"
    }
   },
   "source": [
    "note that this notebook can be viewed as a slideshow triggered by: File -> Download as -> Reveal.js slides (.html)"
   ]
  },
  {
   "cell_type": "markdown",
   "metadata": {
    "slideshow": {
     "slide_type": "slide"
    }
   },
   "source": [
    "## PySDM tutorial: Intro\n",
    "### authors: see [github.com/atmos-cloud-sim-uj](https://github.com/atmos-cloud-sim-uj/PySDM/graphs/contributors)\n",
    "### copyright: Jagiellonian University\n",
    "#### tutorial licence: CC-BY"
   ]
  },
  {
   "cell_type": "markdown",
   "metadata": {
    "slideshow": {
     "slide_type": "slide"
    }
   },
   "source": [
    "### *PySDM* : particle-based (a.k.a. super-droplet) simulations of atmospheric cloud microphysics\n",
    "\n",
    "The package features a Pythonic implementation of the Super-Droplet Method (SDM) Monte-Carlo algorithm, hence the name.\n",
    "\n",
    "PySDM simulates the dynamics of population of particles immersed in moist air. Depending on their size, the simulated particles are referred to as:\n",
    "- atmospheric aerosol (sub-micrometre particles, acting as nuclei for condensation of water vapour),\n",
    "- cloud droplets (with radius in the 1 to 100 micrometre range, with negligible fall speed), \n",
    "- rain drops (larger precipitating particles formed by collisions).\n",
    "\n",
    "### The crux of the simulations is to compute the evolution of:\n",
    "- physicochemical properties of the aerosol/cloud/rain particles (size, nucleus properties, ...),\n",
    "- thermo- and hydro-dynamic properties of the surrounding air (moisture, heat, momentum, ...).\n"
   ]
  },
  {
   "cell_type": "markdown",
   "metadata": {
    "slideshow": {
     "slide_type": "slide"
    }
   },
   "source": [
    "### The particle-based ansatz in a nutshell:\n",
    "- the particles are modelled as point-like objects called **super-droplets**   \n",
    " (with each super-droplet representing a multiplicity $n$ of its real-world counterparts with identical properties such as radius $r$, nucleus radius $r_d$, ...);\n",
    "\n",
    "- the **ambient air** is modelled as a perfect gas mixture of dry air and water vapour   \n",
    "  (characterised by tempreture $T$, total and partial pressures $p=p_d+p_v$, density $\\rho=\\rho_d+\\rho_v$, with $d$ and $v$ denoting dry-air and water-vapour, respectively);\n",
    "\n",
    "- there is **biderectional coupling** between the ambient air and the particles   \n",
    "  (in particular: moisture present in the air drives particle growth by condensation, concurrent latent heat release alters the air temperature)."
   ]
  },
  {
   "cell_type": "markdown",
   "metadata": {
    "slideshow": {
     "slide_type": "slide"
    }
   },
   "source": [
    "### The following model state description is embraced:\n",
    "- moist air thermodynamic variables (see [Constants](constants.ipynb) for definition of $p_{1000}$, $R_d$, $c_{pd}$): \n",
    "  - dry-air density: $\\rho_d$,\n",
    "  - dry-air potential temperature: $\\theta_d=T/\\Pi=T\\left(\\frac{p_{1000}}{p_d}\\right)^{\\frac{R_d}{c_{pd}}}$, \n",
    "  - water vapour mixing ratio: $q_v=\\frac{\\rho_v}{\\rho_d}$,\n",
    "    \n",
    "- attributes of $i$-th super-droplet:\n",
    "  - multiplicity: $n^{[i]}$,\n",
    "  - extensive attributes: particle volume $v^{[i]}$, nucleus volume, ...,\n",
    "  - intensive attributes"
   ]
  },
  {
   "cell_type": "markdown",
   "metadata": {
    "slideshow": {
     "slide_type": "slide"
    }
   },
   "source": [
    "### Particle dynamics: collisional growth\n",
    "\n",
    "Collisional growth is commonly modelled by the **Smoluchowski's coagulation equation** [^1]:\n",
    "\n",
    "$\\begin{eqnarray}\n",
    "\\frac{d}{dt}{c_i} = \\frac{1}{2} \\sum\\limits_{j=1}^{i-1} a_{j, i-j} c_j c_{i-j} - \\sum\\limits_{j=1}^{\\infty} a_{j, i} c_j c_i\n",
    "\\end{eqnarray}$\n",
    "\n",
    "where $a_{i,j}$ is a so-called kernel defining rate of collisions and $c_i$ is the number concentration (in a volume of air) of the particles with volume $i \\cdot \\Delta v$ where $\\Delta v$ is a droplet volume increment.\n",
    "\n",
    "Note that $c_i$ will correspond to super-droplet multiplicity $n^{[i]}$ (in a unit volume of air) if:\n",
    "- $v^{[i]} = i \\cdot \\Delta v$,\n",
    "- $v^{[i]}$ does not change in time.\n",
    "\n",
    "In order to relax the above conditions, a congruent stochastic formulation solved with a Monte-Carlo algorithm is used in PySDM  (see [Coalescence](coalescence.ipynb)).\n",
    "\n",
    "[^1]: formulated as continuum integro-differential equation in [Smoluchowski 1916](references.ipynb) under the assumptions of sufficiently large system and of neglected correlations between numbers of droplets of different sizes  "
   ]
  },
  {
   "cell_type": "markdown",
   "metadata": {
    "slideshow": {
     "slide_type": "slide"
    }
   },
   "source": [
    "### Particle dynamics: diffusional growth (1/2)\n",
    "\n",
    "Diffusional growth is modelled with the **Fick's** law of diffusion depicting the proportionality of the flux of mass of vapour per surface of droplet of radius $r$ to the gradient of vapour density (ambient $\\rho_v=q_v \\rho_d$ vs. particle surface $\\rho_\\circ$):\n",
    "\n",
    "$\\begin{eqnarray}\n",
    "\\frac{\\dot{m}}{4 \\pi r^2} =  \n",
    "  D \\frac{q_\\text{v}\\rho_d - \\rho_\\circ\\left(r, \\rho_d, \\theta_d, q_v\\right)}{r}\n",
    "\\end{eqnarray}$\n",
    "\n",
    "The $\\rho_\\circ$ is the water vapour density at the droplet surface assuming equilibrium of liquid and vapour phases (see [Condensation](Condensation.ipynb))."
   ]
  },
  {
   "cell_type": "markdown",
   "metadata": {
    "slideshow": {
     "slide_type": "slide"
    }
   },
   "source": [
    "### Particle dynamics: diffusional growth (2/2)\n",
    "\n",
    "Growth of droplets is coupled with the evolution of ambient air thermodynamic properties with:\n",
    "\n",
    "  $\\frac{d}{dt} \\left[\\begin{eqnarray} \n",
    "    v^{[i]} \\\\ \n",
    "    \\vdots \\\\\n",
    "    \\rho_d \\\\\n",
    "    \\\\\n",
    "    \\theta_d \\\\ \n",
    "    \\\\\n",
    "    q_v\n",
    "    \\\\\n",
    "    ~\n",
    "  \\end{eqnarray} \\right]$\n",
    "  $=\\left[\\begin{eqnarray} \n",
    "    \\dot{m}(v^{[i]}, \\rho_d, \\theta_d, q_v) / \\rho_l\\\\\n",
    "    \\vdots \\\\ \n",
    "    \\partial_t \\rho_d \\\\\n",
    "    \\\\\n",
    "    -\\frac{l_v(T)}{c_p(q_v)} \\frac{dq_v}{dt} \\frac{1}{\\Pi(\\rho_d, \\theta_d)} + \\partial_t \\theta_d  \\\\ \n",
    "     -\\frac{\\rho_l}{\\rho_d} \\frac{1}{\\Delta V} \\sum\\limits_i n^{[i]} \\frac{dv^{[i]}}{dt} + \\partial_t q_v\n",
    "  \\end{eqnarray}\\right]$\n",
    "\n",
    "The $\\partial_t$ derivatives denote tendencies due to ambient air motion, $l_v(T)$ is the latent heat of evaporation, $c_p()$ ... $\\Pi$ is the Exner function."
   ]
  },
  {
   "cell_type": "markdown",
   "metadata": {
    "slideshow": {
     "slide_type": "slide"
    }
   },
   "source": [
    "### Ambient air dynamics\n",
    "\n",
    "- PDEs in the case of Eulerian environment TODO (see, e.g., [Kinematic 2D setups](kinematic_2D_setups.ipynb)):   \n",
    "$\\partial_t\\rho_d = -\\nabla\\cdot(\\vec{u}\\rho_d)=0$   \n",
    "$\\partial_t q_v = - \\frac{1}{\\rho_d } \\nabla \\cdot (\\vec{u} \\rho_d q_v)$   \n",
    "$\\partial_t \\theta_d = - \\frac{1}{\\rho_d } \\nabla \\cdot (\\vec{u} \\rho_d \\theta_d)$\n",
    "\n",
    "- ODEs in the case of Lagrangian environments (see, e.g., [Parcel setups](parcel_setups.ipynb)):    \n",
    "$\\partial_t \\rho_d=\\dot{\\rho}_d = ...$   \n",
    "$\\partial_t q_v = 0$   \n",
    "$\\partial_t \\theta_d = 0$\n",
    "\n",
    "The above justifies the choice of ($\\rho_d$, $\\theta_d$, $q_v$) state variable triplet."
   ]
  },
  {
   "cell_type": "code",
   "execution_count": null,
   "metadata": {
    "slideshow": {
     "slide_type": "notes"
    }
   },
   "outputs": [],
   "source": []
  }
 ],
 "metadata": {
  "celltoolbar": "Slideshow",
  "kernelspec": {
   "display_name": "Python 3",
   "language": "python",
   "name": "python3"
  },
  "language_info": {
   "codemirror_mode": {
    "name": "ipython",
    "version": 3
   },
   "file_extension": ".py",
   "mimetype": "text/x-python",
   "name": "python",
   "nbconvert_exporter": "python",
   "pygments_lexer": "ipython3",
   "version": "3.6.6"
  }
 },
 "nbformat": 4,
 "nbformat_minor": 2
}
