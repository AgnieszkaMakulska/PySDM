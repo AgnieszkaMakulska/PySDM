{
 "cells": [
  {
   "cell_type": "markdown",
   "metadata": {
    "slideshow": {
     "slide_type": "skip"
    }
   },
   "source": [
    "note that this notebook can be viewed as a slideshow triggered by: File -> Download as -> Reveal.js slides (.html)"
   ]
  },
  {
   "cell_type": "markdown",
   "metadata": {
    "slideshow": {
     "slide_type": "slide"
    }
   },
   "source": [
    "# PySDM tutorial: Intro\n",
    "### authors: see [github.com/atmos-cloud-sim-uj](https://github.com/atmos-cloud-sim-uj/PySDM/graphs/contributors)\n",
    "### copyright: Jagiellonian University\n",
    "    \n",
    "    \n",
    "#### tutorial licence: CC-BY\n",
    "#### tutorial files: [github.com/atmos-cloud-sim-uj/PySDM/tree/master/tutorials](https://github.com/atmos-cloud-sim-uj/PySDM/tree/master/tutorials)"
   ]
  },
  {
   "cell_type": "markdown",
   "metadata": {
    "slideshow": {
     "slide_type": "slide"
    }
   },
   "source": [
    "### *PySDM* : particle-based simulations of atmospheric cloud microphysics\n",
    "\n",
    "The package features a Pythonic implementation of the Super-Droplet Method (SDM) Monte-Carlo algorithm, hence the name.\n",
    "\n",
    "PySDM simulates the dynamics of population of particles immersed in moist air. Depending on their size, the simulated particles are referred to as:\n",
    "- atmospheric aerosol (sub-micrometre particles, acting as nuclei for condensation of water vapour),\n",
    "- cloud droplets (with radius in the 1 to 100 micrometre range, with negligible fall speed), \n",
    "- rain drops (larger precipitating particles formed by collisions)."
   ]
  },
  {
   "cell_type": "markdown",
   "metadata": {
    "slideshow": {
     "slide_type": "slide"
    }
   },
   "source": [
    "### The particle-based ansatz in a nutshell:\n",
    "- the particles are modelled as point-like objects called **super-droplets**   \n",
    " (with each super-droplet representing a multiplicity $n$ of its real-world counterparts with identical properties such as radius $\\color{blue}{r}$, nucleus radius $\\color{green}{r_d}$, ...);\n",
    "\n",
    "- the **ambient air** is modelled as a continuum medium - perfect gas mixture of dry air and water vapour (characterised by tempreture $\\color{red}{T}$, total and partial pressures $\\color{brown}{p}=p_\\text{d}+p_\\text{v}$, relative humidity $\\color{purple}{RH}=p_\\text{v}/p_{\\text{sat}}(T)$ and density $\\color{orange}{\\rho}=\\rho_\\text{d}+\\rho_\\text{v}$, with $\\text{d}$ and $\\text{v}$ denoting dry-air and water-vapour, respectively);\n",
    "\n",
    "- there is **biderectional coupling** between the ambient air and the particles   \n",
    "  (in particular: moisture present in the air drives particle growth by condensation, concurrent latent heat release alters the air temperature)."
   ]
  },
  {
   "cell_type": "markdown",
   "metadata": {
    "slideshow": {
     "slide_type": "slide"
    }
   },
   "source": [
    "### The following model state description is embraced:\n",
    "- moist air thermodynamic variables (see [Constants](constants.ipynb) for definition of $p_{1000}$, $R_\\text{d}$, $c_{\\text{pd}}$): \n",
    "  - dry-air density: $\\color{orange}{\\rho_\\text{d}}$,\n",
    "  - dry-air potential temperature: $\\color{red}{\\theta_\\text{d}}=T/\\Pi=T\\left(\\frac{p_{1000}}{p_\\text{d}}\\right)^{\\frac{R_\\text{d}}{c_{p\\text{d}}}}$, \n",
    "  - water vapour mixing ratio: $\\color{green}{q_\\text{v}}=\\frac{\\rho_\\text{v}}{\\rho_\\text{d}}$,\n",
    "    \n",
    "- attributes of $i$-th super-droplet:\n",
    "  - multiplicity: $n^{[i]}$,\n",
    "  - spatial coordinates (x,y,z), \n",
    "  - extensive attributes: particle volume $v^{[i]}$, nucleus volume, ...,\n",
    "  - intensive attributes: ..."
   ]
  },
  {
   "cell_type": "markdown",
   "metadata": {
    "slideshow": {
     "slide_type": "slide"
    }
   },
   "source": [
    "### Particle dynamics: collisional growth\n",
    "\n",
    "Collisional growth is commonly modelled by the **Smoluchowski's coagulation equation** (formulated under the assumptions of sufficiently large system and of neglected correlations between numbers of droplets of different sizes):\n",
    "\n",
    "\\begin{eqnarray}\n",
    "\\frac{d}{dt}{c_i} = \\frac{1}{2} \\sum\\limits_{j=1}^{i-1} a_{j, i-j} c_j c_{i-j} - \\sum\\limits_{j=1}^{\\infty} a_{j, i} c_j c_i\n",
    "\\end{eqnarray}\n",
    "\n",
    "where $a_{i,j}$ is a so-called kernel defining rate of collisions and $c_i$ is the number concentration (in a volume of air) of the particles with volume $i \\cdot \\Delta v$ where $\\Delta v$ is a droplet volume increment.\n",
    "\n",
    "Note that $c_i$ will correspond to super-droplet multiplicity $n^{[i]}$ (in a unit volume of air) if:\n",
    "- $v^{[i]} = i \\cdot \\Delta v$,\n",
    "- $v^{[i]}$ does not change in time.\n",
    "\n",
    "In order to relax the above conditions, a congruent stochastic formulation solved with a Monte-Carlo algorithm is used in PySDM  (see [Coalescence](coalescence.ipynb))."
   ]
  },
  {
   "cell_type": "markdown",
   "metadata": {
    "slideshow": {
     "slide_type": "slide"
    }
   },
   "source": [
    "### Particle dynamics: diffusional growth\n",
    "\n",
    "Diffusional growth is modelled with the **Fick's** law depicting the proportionality of the mass flux of vapour per surface of droplet of radius $r$ to the gradient of the vapour density (ambient $\\rho_v=q_v \\rho_d$ vs. phase equilibrium at particle surface $\\rho_\\circ$):\n",
    "\n",
    "\\begin{eqnarray}\n",
    "\\frac{\\dot{m}}{4 \\pi r^2} =  \n",
    "  D \\frac{q_\\text{v}\\rho_\\text{d} - \\rho_\\circ\\left(r, \\rho_\\text{d}, \\theta_\\text{d}, q_\\text{v}\\right)}{r}\n",
    "\\end{eqnarray}"
   ]
  },
  {
   "cell_type": "markdown",
   "metadata": {
    "slideshow": {
     "slide_type": "fragment"
    }
   },
   "source": [
    "Particle growth dynamics resulting from the radius dependence in $\\rho_\\circ$ have the following phase portrait $\\dot{\\xi}(\\xi)$, where $\\xi=r^2$ and $RH$ is the relative humidity:\n",
    "\n",
    "\\begin{eqnarray}\n",
    "  \\dot{\\xi} = (RH - 1) - a \\xi^{-1/2} + b \\xi^{-3/2}\n",
    "\\end{eqnarray}"
   ]
  },
  {
   "cell_type": "markdown",
   "metadata": {
    "slideshow": {
     "slide_type": "fragment"
    }
   },
   "source": [
    "![Arabas_and_Shima_2017_Fig1](pics/Arabas_and_Shima_2017_Fig1.svg)"
   ]
  },
  {
   "cell_type": "markdown",
   "metadata": {
    "slideshow": {
     "slide_type": "slide"
    }
   },
   "source": [
    "### Particles-ambient air coupling\n",
    "\n",
    "Two simplest frameworks: adiabatic parcel model and a kinematic flow:\n",
    "\n",
    "$\\begin{eqnarray}\n",
    "\\text{Lagrangian (adiabatic):}\\\\\n",
    "\\color{red}{\\partial_t \\rho_\\text{d}}=\\dot{\\rho}_\\text{d}(t) \\\\\n",
    "\\color{blue}{\\partial_t q_\\text{v}} = 0 \\\\\n",
    "\\color{green}{\\partial_t \\theta_\\text{d}} = 0\\\\\n",
    "\\text{Eulerian (nondivergent):}\\\\\n",
    "\\color{red}{\\partial_t\\rho_\\text{d}} = 0 = -\\nabla\\cdot(\\vec{u}\\rho_\\text{d}) \\\\\n",
    "\\color{blue}{\\partial_t q_\\text{v}} = - \\rho_\\text{d}^{-1} \\nabla \\cdot (\\vec{u} \\rho_\\text{d} q_\\text{v}) \\\\\n",
    "\\color{green}{\\partial_t \\theta_\\text{d}} = - \\rho_\\text{d}^{-1} \\nabla \\cdot (\\vec{u} \\rho_\\text{d} \\theta_\\text{d})\n",
    "\\end{eqnarray}$\n",
    "$\\qquad$\n",
    "$\\frac{d}{dt} \\left[\\begin{eqnarray} \n",
    "    v^{[i]} \\\\ \n",
    "    \\vdots \\\\\n",
    "    \\rho_\\text{d} \\\\\n",
    "    \\\\\n",
    "    \\theta_\\text{d} \\\\ \n",
    "    \\\\\n",
    "    q_\\text{v}\n",
    "    \\\\\n",
    "    ~\n",
    "  \\end{eqnarray} \\right]$\n",
    "  $=\\left[\\begin{eqnarray} \n",
    "    \\dot{m}(v^{[i]}, \\rho_d, \\theta_\\text{d}, q_\\text{v}) / \\rho_l\\\\\n",
    "    \\vdots \\\\ \n",
    "    \\color{red}{\\partial_t \\rho_\\text{d}} \\\\\n",
    "    \\\\\n",
    "    -\\frac{l_v(T)}{c_p(q_\\text{v})} \\frac{dq_\\text{v}}{dt} \\frac{1}{\\Pi(\\rho_\\text{d}, \\theta_\\text{d})} + \\color{blue}{\\partial_t \\theta_\\text{d}}  \\\\ \n",
    "     -\\frac{\\rho_l}{\\rho_\\text{d}} \\frac{1}{\\Delta V} \\sum\\limits_i n^{[i]} \\frac{dv^{[i]}}{dt} + \\color{green}{\\partial_t q_\\text{v}}\n",
    "  \\end{eqnarray}\\right]$\n",
    "\n",
    "where $l_v(T)$ is the latent heat of evaporation, $c_p(q_\\text{v})$ is the specific heat of moist air and $\\Delta V$ is the grid cell or parcel volume."
   ]
  },
  {
   "cell_type": "markdown",
   "metadata": {
    "slideshow": {
     "slide_type": "fragment"
    }
   },
   "source": [
    "In the Eulerian framework, particle positions evolve due sedimentation with terminal velocity $u_\\text{term}$ and due to advection with the flow: $$[\\dot{x}^{[i]}, \\dot{y}^{[i]}, \\dot{z}^{[i]}] = \\vec{u} + \\hat{e}_z u_\\text{term}(v^{[i]})$$"
   ]
  },
  {
   "cell_type": "code",
   "execution_count": null,
   "metadata": {
    "slideshow": {
     "slide_type": "skip"
    }
   },
   "outputs": [],
   "source": []
  }
 ],
 "metadata": {
  "celltoolbar": "Slideshow",
  "kernelspec": {
   "display_name": "Python 3",
   "language": "python",
   "name": "python3"
  },
  "language_info": {
   "codemirror_mode": {
    "name": "ipython",
    "version": 3
   },
   "file_extension": ".py",
   "mimetype": "text/x-python",
   "name": "python",
   "nbconvert_exporter": "python",
   "pygments_lexer": "ipython3",
   "version": "3.7.1"
  }
 },
 "nbformat": 4,
 "nbformat_minor": 2
}
