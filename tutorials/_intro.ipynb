{
 "cells": [
  {
   "cell_type": "markdown",
   "metadata": {
    "slideshow": {
     "slide_type": "skip"
    }
   },
   "source": [
    "note that this notebook can be viewed as a slideshow triggered by: File -> Download as -> Reveal.js slides (.html)"
   ]
  },
  {
   "cell_type": "markdown",
   "metadata": {
    "slideshow": {
     "slide_type": "slide"
    }
   },
   "source": [
    "## PySDM tutorial: Intro\n",
    "### authors: see [github.com/atmos-cloud-sim-uj](https://github.com/atmos-cloud-sim-uj/PySDM/graphs/contributors)\n",
    "### copyright: Jagiellonian University\n",
    "#### tutorial licence: CC-BY"
   ]
  },
  {
   "cell_type": "markdown",
   "metadata": {
    "slideshow": {
     "slide_type": "slide"
    }
   },
   "source": [
    "### *PySDM* : particle-based simulations of atmospheric cloud microphysics\n",
    "\n",
    "The package features a Pythonic implementation of the Super-Droplet Method (SDM) Monte-Carlo algorithm, hence the name.\n",
    "\n",
    "PySDM simulates the dynamics of population of particles immersed in moist air. Depending on their size, the simulated particles are referred to as:\n",
    "- atmospheric aerosol (sub-micrometre particles, acting as nuclei for condensation of water vapour),\n",
    "- cloud droplets (with radius in the 1 to 100 micrometre range, with negligible fall speed), \n",
    "- rain drops (larger precipitating particles formed by collisions)."
   ]
  },
  {
   "cell_type": "markdown",
   "metadata": {
    "slideshow": {
     "slide_type": "slide"
    }
   },
   "source": [
    "### The particle-based ansatz in a nutshell:\n",
    "- the particles are modelled as point-like objects called **super-droplets**   \n",
    " (with each super-droplet representing a multiplicity $n$ of its real-world counterparts with identical properties such as radius $r$, nucleus radius $r_d$, ...);\n",
    "\n",
    "- the **ambient air** is modelled as a continuum medium - perfect gas mixture of dry air and water vapour (characterised by temperature $T$, total and partial pressures $p=p_d+p_v$, relative humidity $RH=p_v/p_{\\text{sat}}(T)$ and density $\\rho=\\rho_d+\\rho_v$, with $d$ and $v$ denoting dry-air and water-vapour, respectively);\n",
    "\n",
    "- there is **bidirectional coupling** between the ambient air and the particles   \n",
    "  (in particular: moisture present in the air drives particle growth by condensation, concurrent latent heat release alters the air temperature)."
   ]
  },
  {
   "cell_type": "markdown",
   "metadata": {
    "slideshow": {
     "slide_type": "slide"
    }
   },
   "source": [
    "### The following model state description is embraced:\n",
    "- moist air thermodynamic variables (see [Constants](constants.ipynb) for definition of $p_{1000}$, $R_d$, $c_{pd}$): \n",
    "  - dry-air density: $\\rho_d$,\n",
    "  - dry-air potential temperature: $\\theta_d=T/\\Pi=T\\left(\\frac{p_{1000}}{p_d}\\right)^{\\frac{R_d}{c_{pd}}}$, \n",
    "  - water vapour mixing ratio: $q_v=\\frac{\\rho_v}{\\rho_d}$,\n",
    "    \n",
    "- attributes of $i$-th super-droplet:\n",
    "  - multiplicity: $n^{[i]}$,\n",
    "  - spatial coordinates (x,y,z), \n",
    "  - extensive attributes: particle volume $v^{[i]}$, nucleus volume, ...,\n",
    "  - intensive attributes: ..."
   ]
  },
  {
   "cell_type": "markdown",
   "metadata": {
    "slideshow": {
     "slide_type": "slide"
    }
   },
   "source": [
    "### Particle dynamics: collisional growth\n",
    "\n",
    "Collisional growth is commonly modelled by the **Smoluchowski's coagulation equation** (formulated as continuum integro-differential equation in [Smoluchowski 1916](references.ipynb) under the assumptions of sufficiently large system and of neglected correlations between numbers of droplets of different sizes):\n",
    "\n",
    "\\begin{eqnarray}\n",
    "\\frac{d}{dt}{c_i} = \\frac{1}{2} \\sum\\limits_{j=1}^{i-1} a_{j, i-j} c_j c_{i-j} - \\sum\\limits_{j=1}^{\\infty} a_{j, i} c_j c_i\n",
    "\\end{eqnarray}\n",
    "\n",
    "where $a_{i,j}$ is a so-called kernel defining rate of collisions and $c_i$ is the number concentration (in a volume of air) of the particles with volume $i \\cdot \\Delta v$ where $\\Delta v$ is a droplet volume increment.\n",
    "\n",
    "Note that $c_i$ will correspond to super-droplet multiplicity $n^{[i]}$ (in a unit volume of air) if:\n",
    "- $v^{[i]} = i \\cdot \\Delta v$,\n",
    "- $v^{[i]}$ does not change in time.\n",
    "\n",
    "In order to relax the above conditions, a congruent stochastic formulation solved with a Monte-Carlo algorithm is used in PySDM  (see [Coalescence](coalescence.ipynb))."
   ]
  },
  {
   "cell_type": "markdown",
   "metadata": {
    "slideshow": {
     "slide_type": "slide"
    }
   },
   "source": [
    "### Particle dynamics: diffusional growth\n",
    "\n",
    "Diffusional growth is modelled with the **Fick's** law depicting the proportionality of the mass flux of vapour per surface of droplet of radius $r$ to the gradient of the vapour density (ambient $\\rho_v=q_v \\rho_d$ vs. phase equilibrium at particle surface $\\rho_\\circ$):\n",
    "\n",
    "\\begin{eqnarray}\n",
    "\\frac{\\dot{m}}{4 \\pi r^2} =  \n",
    "  D \\frac{q_\\text{v}\\rho_d - \\rho_\\circ\\left(r, \\rho_d, \\theta_d, q_v\\right)}{r}\n",
    "\\end{eqnarray}"
   ]
  },
  {
   "cell_type": "markdown",
   "metadata": {
    "slideshow": {
     "slide_type": "fragment"
    }
   },
   "source": [
    "Particle growth dynamics resulting from the radius dependence in $\\rho_\\circ$ have the following phase portrait $\\dot{\\xi}(\\xi)$, where $\\xi=r^2$ and $RH$ is the relative humidity:\n",
    "\n",
    "\\begin{eqnarray}\n",
    "  \\dot{\\xi} = (RH - 1) - \\frac{a}{r} + \\frac{b}{r^3}\n",
    "\\end{eqnarray}"
   ]
  },
  {
   "cell_type": "markdown",
   "metadata": {
    "slideshow": {
     "slide_type": "fragment"
    }
   },
   "source": [
    "![Arabas_and_Shima_2017_Fig1](pics/Arabas_and_Shima_2017_Fig1.svg)"
   ]
  },
  {
   "cell_type": "markdown",
   "metadata": {
    "slideshow": {
     "slide_type": "slide"
    }
   },
   "source": [
    "### Particles-ambient air coupling\n",
    "\n",
    "Two simplest frameworks: adiabatic parcel model and a kinematic flow:\n",
    "\n",
    "$\\begin{eqnarray}\n",
    "\\text{Lagrangian (adiabatic):}\\\\\n",
    "\\color{red}{\\partial_t \\rho_d}=\\dot{\\rho}_d(z) \\\\\n",
    "\\color{blue}{\\partial_t q_v} = 0 \\\\\n",
    "\\color{green}{\\partial_t \\theta_d} = 0\\\\\n",
    "\\text{Eulerian (nondivergent):}\\\\\n",
    "\\color{red}{\\partial_t\\rho_d} = 0 = -\\nabla\\cdot(\\vec{u}\\rho_d) \\\\\n",
    "\\color{blue}{\\partial_t q_v} = - \\rho_d^{-1} \\nabla \\cdot (\\vec{u} \\rho_d q_v) \\\\\n",
    "\\color{green}{\\partial_t \\theta_d} = - \\rho_d^{-1} \\nabla \\cdot (\\vec{u} \\rho_d \\theta_d)\n",
    "\\end{eqnarray}$\n",
    "$\\qquad$\n",
    "$\\frac{d}{dt} \\left[\\begin{eqnarray} \n",
    "    v^{[i]} \\\\ \n",
    "    \\vdots \\\\\n",
    "    \\rho_d \\\\\n",
    "    \\\\\n",
    "    \\theta_d \\\\ \n",
    "    \\\\\n",
    "    q_v\n",
    "    \\\\\n",
    "    ~\n",
    "  \\end{eqnarray} \\right]$\n",
    "  $=\\left[\\begin{eqnarray} \n",
    "    \\dot{m}(v^{[i]}, \\rho_d, \\theta_d, q_v) / \\rho_l\\\\\n",
    "    \\vdots \\\\ \n",
    "    \\color{red}{\\partial_t \\rho_d} \\\\\n",
    "    \\\\\n",
    "    -\\frac{l_v(T)}{c_p(q_v)} \\frac{dq_v}{dt} \\frac{1}{\\Pi(\\rho_d, \\theta_d)} + \\color{blue}{\\partial_t \\theta_d}  \\\\ \n",
    "     -\\frac{\\rho_l}{\\rho_d} \\frac{1}{\\Delta V} \\sum\\limits_i n^{[i]} \\frac{dv^{[i]}}{dt} + \\color{green}{\\partial_t q_v}\n",
    "  \\end{eqnarray}\\right]$\n",
    "\n",
    "where $l_v(T)$ is the latent heat of evaporation, $c_p(q_\\text{v})$ is the specific heat of moist air."
   ]
  },
  {
   "cell_type": "markdown",
   "metadata": {
    "slideshow": {
     "slide_type": "fragment"
    }
   },
   "source": [
    "In the Eulerian framework, particle positions evolve due sedimentation with terminal velocity $u_\\text{term}$ and due to advection with the flow: $$[\\dot{x}^{[i]}, \\dot{y}^{[i]}, \\dot{z}^{[i]}] = \\vec{u} + \\hat{e}_z u_\\text{term}(v^{[i]})$$"
   ]
  },
  {
   "cell_type": "code",
   "execution_count": null,
   "metadata": {
    "slideshow": {
     "slide_type": "skip"
    }
   },
   "outputs": [],
   "source": []
  }
 ],
 "metadata": {
  "celltoolbar": "Slideshow",
  "kernelspec": {
   "display_name": "Python 3",
   "language": "python",
   "name": "python3"
  },
  "language_info": {
   "codemirror_mode": {
    "name": "ipython",
    "version": 3
   },
   "file_extension": ".py",
   "mimetype": "text/x-python",
   "name": "python",
   "nbconvert_exporter": "python",
   "pygments_lexer": "ipython3",
   "version": "3.6.6"
  }
 },
 "nbformat": 4,
 "nbformat_minor": 2
}
