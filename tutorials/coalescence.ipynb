{
 "cells": [
  {
   "cell_type": "markdown",
   "metadata": {
    "slideshow": {
     "slide_type": "skip"
    }
   },
   "source": [
    "note that this notebook can be viewed as a slideshow triggered by: File -> Download as -> Reveal.js slides (.html)"
   ]
  },
  {
   "cell_type": "markdown",
   "metadata": {
    "slideshow": {
     "slide_type": "slide"
    }
   },
   "source": [
    "## PySDM tutorial: Coalescence\n",
    "### authors: see [github.com/atmos-cloud-sim-uj](https://github.com/atmos-cloud-sim-uj/PySDM/graphs/contributors)\n",
    "### copyright: Jagiellonian University\n",
    "#### tutorial licence: CC-BY"
   ]
  },
  {
   "cell_type": "markdown",
   "metadata": {
    "slideshow": {
     "slide_type": "slide"
    }
   },
   "source": [
    "### Smoluchowski coagulation equation\n",
    "\n",
    "$\\begin{eqnarray}\n",
    "\\frac{d}{dt}{c_i} = \\frac{1}{2} \\sum\\limits_{j=1}^{i-1} a_{j, i-j} c_j c_{i-j} - \\sum\\limits_{j=1}^{\\infty} a_{j, i} c_j c_i\n",
    "\\end{eqnarray}$\n",
    "\n",
    "where $a_{i,j}$ is a so-called kernel defining rate of collisions and $c_i$ is the number concentration (in a volume of air) of the particles with volume $i \\cdot \\Delta v$ where $\\Delta v$ is a droplet volume increment.\n",
    "\n",
    "Note that $c_i$ will correspond to super-droplet multiplicity $n^{[i]}$ (in a unit volume of air) if:\n",
    "- $v^{[i]} = i \\cdot \\Delta v$,\n",
    "- $v^{[i]}$ does not change in time."
   ]
  },
  {
   "cell_type": "markdown",
   "metadata": {
    "slideshow": {
     "slide_type": "slide"
    }
   },
   "source": [
    "### Smoluchowski equation: example"
   ]
  },
  {
   "cell_type": "code",
   "execution_count": 10,
   "metadata": {
    "slideshow": {
     "slide_type": "skip"
    }
   },
   "outputs": [],
   "source": [
    "def smoluchowski(c, a, dt):\n",
    "    dc = [0]*len(c)\n",
    "    for i in range(len(c)):\n",
    "        dc[i] = (\n",
    "            1/2 * sum([a[j][i-j-1] * c[j] * c[i-j-1] for j in range(i)]) \n",
    "                - sum([a[j][i]   * c[j] * c[i]   for j in range(len(c))])\n",
    "        )\n",
    "    for i in range(len(c)):\n",
    "        c[i] += dc[i] * dt "
   ]
  },
  {
   "cell_type": "code",
   "execution_count": 11,
   "metadata": {
    "slideshow": {
     "slide_type": "skip"
    }
   },
   "outputs": [],
   "source": [
    "import matplotlib.pyplot as plt\n",
    "fig = None\n",
    "\n",
    "def plot(c, column):\n",
    "    global fig, axs\n",
    "    if fig is None:\n",
    "        fig, axs = plt.subplots(1, 2, figsize=(10,3), sharey=True)\n",
    "    axs[column].bar(range(1, len(c)+1), c)"
   ]
  },
  {
   "cell_type": "code",
   "execution_count": 12,
   "metadata": {
    "slideshow": {
     "slide_type": "fragment"
    }
   },
   "outputs": [
    {
     "data": {
      "image/png": "[encoded data removed]",
      "text/plain": [
       "<Figure size 720x216 with 2 Axes>"
      ]
     },
     "metadata": {
      "needs_background": "light"
     },
     "output_type": "display_data"
    }
   ],
   "source": [
    "c = [3,4,0]\n",
    "a = [[0,   1/6, 0], \n",
    "     [1/6, 0,   0], \n",
    "     [0,   0,   0]]\n",
    "\n",
    "plot(c, 0)\n",
    "smoluchowski(c, a, dt=1)\n",
    "plot(c, 1)"
   ]
  },
  {
   "cell_type": "markdown",
   "metadata": {
    "slideshow": {
     "slide_type": "slide"
    }
   },
   "source": [
    "### Smoluchowski equation: challenges\n",
    "\n",
    "- lack of analytical solutions for physical kernels\n",
    "- challenges with numerical solutions:\n",
    "  - distinguishing particles of same $v^{[i]}$ but different attributes (e.g., nucleus size) \n",
    "  - $v^{[i]} : [0, T] \\rightarrow \\mathcal{R}$ (due to processes other than coalescence)\n",
    "  - increasing number of super-particles needed to represent outcomes of collisions"
   ]
  },
  {
   "cell_type": "markdown",
   "metadata": {
    "slideshow": {
     "slide_type": "slide"
    }
   },
   "source": [
    "### Monte-Carlo alternative to Smoluchowski eq.\n",
    "\n",
    "| ... | ... | Shima et al. 2009: |\n",
    "|-----|-----|--------------------|\n",
    "|pairs| considering all (i,j) pairs | consider a random selection of N/2 non-overlapping pairs and upscale the probability accordingly (i.e., by the n^2/2 to n/2 ratio) |\n",
    "|comp. complexity | O(n^2) | O(n)|\n",
    "|...|colliding a fraction of n_i, n_j in each dt | collide all of min(n_i, n_j) once per number of timesteps (all or nothing) |\n",
    "|...|every step |trigger collision event by comparing probablity with a random number|"
   ]
  },
  {
   "cell_type": "markdown",
   "metadata": {
    "slideshow": {
     "slide_type": "slide"
    }
   },
   "source": [
    "### The super-droplet method \n",
    "![Shima_et_al_2009_Fig_1](pics/Shima_et_al_2009_Fig_1.png)"
   ]
  },
  {
   "cell_type": "markdown",
   "metadata": {},
   "source": [
    "See demo"
   ]
  },
  {
   "cell_type": "code",
   "execution_count": null,
   "metadata": {},
   "outputs": [],
   "source": []
  }
 ],
 "metadata": {
  "celltoolbar": "Slideshow",
  "kernelspec": {
   "display_name": "Python 3",
   "language": "python",
   "name": "python3"
  },
  "language_info": {
   "codemirror_mode": {
    "name": "ipython",
    "version": 3
   },
   "file_extension": ".py",
   "mimetype": "text/x-python",
   "name": "python",
   "nbconvert_exporter": "python",
   "pygments_lexer": "ipython3",
   "version": "3.6.6"
  }
 },
 "nbformat": 4,
 "nbformat_minor": 2
}
