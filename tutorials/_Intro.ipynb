{
 "cells": [
  {
   "cell_type": "markdown",
   "metadata": {
    "slideshow": {
     "slide_type": "skip"
    }
   },
   "source": [
    "note that this notebook can be viewed as a slideshow triggered by: File -> Download as -> Reveal.js slides (.html)"
   ]
  },
  {
   "cell_type": "markdown",
   "metadata": {
    "slideshow": {
     "slide_type": "slide"
    }
   },
   "source": [
    "## SuperDroplets tutorial: Intro\n",
    "### authors: [click](http://github.com/atmos-cloud-sim-uj/SuperDroplets/blob/masterAUTHORS)\n",
    "### copyright: Jagiellonian University\n",
    "#### tutorial licence: CC-BY"
   ]
  },
  {
   "cell_type": "markdown",
   "metadata": {
    "slideshow": {
     "slide_type": "slide"
    }
   },
   "source": [
    "#### *SuperDroplets* package implements particle-based methods for simulations of atmospheric cloud microphysics.\n",
    "\n",
    "### The crux of the simulations is to compute the evolution of:\n",
    "- (i) thermo- and hydro-dynamic properties of moist air in which the particles are immersed (moisture, heat, momentum, ...),\n",
    "- (ii) physicochemical properties of the particles (size, hygroscopicity, ...)."
   ]
  },
  {
   "cell_type": "markdown",
   "metadata": {
    "slideshow": {
     "slide_type": "subslide"
    }
   },
   "source": [
    "### The particle-based ansatz in a nutshell:\n",
    "- the particles are modelled as point-like objects called **super-droplets**   \n",
    " (with the $i$-th super-droplet representing a multiplicity $n^{[i]}$ of its real-world counterparts with identical radius properties such as radius $r^{[i]}$, ...);\n",
    "\n",
    "- the surrounding air is modelled as a continuum medium   \n",
    "  (characterised by tempreture $T$, pressure $p=p_d+p_v$, density $\\rho=\\rho_d+\\rho_v$ with $d$ and $v$ denoting dry air and water vapour, respectively);\n",
    "\n",
    "- the coupling between the above is biderectional   \n",
    "  (in particular: air humidity drives particle growth, latent heat release alters the air temperature)."
   ]
  },
  {
   "cell_type": "markdown",
   "metadata": {
    "slideshow": {
     "slide_type": "subslide"
    }
   },
   "source": [
    "### The following model state definition is embraced:\n",
    "- moist air thermodynamic variables: \n",
    "  - dry-air potential temperature (see [Constants](Constants.ipynb) for definition of $p_{1000}$, $R_d$, $c_{pd}$ ):   \n",
    "    $\\theta_d=T\\left(\\frac{p_{1000}}{p_d}\\right)^{\\frac{R_d}{c_{pd}}}$, \n",
    "  - water vapour mixing ratio:   \n",
    "    $q_v=\\frac{\\rho_v}{\\rho_d}$\n",
    "- attributes of $i$-th super-droplet:\n",
    "  - multiplicity: $n_i$\n",
    "  - extensive attributes:\n",
    "    - volume: $v^{[i]}=\\frac{4}{3} \\pi (r^{[i]})^3$\n",
    "    - nucleus volume (related with dry radius $r_d^{[i]}$): $\\frac{4}{3} \\pi (r_d^{[i]})^3$\n",
    "  - intensive attributes:\n",
    "    - particle temperature: $T^{[i]}$"
   ]
  },
  {
   "cell_type": "markdown",
   "metadata": {
    "slideshow": {
     "slide_type": "slide"
    }
   },
   "source": [
    "### Evolution of model state is driven by the following processes:\n",
    "* is governed by:\n",
    "  - PDEs in Eulerian setups:\n",
    "    - ...\n",
    "  - ODEs in Lagrangian setups, e.g.:\n",
    "    - [adiabatic parcel](AdiabaticParcel.ipynb)\n",
    "\n",
    "* [Condensation](Condensation.ipynb) represented by a the following ODE system:   \n",
    "  $\\frac{d}{dt} \\left[\\begin{eqnarray} \n",
    "    r^{[i]} \\\\ T^{[i]} \\\\ \\vdots \\\\ \\theta_d\n",
    "  \\end{eqnarray} \\right]$\n",
    "  $=...$\n",
    "\n",
    "* [Coalescence](Coalescence.ipynb)   \n",
    "  $\\frac{d}{dt} \\left[\\begin{eqnarray} \n",
    "    n^{[i]} \\\\ \\vdots\n",
    "  \\end{eqnarray} \\right]$\n",
    "  $=...$\n"
   ]
  },
  {
   "cell_type": "code",
   "execution_count": null,
   "metadata": {},
   "outputs": [],
   "source": []
  },
  {
   "cell_type": "code",
   "execution_count": null,
   "metadata": {},
   "outputs": [],
   "source": []
  },
  {
   "cell_type": "code",
   "execution_count": null,
   "metadata": {},
   "outputs": [],
   "source": []
  }
 ],
 "metadata": {
  "celltoolbar": "Slideshow",
  "kernelspec": {
   "display_name": "Python 3",
   "language": "python",
   "name": "python3"
  },
  "language_info": {
   "codemirror_mode": {
    "name": "ipython",
    "version": 3
   },
   "file_extension": ".py",
   "mimetype": "text/x-python",
   "name": "python",
   "nbconvert_exporter": "python",
   "pygments_lexer": "ipython3",
   "version": "3.7.1"
  }
 },
 "nbformat": 4,
 "nbformat_minor": 2
}
