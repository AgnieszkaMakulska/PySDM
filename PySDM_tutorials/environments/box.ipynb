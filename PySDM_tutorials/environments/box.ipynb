{
 "cells": [
  {
   "cell_type": "code",
   "execution_count": null,
   "metadata": {},
   "outputs": [],
   "source": [
    "\"\"\"\n",
    "clone and install PySDM dependencies in Colab\n",
    "(to use GPU on Colab set hardware accelerator to 'GPU' before session start\n",
    "in the \"Runtime :: Change runtime type :: Hardware accelerator\" menu)\n",
    "\"\"\"\n",
    "import os, sys\n",
    "if 'google.colab' in sys.modules:\n",
    "    %cd /content\n",
    "    if not os.path.isdir('PySDM'):\n",
    "        !git clone --depth 1 https://github.com/atmos-cloud-sim-uj/PySDM.git\n",
    "    %cd PySDM\n",
    "    !pip install -r requirements.txt"
   ]
  },
  {
   "cell_type": "code",
   "execution_count": null,
   "metadata": {},
   "outputs": [],
   "source": [
    "import os, sys\n",
    "if 'google.colab' in sys.modules:\n",
    "    %cd /content/PySDM\n",
    "else:\n",
    "    sys.path.insert(0, os.path.join(os.getcwd(), '../..'))"
   ]
  },
  {
   "cell_type": "code",
   "execution_count": null,
   "metadata": {
    "collapsed": true
   },
   "outputs": [],
   "source": [
    "from PySDM.physics import si\n",
    "from PySDM.initialisation.spectral_sampling import constant_multiplicity\n",
    "from PySDM.initialisation.spectra import Exponential\n",
    "from PySDM.physics.formulae import volume\n",
    "\n",
    "n_sd = 2 ** 17\n",
    "initial_spectrum = Exponential(\n",
    "    norm_factor=8.39e12, scale=1.19e5 * si.um ** 3)\n",
    "sampling_range = (volume(radius=10 * si.um),\n",
    "                  volume(radius=100 * si.um))\n",
    "attributes = {}\n",
    "attributes['volume'], attributes['n'] = constant_multiplicity(\n",
    "    n_sd=n_sd, spectrum=initial_spectrum, range=sampling_range)"
   ]
  },
  {
   "cell_type": "code",
   "execution_count": null,
   "metadata": {
    "pycharm": {
     "name": "#%%\n"
    }
   },
   "outputs": [],
   "source": [
    "from PySDM.builder import Builder\n",
    "from PySDM.environments import Box\n",
    "from PySDM.dynamics import Coalescence\n",
    "from PySDM.dynamics.coalescence.kernels import Golovin\n",
    "from PySDM.backends import CPU\n",
    "from PySDM.products.state import ParticlesVolumeSpectrum\n",
    "\n",
    "builder = Builder(n_sd=n_sd, backend=CPU)\n",
    "builder.set_environment(Box(dt=1 * si.s, dv=1e6 * si.m ** 3))\n",
    "builder.add_dynamic(Coalescence(kernel=Golovin(b=1.5e3 / si.s)))\n",
    "products = [ParticlesVolumeSpectrum()]\n",
    "core = builder.build(attributes, products)"
   ]
  },
  {
   "cell_type": "code",
   "execution_count": null,
   "metadata": {
    "pycharm": {
     "name": "#%%\n"
    }
   },
   "outputs": [],
   "source": [
    "from PySDM.physics.constants import rho_w\n",
    "from matplotlib import pyplot\n",
    "import numpy as np\n",
    "\n",
    "radius_bins_edges = np.logspace(\n",
    "    np.log10(10 * si.um), np.log10(5e3 * si.um), num=32)\n",
    "\n",
    "for step in [0, 1200, 2400, 3600]:\n",
    "    core.run(step - core.n_steps)\n",
    "    pyplot.step(\n",
    "        x=radius_bins_edges[:-1] / si.um,\n",
    "        y=core.products['dv/dlnr'].get(radius_bins_edges) * rho_w / si.g,\n",
    "        where='post', label=f\"t = {step}s\")\n",
    "\n",
    "pyplot.xscale('log')\n",
    "pyplot.xlabel('particle radius [µm]')\n",
    "pyplot.ylabel(\"dm/dlnr [g/m$^3$/(unit dr/r)]\")\n",
    "pyplot.legend()\n",
    "pyplot.savefig('results/readme.pdf', format='pdf')\n",
    "pyplot.show()"
   ]
  }
 ],
 "metadata": {
  "kernelspec": {
   "display_name": "Python 3",
   "language": "python",
   "name": "python3"
  },
  "language_info": {
   "codemirror_mode": {
    "name": "ipython",
    "version": 3
   },
   "file_extension": ".py",
   "mimetype": "text/x-python",
   "name": "python",
   "nbconvert_exporter": "python",
   "pygments_lexer": "ipython3",
   "version": "3.8.2"
  }
 },
 "nbformat": 4,
 "nbformat_minor": 1
}
