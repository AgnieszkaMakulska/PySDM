{
 "cells": [
  {
   "cell_type": "code",
   "execution_count": 1,
   "metadata": {},
   "outputs": [],
   "source": [
    "\"\"\"\n",
    "clone and install PySDM dependencies in Colab\n",
    "\"\"\"\n",
    "import os, sys\n",
    "if 'google.colab' in sys.modules:\n",
    "    %cd /content\n",
    "    if not os.path.isdir('PySDM'):\n",
    "        !git clone --depth 1 https://github.com/atmos-cloud-sim-uj/PySDM.git\n",
    "        %cd PySDM\n",
    "    else:\n",
    "        %cd PySDM\n",
    "        !git pull\n",
    "    !pip install -r requirements.txt\n",
    "    !ldconfig"
   ]
  },
  {
   "cell_type": "code",
   "execution_count": 2,
   "metadata": {},
   "outputs": [],
   "source": [
    "import os, sys\n",
    "if 'google.colab' in sys.modules:\n",
    "    %cd /content/PySDM\n",
    "else:\n",
    "    sys.path.insert(0, os.path.join(os.getcwd(), '../..'))"
   ]
  },
  {
   "cell_type": "code",
   "execution_count": 3,
   "metadata": {},
   "outputs": [
    {
     "name": "stderr",
     "output_type": "stream",
     "text": [
      "/home/slayoo/devel/PySDM/PySDM_examples/Bartman_et_al_2021/../../PySDM/backends/__init__.py:29: UserWarning: CUDA library found but cuInit() failed (error code: 999; message: unknown error)\n",
      "  warnings.warn(\n"
     ]
    }
   ],
   "source": [
    "from PySDM_examples.Arabas_et_al_2015_Figs_8_9.settings import Settings\n",
    "from PySDM_examples.Arabas_et_al_2015_Figs_8_9.simulation import Simulation\n",
    "from PySDM_examples.Arabas_et_al_2015_Figs_8_9.storage import Storage\n",
    "from PySDM_examples.Arabas_et_al_2015_Figs_8_9.netcdf_exporter import NetCDFExporter\n",
    "from PySDM_examples.utils.temporary_file import TemporaryFile\n",
    "from PySDM_examples.utils.show_plot import show_plot\n",
    "from PySDM_examples.Bartman_et_al_2021.progbar_controller import ProgBarController\n",
    "from PySDM_examples.Bartman_et_al_2021.label import label\n",
    "import PySDM.products as PySDM_products\n",
    "from PySDM.physics import si\n",
    "import matplotlib\n",
    "import numpy as np\n",
    "import string\n",
    "from scipy.io.netcdf import netcdf_file\n",
    "from matplotlib import pyplot, rcParams\n",
    "from scipy.ndimage.filters import uniform_filter1d"
   ]
  },
  {
   "cell_type": "code",
   "execution_count": null,
   "metadata": {},
   "outputs": [],
   "source": []
  },
  {
   "cell_type": "code",
   "execution_count": 4,
   "metadata": {},
   "outputs": [],
   "source": [
    "m = 7\n",
    "runs = (\n",
    "    {'file': TemporaryFile('.nc'), 'settings': {'condensation_adaptive': True, 'condensation_rtol_thd': 2e-5/m/m}},\n",
    "    {'file': TemporaryFile('.nc'), 'settings': {'condensation_adaptive': True, 'condensation_rtol_thd': 2e-5/m}},\n",
    "    {'file': TemporaryFile('.nc'), 'settings': {'condensation_adaptive': True, 'condensation_rtol_thd': 2e-5}},\n",
    "    {'file': TemporaryFile('.nc'), 'settings': {'condensation_adaptive': True, 'condensation_rtol_thd': 2e-5*m}},\n",
    "    {'file': TemporaryFile('.nc'), 'settings': {'condensation_adaptive': False, 'condensation_substeps':  32}},\n",
    "    {'file': TemporaryFile('.nc'), 'settings': {'condensation_adaptive': False, 'condensation_substeps':  16}},\n",
    "    {'file': TemporaryFile('.nc'), 'settings': {'condensation_adaptive': False, 'condensation_substeps':   8}},\n",
    "    {'file': TemporaryFile('.nc'), 'settings': {'condensation_adaptive': False, 'condensation_substeps':   4}},\n",
    ")"
   ]
  },
  {
   "cell_type": "code",
   "execution_count": null,
   "metadata": {
    "scrolled": false
   },
   "outputs": [
    {
     "data": {
      "application/vnd.jupyter.widget-view+json": {
       "model_id": "d7a7a0849bfb426f8d545c382e264214",
       "version_major": 2,
       "version_minor": 0
      },
      "text/plain": [
       "FloatProgress(value=0.0, description='run 1/8', max=1.0)"
      ]
     },
     "metadata": {},
     "output_type": "display_data"
    },
    {
     "data": {
      "application/vnd.jupyter.widget-view+json": {
       "model_id": "dba52cfb2e1443899f67d8b9bac2f3b0",
       "version_major": 2,
       "version_minor": 0
      },
      "text/plain": [
       "FloatProgress(value=0.0, description='netCDF', max=1.0)"
      ]
     },
     "metadata": {},
     "output_type": "display_data"
    },
    {
     "data": {
      "application/vnd.jupyter.widget-view+json": {
       "model_id": "138f0d39f49e48bdb332b40538475671",
       "version_major": 2,
       "version_minor": 0
      },
      "text/plain": [
       "FloatProgress(value=0.0, description='run 2/8', max=1.0)"
      ]
     },
     "metadata": {},
     "output_type": "display_data"
    },
    {
     "data": {
      "application/vnd.jupyter.widget-view+json": {
       "model_id": "c6164660db724e48b24d147a768d2675",
       "version_major": 2,
       "version_minor": 0
      },
      "text/plain": [
       "FloatProgress(value=0.0, description='netCDF', max=1.0)"
      ]
     },
     "metadata": {},
     "output_type": "display_data"
    },
    {
     "data": {
      "application/vnd.jupyter.widget-view+json": {
       "model_id": "48062342e46e4638a8a127bb0ffb8d09",
       "version_major": 2,
       "version_minor": 0
      },
      "text/plain": [
       "FloatProgress(value=0.0, description='run 3/8', max=1.0)"
      ]
     },
     "metadata": {},
     "output_type": "display_data"
    },
    {
     "data": {
      "application/vnd.jupyter.widget-view+json": {
       "model_id": "a071af9913524bcca5bafed2bff8a575",
       "version_major": 2,
       "version_minor": 0
      },
      "text/plain": [
       "FloatProgress(value=0.0, description='netCDF', max=1.0)"
      ]
     },
     "metadata": {},
     "output_type": "display_data"
    },
    {
     "data": {
      "application/vnd.jupyter.widget-view+json": {
       "model_id": "e260429f47484c23bc56849e71587a38",
       "version_major": 2,
       "version_minor": 0
      },
      "text/plain": [
       "FloatProgress(value=0.0, description='run 4/8', max=1.0)"
      ]
     },
     "metadata": {},
     "output_type": "display_data"
    }
   ],
   "source": [
    "radius_range = (.5*si.um, 25*si.um)\n",
    "dt = 32 * si.s\n",
    "\n",
    "for i, run in enumerate(runs):\n",
    "    settings = Settings()\n",
    "\n",
    "    products = (\n",
    "        PySDM_products.PeakSupersaturation(),\n",
    "        PySDM_products.DynamicWallTime('Condensation'),\n",
    "        PySDM_products.AerosolSpecificConcentration(radius_threshold=radius_range[0]),\n",
    "        PySDM_products.CloudDropletEffectiveRadius(radius_range=radius_range)\n",
    "    )\n",
    "\n",
    "    settings.n_sd_per_gridbox = 128 if 'CI' not in os.environ else 32\n",
    "    settings.grid = (32, 32)\n",
    "    settings.dt = dt\n",
    "    settings.condensation_dt_cond_range = (.25*si.s, settings.dt)\n",
    "    \n",
    "    settings.mode_1.norm_factor *= 3\n",
    "    settings.mode_2.norm_factor *= 3\n",
    "    settings.spectrum_per_mass_of_dry_air.norm_factor *= 3\n",
    "    settings.simulation_time = settings.spin_up_time * (1 if 'CI' not in os.environ else .1)\n",
    "    settings.output_interval = settings.dt\n",
    "    settings.condensation_rtol_x = 1e-6\n",
    "    settings.condensation_rtol_thd = -1\n",
    "    settings.condensation_schedule = 'dynamic'\n",
    "    settings.kappa = .8\n",
    "    \n",
    "    for key, value in run['settings'].items():        \n",
    "        assert hasattr(settings, key)\n",
    "        setattr(settings, key, value)\n",
    "    \n",
    "    storage = Storage()\n",
    "    simulation = Simulation(settings, storage)\n",
    "    simulation.reinit(products)\n",
    "\n",
    "    simulation.run(ProgBarController(f\"run {i+1}/{len(runs)}\"))\n",
    "    exporter = NetCDFExporter(storage, settings, simulation, run['file'].absolute_path)\n",
    "    exporter.run(ProgBarController('netCDF'))"
   ]
  },
  {
   "cell_type": "code",
   "execution_count": null,
   "metadata": {
    "scrolled": false
   },
   "outputs": [],
   "source": [
    "matplotlib.rcParams[\"figure.figsize\"] = (7.3, 18)\n",
    "\n",
    "colors = (\n",
    "    '#5940ff', '#5980ff', '#59c0ff', '#59e0ff',\n",
    "    '#dd0000', '#dd6666', '#dd9999', '#ddcccc'\n",
    ")\n",
    "skip_steps = 30\n",
    "bins = 64\n",
    "bin_range = {\n",
    "    'S_max': (-.14, .5),\n",
    "    'n_a_mg': (0.05, 128.05),\n",
    "    'r_eff': (2, 18),\n",
    "    'dt_cond_min': (-2.5, 5.5)\n",
    "}\n",
    "window = 6\n",
    "\n",
    "fig, axs = pyplot.subplots(len(bin_range),1)\n",
    "for plot_i, var in enumerate(bin_range.keys()):\n",
    "    ax = axs[plot_i]\n",
    "    for i, run in enumerate(runs):\n",
    "        nc = netcdf_file(run['file'].absolute_path, mode='r', mmap=False)\n",
    "        n_spinup = nc.n_spin_up // nc.steps_per_output_interval\n",
    "        assert skip_steps >= n_spinup // 4\n",
    "        data = nc.variables[var]\n",
    "        if var == 'dt_cond_min':\n",
    "            data = np.log2(data[:])\n",
    "        timesteps = slice(skip_steps, -1)\n",
    "        wall_time = np.mean(nc.variables['Condensation_wall_time'][timesteps])\n",
    "        wall_time = int(100 * wall_time) / 100\n",
    "        y, x, _ = ax.hist(data[timesteps, :, :].flatten(), \n",
    "                              bins=bins, range=bin_range[var], histtype='step', \n",
    "                              color=colors[i], lw=0)\n",
    "        if var != 'dt_cond_min':\n",
    "            ax.plot((x[1:] + x[:-1])/2, uniform_filter1d(y, size=window), color=colors[i], \n",
    "                        lw=8 if run['settings']['condensation_adaptive'] else 3,\n",
    "                        ls='--' if not run['settings']['condensation_adaptive'] else '-',\n",
    "                        label=f\"{label(run['settings'])} (time/step: {wall_time:.2f}s)\"\n",
    "                   )\n",
    "        else:\n",
    "            dx = x[1] - x[0]\n",
    "            ax.bar(x[0:-1] - dx/.66 + dx/1.1*min(4,i), y, color=colors[i], width=dx/1.5)\n",
    "        ax.set_ylabel(f'occurrence count ' + (f'({window}-bin moving average)' if var != 'dt_cond_min' else ''))\n",
    "        binwidth = (bin_range[var][1]-bin_range[var][0])/bins\n",
    "        if var == 'S_max':\n",
    "            ax.set_ylim(0, 3000)\n",
    "            ax.set_xlabel(f'peak supersaturation [%] ({binwidth}% binning)')\n",
    "        elif var == 'n_a_mg':\n",
    "            ax.set_xlabel(f'interstitial aerosol concentration [1/mg] ({binwidth} binning)')\n",
    "        elif var == 'r_eff':\n",
    "            ax.set_xlabel(f'cloud droplet effective radius [μm] ({binwidth} binning)')\n",
    "            ax.set_ylim(0, 2200)\n",
    "        elif var == 'dt_cond_min':\n",
    "            ax.set_xlabel(f'condensation timestep [s] ({dt:.0f} s / substeps)')\n",
    "            labels = {pw:2**pw for pw in range(-2, 6)}\n",
    "            ax.set_xticks(tuple(labels.keys()))\n",
    "            ax.set_xticklabels(tuple(labels.values()))\n",
    "            ax.set_yscale('log')\n",
    "            ax.set_ylim(1e2, 1.3e5)\n",
    "        else:\n",
    "            assert False\n",
    "    ax.grid()\n",
    "    if plot_i == 0:\n",
    "        ax.legend()\n",
    "    ax.set_xlim(bin_range[var])\n",
    "    ax.text(0, 1.03, '('+string.ascii_lowercase[plot_i]+')', transform=ax.transAxes, size=15, weight='bold')\n",
    "show_plot()"
   ]
  },
  {
   "cell_type": "code",
   "execution_count": null,
   "metadata": {},
   "outputs": [],
   "source": [
    "# TODO #432: updraft vs. downdraft?\n",
    "# TODO #432: different n_sd\n",
    "# TODO #432: different aerosol"
   ]
  },
  {
   "cell_type": "code",
   "execution_count": null,
   "metadata": {},
   "outputs": [],
   "source": []
  },
  {
   "cell_type": "code",
   "execution_count": null,
   "metadata": {},
   "outputs": [],
   "source": []
  }
 ],
 "metadata": {
  "kernelspec": {
   "display_name": "Python 3",
   "language": "python",
   "name": "python3"
  },
  "language_info": {
   "codemirror_mode": {
    "name": "ipython",
    "version": 3
   },
   "file_extension": ".py",
   "mimetype": "text/x-python",
   "name": "python",
   "nbconvert_exporter": "python",
   "pygments_lexer": "ipython3",
   "version": "3.8.7"
  }
 },
 "nbformat": 4,
 "nbformat_minor": 4
}
