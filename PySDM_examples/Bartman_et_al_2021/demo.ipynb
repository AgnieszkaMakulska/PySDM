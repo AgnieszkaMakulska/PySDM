{
 "cells": [
  {
   "cell_type": "code",
   "execution_count": 1,
   "metadata": {},
   "outputs": [],
   "source": [
    "\"\"\"\n",
    "clone and install PySDM dependencies in Colab\n",
    "\"\"\"\n",
    "import os, sys\n",
    "if 'google.colab' in sys.modules:\n",
    "    %cd /content\n",
    "    if not os.path.isdir('PySDM'):\n",
    "        !git clone --depth 1 https://github.com/atmos-cloud-sim-uj/PySDM.git\n",
    "        %cd PySDM\n",
    "    else:\n",
    "        %cd PySDM\n",
    "        !git pull\n",
    "    !pip install -r requirements.txt\n",
    "    !ldconfig"
   ]
  },
  {
   "cell_type": "code",
   "execution_count": 2,
   "metadata": {},
   "outputs": [],
   "source": [
    "import os, sys\n",
    "if 'google.colab' in sys.modules:\n",
    "    %cd /content/PySDM\n",
    "else:\n",
    "    sys.path.insert(0, os.path.join(os.getcwd(), '../..'))"
   ]
  },
  {
   "cell_type": "code",
   "execution_count": 3,
   "metadata": {},
   "outputs": [
    {
     "name": "stderr",
     "output_type": "stream",
     "text": [
      "/home/slayoo/devel/PySDM/PySDM_examples/Bartman_et_al_2021/../../PySDM/backends/__init__.py:29: UserWarning: CUDA library found but cuInit() failed (error code: 999; message: unknown error)\n",
      "  warnings.warn(\n"
     ]
    }
   ],
   "source": [
    "from PySDM_examples.Arabas_et_al_2015_Figs_8_9.settings import Settings\n",
    "from PySDM_examples.Arabas_et_al_2015_Figs_8_9.simulation import Simulation\n",
    "from PySDM_examples.Arabas_et_al_2015_Figs_8_9.storage import Storage\n",
    "from PySDM_examples.Arabas_et_al_2015_Figs_8_9.netcdf_exporter import NetCDFExporter\n",
    "from PySDM_examples.Arabas_et_al_2015_Figs_8_9.demo_plots import _TimeseriesPlot, _ImagePlot\n",
    "\n",
    "from PySDM_examples.utils.temporary_file import TemporaryFile\n",
    "from PySDM_examples.utils.show_plot import show_plot\n",
    "from PySDM_examples.utils.widgets import display, HTML, FloatProgress\n",
    "\n",
    "from PySDM.products.state import AerosolSpecificConcentration, ParticleMeanRadius, DrizzleConcentration\n",
    "\n",
    "from PySDM.physics import si\n",
    "import os\n",
    "import numpy as np\n",
    "from scipy.io.netcdf import netcdf_file\n",
    "from matplotlib import pyplot, rcParams\n",
    "from matplotlib.animation import FuncAnimation\n",
    "from matplotlib.gridspec import GridSpec"
   ]
  },
  {
   "cell_type": "code",
   "execution_count": 4,
   "metadata": {},
   "outputs": [],
   "source": [
    "class ProgBarController:\n",
    "    def __init__(self):\n",
    "        self.progress = FloatProgress(value=0.0, min=0.0, max=1.0)\n",
    "        self.panic = False\n",
    "\n",
    "    def __enter__(self):\n",
    "        self.set_percent(0)\n",
    "        display(self.progress)\n",
    "        \n",
    "    def __exit__(self, *_):\n",
    "        pass\n",
    "    \n",
    "    def set_percent(self, value):\n",
    "        self.progress.value = value"
   ]
  },
  {
   "cell_type": "code",
   "execution_count": 5,
   "metadata": {},
   "outputs": [],
   "source": [
    "settings = Settings()\n",
    "\n",
    "products = [\n",
    "    AerosolSpecificConcentration(radius_threshold=settings.aerosol_radius_threshold),\n",
    "    ParticleMeanRadius(),\n",
    "    DrizzleConcentration(radius_threshold=settings.drizzle_radius_threshold)\n",
    "]\n",
    "\n",
    "settings.n_sd_per_gridbox = 32 if 'CI' not in os.environ else 8\n",
    "settings.grid = (64, 64)\n",
    "settings.dt = 16 * si.second\n",
    "settings.condensation_dt_cond_range = (.1, settings.dt)\n",
    "settings.simulation_time = 1.75 * settings.spin_up_time\n",
    "settings.output_interval = 1 * si.minute\n",
    "settings.condensation_rtol_x = 1e-6\n",
    "settings.condensation_rtol_thd = 1e-6\n",
    "\n",
    "storage = Storage()\n",
    "simulation = Simulation(settings, storage)\n",
    "simulation.reinit(products)"
   ]
  },
  {
   "cell_type": "code",
   "execution_count": 6,
   "metadata": {},
   "outputs": [
    {
     "data": {
      "application/vnd.jupyter.widget-view+json": {
       "model_id": "fa93335b6b6d4654800338f8d363f2de",
       "version_major": 2,
       "version_minor": 0
      },
      "text/plain": [
       "FloatProgress(value=0.0, max=1.0)"
      ]
     },
     "metadata": {},
     "output_type": "display_data"
    }
   ],
   "source": [
    "simulation.run(ProgBarController())"
   ]
  },
  {
   "cell_type": "code",
   "execution_count": 7,
   "metadata": {},
   "outputs": [
    {
     "data": {
      "application/vnd.jupyter.widget-view+json": {
       "model_id": "fe2e5770a6c54ed88be0cfe4623e8573",
       "version_major": 2,
       "version_minor": 0
      },
      "text/plain": [
       "FloatProgress(value=0.0, max=1.0)"
      ]
     },
     "metadata": {},
     "output_type": "display_data"
    }
   ],
   "source": [
    "temp_file = TemporaryFile('.nc')\n",
    "exporter = NetCDFExporter(storage, settings, simulation, temp_file.absolute_path)\n",
    "exporter.run(ProgBarController())"
   ]
  },
  {
   "cell_type": "code",
   "execution_count": 8,
   "metadata": {},
   "outputs": [],
   "source": [
    "default_figsize = rcParams[\"figure.figsize\"]\n",
    "figsize = (2.2 * default_figsize[0], 1.3* default_figsize[1])\n",
    "gs = GridSpec(nrows=9, ncols=27)\n",
    "\n",
    "fig = pyplot.figure(figsize=figsize)\n",
    "axs = (\n",
    "    fig.add_subplot(gs[:gs.nrows-4, 1:gs.ncols//3-1]),\n",
    "    fig.add_subplot(gs[:gs.nrows-4, gs.ncols//3+1:2*gs.ncols//3-1]),\n",
    "    fig.add_subplot(gs[:gs.nrows-4, 2*gs.ncols//3+1:-1]),\n",
    "    fig.add_subplot(gs[gs.nrows-3:-1,2:-1])\n",
    ")\n",
    "gs.tight_layout(fig)\n",
    "ncdf = netcdf_file(temp_file.absolute_path, mode='r', mmap=False)\n",
    "\n",
    "# TODO #419: we should not use products here - all info should be obtained from netCDF\n",
    "plots = (\n",
    "    _ImagePlot(fig, axs[0], grid=ncdf.grid, size=ncdf.size, product=products[0], cmap='summer'),\n",
    "    _ImagePlot(fig, axs[1], grid=ncdf.grid, size=ncdf.size, product=products[1], cmap='PuBuGn'),\n",
    "    _ImagePlot(fig, axs[2], grid=ncdf.grid, size=ncdf.size, product=products[2], cmap='Blues'),\n",
    "    _TimeseriesPlot(fig, axs[3], ncdf.variables['T'][:], show=False)\n",
    ")\n",
    "\n",
    "plots[3].ax.axvline(ncdf.n_spin_up * ncdf.dt)\n",
    "plots[3].ax.set_ylim(0, .001)\n",
    "\n",
    "interval = 100 #ms\n",
    "frame_list = np.arange(ncdf.variables['T'].shape[0], dtype=np.int)\n",
    "\n",
    "def update(frame_num):\n",
    "    step = frame_num*ncdf.steps_per_output_interval\n",
    "    plots[0].update(ncdf.variables['n_a_mg'][frame_num], step=step)\n",
    "    plots[1].update(ncdf.variables['radius_m1'][frame_num], step=step)\n",
    "    plots[2].update(ncdf.variables['n_d_cm3'][frame_num], step=step)\n",
    "    precip = np.full_like(ncdf.variables['surf_precip'][:], np.nan)\n",
    "    precip[0:frame_num+1] = ncdf.variables['surf_precip'][0:frame_num+1]\n",
    "    plots[3].update(precip)\n",
    "    return (plots[0].im, plots[1].im, plots[2].im, plots[3].timeseries)\n",
    "pyplot.close(fig)"
   ]
  },
  {
   "cell_type": "code",
   "execution_count": 9,
   "metadata": {},
   "outputs": [
    {
     "data": {
      "application/vnd.jupyter.widget-view+json": {
       "model_id": "1e8fbf189dd9488fa8e0803963df26eb",
       "version_major": 2,
       "version_minor": 0
      },
      "text/plain": [
       "HTML(value='<video width=\"950\" height=\"374\" controls autoplay loop>\\n  <source type=\"video/mp4\" src=\"data:vide…"
      ]
     },
     "metadata": {},
     "output_type": "display_data"
    },
    {
     "data": {
      "application/vnd.jupyter.widget-view+json": {
       "model_id": "b884612edcf5406c8868928152045b75",
       "version_major": 2,
       "version_minor": 0
      },
      "text/plain": [
       "HTML(value=\"<a href='../utils/temporary_files/tmpxkysy_pv.gif' target='_blank'>../utils/temporary_files/tmpxky…"
      ]
     },
     "metadata": {},
     "output_type": "display_data"
    }
   ],
   "source": [
    "animation = FuncAnimation(fig, update, frames=frame_list, interval=interval, blit=False)\n",
    "\n",
    "if 'CI' not in os.environ:\n",
    "    display(HTML(animation.to_html5_video()))\n",
    "    file = TemporaryFile('.gif')\n",
    "    animation.save(file.absolute_path)\n",
    "    display(file.make_link_widget())"
   ]
  },
  {
   "cell_type": "code",
   "execution_count": 10,
   "metadata": {},
   "outputs": [
    {
     "data": {
      "application/vnd.jupyter.widget-view+json": {
       "model_id": "a3e18b144e5047aaa658656ff8053662",
       "version_major": 2,
       "version_minor": 0
      },
      "text/plain": [
       "HTML(value=\"<a href='../utils/temporary_files/tmp_13laf1j.svg' target='_blank'>../utils/temporary_files/tmp_13…"
      ]
     },
     "metadata": {},
     "output_type": "display_data"
    }
   ],
   "source": [
    "# save last frame in vector format\n",
    "svg_file = TemporaryFile('.svg')\n",
    "fig.savefig(svg_file.absolute_path)\n",
    "display(svg_file.make_link_widget())"
   ]
  },
  {
   "cell_type": "code",
   "execution_count": null,
   "metadata": {},
   "outputs": [],
   "source": []
  },
  {
   "cell_type": "code",
   "execution_count": null,
   "metadata": {},
   "outputs": [],
   "source": []
  }
 ],
 "metadata": {
  "kernelspec": {
   "display_name": "Python 3",
   "language": "python",
   "name": "python3"
  },
  "language_info": {
   "codemirror_mode": {
    "name": "ipython",
    "version": 3
   },
   "file_extension": ".py",
   "mimetype": "text/x-python",
   "name": "python",
   "nbconvert_exporter": "python",
   "pygments_lexer": "ipython3",
   "version": "3.8.7"
  }
 },
 "nbformat": 4,
 "nbformat_minor": 4
}
