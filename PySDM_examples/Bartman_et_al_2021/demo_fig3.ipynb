{
 "cells": [
  {
   "cell_type": "code",
   "execution_count": 1,
   "metadata": {},
   "outputs": [],
   "source": [
    "\"\"\"\n",
    "clone and install PySDM dependencies in Colab\n",
    "\"\"\"\n",
    "import os, sys\n",
    "if 'google.colab' in sys.modules:\n",
    "    %cd /content\n",
    "    if not os.path.isdir('PySDM'):\n",
    "        !git clone --depth 1 https://github.com/atmos-cloud-sim-uj/PySDM.git\n",
    "        %cd PySDM\n",
    "    else:\n",
    "        %cd PySDM\n",
    "        !git pull\n",
    "    !pip install -r requirements.txt\n",
    "    !ldconfig"
   ]
  },
  {
   "cell_type": "code",
   "execution_count": 2,
   "metadata": {},
   "outputs": [],
   "source": [
    "import os, sys\n",
    "if 'google.colab' in sys.modules:\n",
    "    %cd /content/PySDM\n",
    "else:\n",
    "    sys.path.insert(0, os.path.join(os.getcwd(), '../..'))"
   ]
  },
  {
   "cell_type": "code",
   "execution_count": 3,
   "metadata": {},
   "outputs": [
    {
     "name": "stderr",
     "output_type": "stream",
     "text": [
      "/home/slayoo/devel/PySDM/PySDM_examples/Bartman_et_al_2021/../../PySDM/backends/__init__.py:29: UserWarning: CUDA library found but cuInit() failed (error code: 999; message: unknown error)\n",
      "  warnings.warn(\n"
     ]
    }
   ],
   "source": [
    "from PySDM_examples.utils.temporary_file import TemporaryFile\n",
    "from PySDM.physics.constants import si, convert_to\n",
    "from PySDM_examples.Arabas_et_al_2015_Figs_8_9.settings import Settings\n",
    "from PySDM_examples.Arabas_et_al_2015_Figs_8_9.simulation import Simulation\n",
    "from PySDM_examples.Arabas_et_al_2015_Figs_8_9.storage import Storage\n",
    "from PySDM_examples.Bartman_et_al_2021.progbar_controller import ProgBarController\n",
    "from PySDM_examples.Bartman_et_al_2021.label import label\n",
    "from PySDM_examples.Arabas_et_al_2015_Figs_8_9.netcdf_exporter import NetCDFExporter\n",
    "import PySDM.products as PySDM_products\n",
    "from PySDM_examples.utils.show_plot import show_plot\n",
    "from matplotlib import pyplot, rcParams\n",
    "from scipy.ndimage.filters import uniform_filter1d\n",
    "from scipy.io.netcdf import netcdf_file\n",
    "import numpy as np"
   ]
  },
  {
   "cell_type": "code",
   "execution_count": 4,
   "metadata": {},
   "outputs": [],
   "source": [
    "ensemble_size = 3\n",
    "runs = []\n",
    "for _ in range(ensemble_size):\n",
    "    runs.append({'file': TemporaryFile('.nc'), 'settings': {'coalescence_adaptive': True}})\n",
    "for _ in range(ensemble_size):\n",
    "    runs.append({'file': TemporaryFile('.nc'), 'settings': {'coalescence_adaptive': False, 'coalescence_substeps':  32}})\n",
    "for _ in range(ensemble_size):\n",
    "    runs.append({'file': TemporaryFile('.nc'), 'settings': {'coalescence_adaptive': False, 'coalescence_substeps':   1}})\n"
   ]
  },
  {
   "cell_type": "code",
   "execution_count": 5,
   "metadata": {},
   "outputs": [],
   "source": [
    "radius_range = (.5*si.um, 25*si.um)\n",
    "dt = 32 * si.s\n"
   ]
  },
  {
   "cell_type": "code",
   "execution_count": null,
   "metadata": {},
   "outputs": [
    {
     "data": {
      "application/vnd.jupyter.widget-view+json": {
       "model_id": "dcbf50c3c91648a0bc08abc316f57cad",
       "version_major": 2,
       "version_minor": 0
      },
      "text/plain": [
       "FloatProgress(value=0.0, description='run 1/9', max=1.0)"
      ]
     },
     "metadata": {},
     "output_type": "display_data"
    }
   ],
   "source": [
    "\n",
    "for i, run in enumerate(runs):\n",
    "    settings = Settings()\n",
    "\n",
    "    products = (\n",
    "        PySDM_products.DynamicWallTime('Coalescence'),\n",
    "#         PySDM_products.SurfacePrecipitation(),\n",
    "    )\n",
    "\n",
    "    settings.n_sd_per_gridbox = 128 # TODO !!! 128 if 'CI' not in os.environ else 32\n",
    "    settings.grid = (32, 32)\n",
    "    settings.dt = dt\n",
    "    settings.condensation_dt_cond_range = (.25*si.s, settings.dt)\n",
    "    \n",
    "    settings.mode_1.norm_factor *= 3\n",
    "    settings.mode_2.norm_factor *= 3\n",
    "    settings.spectrum_per_mass_of_dry_air.norm_factor *= 3\n",
    "    settings.simulation_time = 2 * settings.spin_up_time\n",
    "    settings.output_interval = settings.dt\n",
    "    settings.condensation_adaptive = True\n",
    "    settings.condensation_rtol_x = 1e-6\n",
    "    settings.condensation_rtol_thd = 2e-5/7/7\n",
    "    settings.condensation_schedule = 'dynamic'\n",
    "    settings.kappa = .8\n",
    "    \n",
    "    for key, value in run['settings'].items():        \n",
    "        assert hasattr(settings, key)\n",
    "        setattr(settings, key, value)\n",
    "    \n",
    "    storage = Storage()\n",
    "    simulation = Simulation(settings, storage)\n",
    "    simulation.reinit(products)\n",
    "\n",
    "    simulation.run(ProgBarController(f\"run {i+1}/{len(runs)}\"))\n",
    "    exporter = NetCDFExporter(storage, settings, simulation, run['file'].absolute_path)\n",
    "    exporter.run(ProgBarController('netCDF'))"
   ]
  },
  {
   "cell_type": "code",
   "execution_count": null,
   "metadata": {},
   "outputs": [],
   "source": [
    "rcParams[\"figure.figsize\"] = (15, 5)\n",
    "\n",
    "timeaxis = lambda t: t / 3600 - 1\n",
    "\n",
    "dt_day = dt\n",
    "convert_to(dt_day, si.day)\n",
    "\n",
    "window=5\n",
    "colors=['red', 'green', 'blue']\n",
    "\n",
    "for i, run in enumerate(runs):\n",
    "    nc = netcdf_file(run['file'].absolute_path, mode='r', mmap=False)\n",
    "    wall_time = np.mean(nc.variables['Coalescence_wall_time'][:-10])  # TODO !!!\n",
    "    wall_time = int(10000 * wall_time) / 10000\n",
    "    filtered_cumsum = uniform_filter1d(dt_day * np.cumsum(nc.variables['surf_precip'][:]), size=window)\n",
    "    pyplot.plot(\n",
    "        timeaxis(nc.variables['T'][:]),\n",
    "        filtered_cumsum,\n",
    "        label=f\"{label(run['settings'])} (time/step: {wall_time:.4f}s)\",\n",
    "        color=colors[i//ensemble_size],\n",
    "        lw=.75\n",
    "    )\n",
    "    if i % ensemble_size == 0:\n",
    "        mean = np.copy(filtered_cumsum)\n",
    "    else:\n",
    "        mean += filtered_cumsum\n",
    "    if (i+1) % ensemble_size == 0:\n",
    "        pyplot.plot(\n",
    "            timeaxis(nc.variables['T'][:]),\n",
    "            mean / ensemble_size,\n",
    "            lw=3,\n",
    "            color=colors[i // ensemble_size]\n",
    "        )\n",
    "pyplot.xlim(timeaxis(1.25 * settings.spin_up_time), timeaxis(nc.variables['T'][-1]))\n",
    "pyplot.legend()\n",
    "pyplot.ylabel('accumulated rainfall [mm] ' + f'({window}-point moving average)')\n",
    "pyplot.xlabel('time after spinup [h]')\n",
    "show_plot()\n",
    "\n",
    "\n",
    "for i, run in enumerate(runs):\n",
    "    if not run['settings']['coalescence_adaptive']:\n",
    "        continue\n",
    "    nc = netcdf_file(run['file'].absolute_path, mode='r', mmap=False)\n",
    "    data = nc.variables['dt_coal_min'][:]\n",
    "    pyplot.plot(timeaxis(nc.variables['T'][:]), np.amax(np.amax(data, axis=-1), axis=-1))\n",
    "    pyplot.plot(timeaxis(nc.variables['T'][:]), np.amin(np.amin(data, axis=-1), axis=-1))\n",
    "show_plot()"
   ]
  },
  {
   "cell_type": "code",
   "execution_count": null,
   "metadata": {},
   "outputs": [],
   "source": [
    "# TODO #432: initialisation\n",
    "# TODO #432: rng_reuse\n",
    "# TODO #432: seed, spread\n",
    "# TODO #432: sd_num ?\n",
    "# TODO #432: plot deficit\n",
    "# TODO #432: dt histogram"
   ]
  },
  {
   "cell_type": "code",
   "execution_count": null,
   "metadata": {},
   "outputs": [],
   "source": []
  },
  {
   "cell_type": "code",
   "execution_count": null,
   "metadata": {},
   "outputs": [],
   "source": []
  }
 ],
 "metadata": {
  "kernelspec": {
   "display_name": "Python 3",
   "language": "python",
   "name": "python3"
  },
  "language_info": {
   "codemirror_mode": {
    "name": "ipython",
    "version": 3
   },
   "file_extension": ".py",
   "mimetype": "text/x-python",
   "name": "python",
   "nbconvert_exporter": "python",
   "pygments_lexer": "ipython3",
   "version": "3.8.7"
  }
 },
 "nbformat": 4,
 "nbformat_minor": 4
}
