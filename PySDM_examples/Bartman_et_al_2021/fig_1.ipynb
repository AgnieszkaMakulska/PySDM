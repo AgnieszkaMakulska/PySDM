{
 "cells": [
  {
   "cell_type": "code",
   "execution_count": 1,
   "metadata": {},
   "outputs": [],
   "source": [
    "\"\"\"\n",
    "clone and install PySDM dependencies in Colab\n",
    "\"\"\"\n",
    "import os, sys\n",
    "if 'google.colab' in sys.modules:\n",
    "    %cd /content\n",
    "    if not os.path.isdir('PySDM'):\n",
    "        !git clone --depth 1 https://github.com/atmos-cloud-sim-uj/PySDM.git\n",
    "        %cd PySDM\n",
    "    else:\n",
    "        %cd PySDM\n",
    "        !git pull\n",
    "    !pip install -r requirements.txt\n",
    "    !ldconfig"
   ]
  },
  {
   "cell_type": "code",
   "execution_count": 2,
   "metadata": {},
   "outputs": [],
   "source": [
    "import os, sys\n",
    "if 'google.colab' in sys.modules:\n",
    "    %cd /content/PySDM\n",
    "else:\n",
    "    sys.path.insert(0, os.path.join(os.getcwd(), '../..'))"
   ]
  },
  {
   "cell_type": "code",
   "execution_count": 3,
   "metadata": {},
   "outputs": [],
   "source": [
    "from PySDM_examples.Arabas_et_al_2015_Figs_8_9.settings import Settings\n",
    "from PySDM_examples.Arabas_et_al_2015_Figs_8_9.simulation import Simulation\n",
    "from PySDM_examples.Arabas_et_al_2015_Figs_8_9.storage import Storage\n",
    "from PySDM_examples.Arabas_et_al_2015_Figs_8_9.netcdf_exporter import NetCDFExporter\n",
    "from PySDM_examples.Arabas_et_al_2015_Figs_8_9.demo_plots import _TimeseriesPlot, _ImagePlot\n",
    "\n",
    "from PySDM_examples.utils.temporary_file import TemporaryFile\n",
    "from PySDM_examples.utils.show_plot import show_plot\n",
    "from PySDM_examples.utils.widgets import display, HTML, FloatProgress\n",
    "\n",
    "from PySDM.products.state import AerosolSpecificConcentration, ParticleMeanRadius\n",
    "\n",
    "from PySDM.physics import si\n",
    "\n",
    "import numpy as np\n",
    "from scipy.io.netcdf import netcdf_file\n",
    "from matplotlib import pyplot, rcParams\n",
    "from matplotlib.animation import FuncAnimation\n",
    "from matplotlib.gridspec import GridSpec"
   ]
  },
  {
   "cell_type": "code",
   "execution_count": 4,
   "metadata": {},
   "outputs": [],
   "source": [
    "class ProgBarController:\n",
    "    def __init__(self):\n",
    "        self.progress = FloatProgress(value=0.0, min=0.0, max=1.0)\n",
    "        self.panic = False\n",
    "\n",
    "    def __enter__(self):\n",
    "        self.set_percent(0)\n",
    "        display(self.progress)\n",
    "        \n",
    "    def __exit__(self, *_):\n",
    "        pass\n",
    "    \n",
    "    def set_percent(self, value):\n",
    "        self.progress.value = value"
   ]
  },
  {
   "cell_type": "code",
   "execution_count": 15,
   "metadata": {},
   "outputs": [
    {
     "data": {
      "application/vnd.jupyter.widget-view+json": {
       "model_id": "7f01a78d1ffd4529876e7f8b087d0645",
       "version_major": 2,
       "version_minor": 0
      },
      "text/plain": [
       "FloatProgress(value=0.0, max=1.0)"
      ]
     },
     "metadata": {},
     "output_type": "display_data"
    }
   ],
   "source": [
    "settings = Settings()\n",
    "\n",
    "products = [\n",
    "    AerosolSpecificConcentration(radius_threshold=settings.aerosol_radius_threshold),\n",
    "    ParticleMeanRadius()\n",
    "]\n",
    "\n",
    "settings.n_sd_per_gridbox = 16\n",
    "settings.grid = (32, 32)\n",
    "settings.dt = .1 * si.second\n",
    "settings.n_spin_up = int(si.hour / settings.dt)\n",
    "settings.n_steps = int(2 * settings.n_spin_up)\n",
    "settings.outfreq = int(1 * si.minute / settings.dt)\n",
    "settings.condensation_rtol_x = 1e-2\n",
    "settings.condensation_rtol_thd = 1e-2\n",
    "settings.adaptive = True\n",
    "\n",
    "storage = Storage()\n",
    "simulation = Simulation(settings, storage)\n",
    "simulation.reinit(products)\n",
    "simulation.run(ProgBarController())"
   ]
  },
  {
   "cell_type": "code",
   "execution_count": 16,
   "metadata": {},
   "outputs": [
    {
     "data": {
      "application/vnd.jupyter.widget-view+json": {
       "model_id": "985865d722694028a4629ead00d326ad",
       "version_major": 2,
       "version_minor": 0
      },
      "text/plain": [
       "FloatProgress(value=0.0, max=1.0)"
      ]
     },
     "metadata": {},
     "output_type": "display_data"
    }
   ],
   "source": [
    "temp_file = TemporaryFile('.nc')\n",
    "exporter = NetCDFExporter(storage, settings, simulation, temp_file.absolute_path)\n",
    "exporter.run(ProgBarController())"
   ]
  },
  {
   "cell_type": "code",
   "execution_count": 21,
   "metadata": {},
   "outputs": [],
   "source": [
    "class temp_file:\n",
    "    absolute_path = '/home/slayoo/devel/PySDM/PySDM_examples/utils/temporary_files/tmpb3ab8gcn.nc'\n",
    "\n",
    "default_figsize = rcParams[\"figure.figsize\"]\n",
    "figsize = (2 * default_figsize[0], 1.2* default_figsize[1])\n",
    "gs = GridSpec(nrows=13, ncols=14)\n",
    "\n",
    "fig = pyplot.figure(figsize=figsize)\n",
    "axs = (\n",
    "    fig.add_subplot(gs[:gs.nrows-4, :gs.ncols//2]),\n",
    "    fig.add_subplot(gs[:gs.nrows-4, gs.ncols//2:]),\n",
    "    fig.add_subplot(gs[gs.nrows-2:,2:-1])\n",
    ")\n",
    "\n",
    "ncdf = netcdf_file(temp_file.absolute_path, mode='r', mmap=False)\n",
    "\n",
    "plots = (\n",
    "    _ImagePlot(fig, axs[0], grid=ncdf.grid, size=ncdf.size, product=products[0], show=False, lines=False),\n",
    "    _ImagePlot(fig, axs[1], grid=ncdf.grid, size=ncdf.size, product=products[1], show=False, lines=False),\n",
    "    _TimeseriesPlot(fig, axs[2], ncdf.variables['T'][:], show=False)\n",
    ")\n",
    "\n",
    "plots[2].ax.axvline(ncdf.n_spin_up * ncdf.dt)\n",
    "plots[2].ax.set_ylim(0, .001)\n",
    "\n",
    "interval = 100 #ms\n",
    "frame_list = np.arange(ncdf.variables['T'].shape[0], dtype=np.int)\n",
    "\n",
    "def update(frame_num):\n",
    "    plots[0].update(ncdf.variables['n_a_mg'][frame_num], step=frame_num*ncdf.outfreq)\n",
    "    plots[1].update(ncdf.variables['radius_m1'][frame_num], step=frame_num*ncdf.outfreq)\n",
    "    plots[2].update(ncdf.variables['surf_precip'][0:frame_num+1])\n",
    "    return (plots[0].im, plots[1].im, plots[2].timeseries)\n",
    "pyplot.close(fig)"
   ]
  },
  {
   "cell_type": "code",
   "execution_count": 22,
   "metadata": {},
   "outputs": [
    {
     "data": {
      "application/vnd.jupyter.widget-view+json": {
       "model_id": "d4cb81e8cd774bf59a543708b112d12e",
       "version_major": 2,
       "version_minor": 0
      },
      "text/plain": [
       "HTML(value='<video width=\"864\" height=\"344\" controls autoplay loop>\\n  <source type=\"video/mp4\" src=\"data:vide…"
      ]
     },
     "metadata": {},
     "output_type": "display_data"
    },
    {
     "data": {
      "application/vnd.jupyter.widget-view+json": {
       "model_id": "9bc2739202994c9ba06c893d5dcd8174",
       "version_major": 2,
       "version_minor": 0
      },
      "text/plain": [
       "HTML(value=\"<a href='../utils/temporary_files/tmp8rlv7w4_.mp4' target='_blank'>../utils/temporary_files/tmp8rl…"
      ]
     },
     "metadata": {},
     "output_type": "display_data"
    }
   ],
   "source": [
    "animation = FuncAnimation(fig, update, frames=frame_list, interval=interval, blit=False)\n",
    "\n",
    "if 'CI' not in os.environ:\n",
    "    display(HTML(animation.to_html5_video()))\n",
    "    file = TemporaryFile('.mp4')\n",
    "    animation.save(file.absolute_path)\n",
    "    display(file.make_link_widget())"
   ]
  },
  {
   "cell_type": "code",
   "execution_count": null,
   "metadata": {},
   "outputs": [],
   "source": []
  },
  {
   "cell_type": "code",
   "execution_count": null,
   "metadata": {},
   "outputs": [],
   "source": []
  }
 ],
 "metadata": {
  "kernelspec": {
   "display_name": "Python 3",
   "language": "python",
   "name": "python3"
  },
  "language_info": {
   "codemirror_mode": {
    "name": "ipython",
    "version": 3
   },
   "file_extension": ".py",
   "mimetype": "text/x-python",
   "name": "python",
   "nbconvert_exporter": "python",
   "pygments_lexer": "ipython3",
   "version": "3.8.2"
  }
 },
 "nbformat": 4,
 "nbformat_minor": 4
}
