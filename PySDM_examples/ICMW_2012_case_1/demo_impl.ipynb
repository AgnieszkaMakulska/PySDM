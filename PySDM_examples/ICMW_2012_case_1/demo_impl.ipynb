{
 "cells": [
  {
   "cell_type": "code",
   "execution_count": 1,
   "metadata": {},
   "outputs": [],
   "source": [
    "# make local files accessible to import statements\n",
    "import sys, os\n",
    "cwd = os.getcwd()\n",
    "sys.path.insert(0, os.path.join(cwd, '../../submodules/MPyDATA'))\n",
    "sys.path.insert(0, os.path.join(cwd, '../..'))"
   ]
  },
  {
   "cell_type": "code",
   "execution_count": 2,
   "metadata": {
    "pycharm": {
     "is_executing": false
    }
   },
   "outputs": [],
   "source": [
    "from PySDM_examples.ICMW_2012_case_1.demo_controller import DemoController\n",
    "from PySDM_examples.ICMW_2012_case_1.storage import Storage\n",
    "from PySDM_examples.ICMW_2012_case_1.demo_setup import DemoSetup\n",
    "from PySDM_examples.ICMW_2012_case_1.simulation import Simulation\n",
    "from PySDM_examples.ICMW_2012_case_1.demo_viewer import DemoViewer\n",
    "from PySDM_examples.ICMW_2012_case_1.export import netCDF"
   ]
  },
  {
   "cell_type": "code",
   "execution_count": 3,
   "metadata": {
    "pycharm": {
     "is_executing": false
    }
   },
   "outputs": [],
   "source": [
    "from IPython.display import display\n",
    "from ipywidgets import Tab, VBox"
   ]
  },
  {
   "cell_type": "code",
   "execution_count": 4,
   "metadata": {
    "pycharm": {
     "is_executing": false
    },
    "scrolled": false
   },
   "outputs": [
    {
     "data": {
      "application/vnd.jupyter.widget-view+json": {
       "model_id": "5ad4a7eff6494a1fb46a7b6867e1cc3b",
       "version_major": 2,
       "version_minor": 0
      },
      "text/plain": [
       "Tab(children=(VBox(children=(HBox(children=(FloatProgress(value=0.0, description='%', max=1.0), Button(icon='p…"
      ]
     },
     "metadata": {},
     "output_type": "display_data"
    }
   ],
   "source": [
    "setup = DemoSetup()\n",
    "storage = Storage()\n",
    "simulator = Simulation(setup, storage)\n",
    "exporter = netCDF(storage, setup)\n",
    "viewer = DemoViewer(storage, setup)\n",
    "controller = DemoController(simulator, viewer, exporter)\n",
    "tabs = Tab([setup.box(), VBox([controller.box(), viewer.box()])])\n",
    "tabs.set_title(0, \"Setup\")\n",
    "tabs.set_title(1, \"Simulation\")\n",
    "tabs.observe(controller.reinit, 'selected_index')\n",
    "display(tabs)"
   ]
  },
  {
   "cell_type": "code",
   "execution_count": null,
   "metadata": {},
   "outputs": [],
   "source": []
  }
 ],
 "metadata": {
  "kernelspec": {
   "display_name": "Python 3",
   "language": "python",
   "name": "python3"
  },
  "language_info": {
   "codemirror_mode": {
    "name": "ipython",
    "version": 3
   },
   "file_extension": ".py",
   "mimetype": "text/x-python",
   "name": "python",
   "nbconvert_exporter": "python",
   "pygments_lexer": "ipython3",
   "version": "3.7.2+"
  },
  "pycharm": {
   "stem_cell": {
    "cell_type": "raw",
    "source": [],
    "metadata": {
     "collapsed": false
    }
   }
  }
 },
 "nbformat": 4,
 "nbformat_minor": 2
}