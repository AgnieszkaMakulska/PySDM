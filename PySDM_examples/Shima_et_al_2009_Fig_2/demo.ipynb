{
 "cells": [
  {
   "cell_type": "code",
   "execution_count": 1,
   "metadata": {},
   "outputs": [],
   "source": [
    "\"\"\"\n",
    "make PySDM files accessible to import statements\n",
    "\"\"\"\n",
    "\n",
    "import sys, os\n",
    "if 'google.colab' in sys.modules:  # To use GPU on colab set hardware accelerator as 'GPU' before start session\n",
    "    ! git clone --recurse-submodules -j8 https://github.com/piotrbartman/PySDM.git\n",
    "    %cd PySDM\n",
    "    ! pip install -U $(cat requirements.txt | cut -d '=' -f 1)\n",
    "    ! pip install -U $(cat submodules/MPyDATA/requirements.txt | cut -d '=' -f 1)\n",
    "    ! pip install submodules/MPyDATA\n",
    "else:\n",
    "    sys.path.append(os.path.join(os.getcwd(), '../..'))"
   ]
  },
  {
   "cell_type": "code",
   "execution_count": 2,
   "metadata": {},
   "outputs": [],
   "source": [
    "from numpy import errstate\n",
    "from PySDM.backends import Default, ThrustRTC\n",
    "from PySDM_examples.Shima_et_al_2009_Fig_2.spectrum_plotter import SpectrumPlotter\n",
    "from PySDM_examples.Shima_et_al_2009_Fig_2.setup import SetupA\n",
    "from PySDM_examples.Shima_et_al_2009_Fig_2.example import run\n",
    "import ipywidgets as widgets"
   ]
  },
  {
   "cell_type": "code",
   "execution_count": 3,
   "metadata": {},
   "outputs": [],
   "source": [
    "class Progbar:\n",
    "    def __init__(self, max_steps):\n",
    "        self.max_steps = max_steps\n",
    "        self.steps = 0\n",
    "        self.progbar = widgets.IntProgress(min=0, max=100, description='%')\n",
    "\n",
    "    def notify(self):\n",
    "        self.steps += 1\n",
    "        self.progbar.value = 100 * (self.steps / self.max_steps)"
   ]
  },
  {
   "cell_type": "code",
   "execution_count": 4,
   "metadata": {},
   "outputs": [],
   "source": [
    "def demo(*, n_SD, n_step, n_plot, gpu):\n",
    "    with errstate(all='raise'):\n",
    "        setup = SetupA()\n",
    "        setup.backend = ThrustRTC() if gpu else Default()\n",
    "        setup.n_sd = 2 ** n_SD\n",
    "        setup._steps = [i * (n_step // n_plot) for i in range(n_plot + 1)]\n",
    "\n",
    "        setup.check = lambda _, step: update_progbar(step / setup.steps[-1])\n",
    "        \n",
    "        states, _ = run(setup)\n",
    "    \n",
    "    with errstate(invalid='ignore'):\n",
    "        plotter = SpectrumPlotter(setup)\n",
    "        for step, state in states.items():\n",
    "            plotter.plot(state, step * setup.dt)\n",
    "        plotter.show()"
   ]
  },
  {
   "cell_type": "code",
   "execution_count": 6,
   "metadata": {
    "scrolled": false
   },
   "outputs": [
    {
     "data": {
      "application/vnd.jupyter.widget-view+json": {
       "model_id": "f00254a779a349f5a7634866b61ca6b5",
       "version_major": 2,
       "version_minor": 0
      },
      "text/plain": [
       "HBox(children=(IntSlider(value=14, continuous_update=False, description='log_2(n_SD)', max=18, min=12), IntSli…"
      ]
     },
     "metadata": {},
     "output_type": "display_data"
    },
    {
     "data": {
      "application/vnd.jupyter.widget-view+json": {
       "model_id": "896f3bb5c8704972b32b9bfafdc0ca62",
       "version_major": 2,
       "version_minor": 0
      },
      "text/plain": [
       "IntProgress(value=0, description='%')"
      ]
     },
     "metadata": {},
     "output_type": "display_data"
    },
    {
     "data": {
      "application/vnd.jupyter.widget-view+json": {
       "model_id": "65ef975561e14e82a3014cb85bf3cc21",
       "version_major": 2,
       "version_minor": 0
      },
      "text/plain": [
       "Output()"
      ]
     },
     "metadata": {},
     "output_type": "display_data"
    }
   ],
   "source": [
    "n_SD = widgets.IntSlider(value=14, min=12, max=18, step=1, description='log_2(n_SD)', continuous_update=False)\n",
    "n_step = widgets.IntSlider(value=3600, step=100, min=0, max=3600, description='n_step', continuous_update=False)\n",
    "n_plot = widgets.IntSlider(value=3, step=1, min=1, max=8, description='n_plot', continuous_update=False)\n",
    "gpu = widgets.Checkbox(value=False, description='GPU')\n",
    "options = [n_SD, n_step, n_plot]\n",
    "if ThrustRTC.ENABLE:\n",
    "    options.append(gpu)\n",
    "ui = widgets.HBox(options)\n",
    "\n",
    "self = widgets.interactive_output(demo, {'n_SD': n_SD, 'n_step': n_step, 'n_plot': n_plot, 'gpu': gpu})\n",
    "\n",
    "display(ui, progbar, self)"
   ]
  },
  {
   "cell_type": "code",
   "execution_count": null,
   "metadata": {},
   "outputs": [],
   "source": []
  }
 ],
 "metadata": {
  "kernelspec": {
   "display_name": "Python 3",
   "language": "python",
   "name": "python3"
  },
  "language_info": {
   "codemirror_mode": {
    "name": "ipython",
    "version": 3
   },
   "file_extension": ".py",
   "mimetype": "text/x-python",
   "name": "python",
   "nbconvert_exporter": "python",
   "pygments_lexer": "ipython3",
   "version": "3.7.6"
  }
 },
 "nbformat": 4,
 "nbformat_minor": 4
}