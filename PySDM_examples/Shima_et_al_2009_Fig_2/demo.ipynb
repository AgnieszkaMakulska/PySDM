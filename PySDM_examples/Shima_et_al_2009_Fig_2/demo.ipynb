{
 "cells": [
  {
   "cell_type": "code",
   "execution_count": 1,
   "metadata": {},
   "outputs": [],
   "source": [
    "\"\"\"\n",
    "make PySDM files accessible to import statements\n",
    "\"\"\"\n",
    "\n",
    "import sys, os\n",
    "if 'google.colab' in sys.modules:  # To use GPU on colab set hardware accelerator as 'GPU' before start session\n",
    "    ! git clone --recurse-submodules -j8 https://github.com/piotrbartman/PySDM.git\n",
    "    %cd PySDM\n",
    "    ! pip install -U $(cat requirements.txt | cut -d '=' -f 1)\n",
    "    ! pip install -U $(cat submodules/MPyDATA/requirements.txt | cut -d '=' -f 1)\n",
    "    ! pip install submodules/MPyDATA\n",
    "else:\n",
    "    sys.path.append(os.path.join(os.getcwd(), '../..'))"
   ]
  },
  {
   "cell_type": "code",
   "execution_count": 2,
   "metadata": {},
   "outputs": [],
   "source": [
    "from numpy import errstate\n",
    "from PySDM.backends import Default, ThrustRTC\n",
    "from PySDM_examples.Shima_et_al_2009_Fig_2.spectrum_plotter import SpectrumPlotter\n",
    "from PySDM_examples.Shima_et_al_2009_Fig_2.setup import SetupA\n",
    "from PySDM_examples.Shima_et_al_2009_Fig_2.example import run\n",
    "import ipywidgets as widgets"
   ]
  },
  {
   "cell_type": "code",
   "execution_count": 6,
   "metadata": {},
   "outputs": [],
   "source": [
    "prwidgets.IntProgress(min=0, max=100, description='%')\n",
    "class ProgbarUpdater:\n",
    "    def __init__(self, progbar, max_steps):\n",
    "        self.max_steps = max_steps\n",
    "        self.steps = 0\n",
    "        self.progbar = progbar\n",
    "\n",
    "    def notify(self):\n",
    "        self.steps += 1\n",
    "        self.progbar.value = 100 * (self.steps / self.max_steps)"
   ]
  },
  {
   "cell_type": "code",
   "execution_count": 7,
   "metadata": {},
   "outputs": [],
   "source": [
    "def demo(*, n_SD, n_step, n_plot, adaptive, gpu):\n",
    "    with errstate(all='raise'):\n",
    "        setup = SetupA()\n",
    "        setup.backend = ThrustRTC() if gpu else Default()\n",
    "        setup.n_sd = 2 ** n_SD\n",
    "        setup.adaptive = adaptive\n",
    "        setup._steps = [i * (n_step // n_plot) for i in range(n_plot + 1)]\n",
    "        \n",
    "        states, _ = run(setup, (ProgbarUpdater(progbar, setup._steps[-1]),))\n",
    "    \n",
    "    with errstate(invalid='ignore'):\n",
    "        plotter = SpectrumPlotter(setup)\n",
    "        plotter.smooth = True\n",
    "        for step, state in states.items():\n",
    "            plotter.plot(state, step * setup.dt)\n",
    "        plotter.show()"
   ]
  },
  {
   "cell_type": "code",
   "execution_count": 8,
   "metadata": {
    "scrolled": false
   },
   "outputs": [
    {
     "ename": "NameError",
     "evalue": "name 'progbar' is not defined",
     "output_type": "error",
     "traceback": [
      "\u001b[1;31m---------------------------------------------------------------------------\u001b[0m",
      "\u001b[1;31mNameError\u001b[0m                                 Traceback (most recent call last)",
      "\u001b[1;32m<ipython-input-8-1b720f952cbf>\u001b[0m in \u001b[0;36m<module>\u001b[1;34m\u001b[0m\n\u001b[0;32m     14\u001b[0m                                   {'n_SD': n_SD, 'n_step': n_step, 'n_plot': n_plot, 'adaptive': adaptive, 'gpu': gpu})\n\u001b[0;32m     15\u001b[0m \u001b[1;33m\u001b[0m\u001b[0m\n\u001b[1;32m---> 16\u001b[1;33m \u001b[0mdisplay\u001b[0m\u001b[1;33m(\u001b[0m\u001b[0msliders\u001b[0m\u001b[1;33m,\u001b[0m \u001b[0mboxes\u001b[0m\u001b[1;33m,\u001b[0m \u001b[0mprogbar\u001b[0m\u001b[1;33m,\u001b[0m \u001b[0mself\u001b[0m\u001b[1;33m)\u001b[0m\u001b[1;33m\u001b[0m\u001b[1;33m\u001b[0m\u001b[0m\n\u001b[0m",
      "\u001b[1;31mNameError\u001b[0m: name 'progbar' is not defined"
     ]
    }
   ],
   "source": [
    "n_SD = widgets.IntSlider(value=14, min=12, max=18, step=1, description='$log_2(n_{SD})$', continuous_update=False)\n",
    "n_step = widgets.IntSlider(value=3600, step=100, min=0, max=3600, description='$n_{step}$', continuous_update=False)\n",
    "n_plot = widgets.IntSlider(value=3, step=1, min=1, max=8, description='$n_{plot}$', continuous_update=False)\n",
    "sliders = widgets.HBox([n_SD, n_step, n_plot])\n",
    "\n",
    "adaptive = widgets.Checkbox(value=False, description='adaptive dt')\n",
    "gpu = widgets.Checkbox(value=False, description='GPU')\n",
    "options = [adaptive]\n",
    "if ThrustRTC.ENABLE:\n",
    "    options.append(gpu)\n",
    "boxes = widgets.HBox(options)\n",
    "\n",
    "self = widgets.interactive_output(demo, \n",
    "                                  {'n_SD': n_SD, 'n_step': n_step, 'n_plot': n_plot, 'adaptive': adaptive, 'gpu': gpu})\n",
    "\n",
    "display(sliders, boxes, progbar, self)"
   ]
  },
  {
   "cell_type": "code",
   "execution_count": null,
   "metadata": {},
   "outputs": [],
   "source": []
  }
 ],
 "metadata": {
  "kernelspec": {
   "display_name": "Python 3",
   "language": "python",
   "name": "python3"
  },
  "language_info": {
   "codemirror_mode": {
    "name": "ipython",
    "version": 3
   },
   "file_extension": ".py",
   "mimetype": "text/x-python",
   "name": "python",
   "nbconvert_exporter": "python",
   "pygments_lexer": "ipython3",
   "version": "3.8.2"
  }
 },
 "nbformat": 4,
 "nbformat_minor": 4
}
