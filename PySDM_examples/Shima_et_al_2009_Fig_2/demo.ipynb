{
 "cells": [
  {
   "cell_type": "code",
   "execution_count": 1,
   "metadata": {
    "pycharm": {
     "is_executing": false,
     "name": "#%%\n"
    }
   },
   "outputs": [],
   "source": [
    "# make local files accessible to import statements\n",
    "import sys, os\n",
    "sys.path.append(os.path.join(os.getcwd(), '../..'))"
   ]
  },
  {
   "cell_type": "code",
   "execution_count": 2,
   "metadata": {
    "pycharm": {
     "is_executing": false,
     "name": "#%%\n"
    }
   },
   "outputs": [],
   "source": [
    "from numpy import errstate\n",
    "from PySDM_examples.Shima_et_al_2009_Fig_2.plotter import Plotter\n",
    "from PySDM_examples.Shima_et_al_2009_Fig_2.setup import SetupA\n",
    "from PySDM_examples.Shima_et_al_2009_Fig_2.example import run\n",
    "import ipywidgets as widgets\n",
    "%matplotlib notebook"
   ]
  },
  {
   "cell_type": "code",
   "execution_count": 3,
   "metadata": {},
   "outputs": [],
   "source": [
    "progbar = widgets.IntProgress(min=0, max=100, description='%')\n",
    "def update_progbar(value):\n",
    "    progbar.value = 100 * value"
   ]
  },
  {
   "cell_type": "code",
   "execution_count": 4,
   "metadata": {
    "pycharm": {
     "is_executing": false,
     "name": "#%%\n"
    }
   },
   "outputs": [],
   "source": [
    "def demo(*, n_SD, n_step, n_plot):\n",
    "    with errstate(all='raise'):\n",
    "        setup = SetupA()\n",
    "        \n",
    "        setup.n_sd = 2 ** n_SD\n",
    "        setup.steps = [i * (n_step // n_plot) for i in range(n_plot + 1)]\n",
    "\n",
    "        setup.check = lambda _, step: update_progbar(step / setup.steps[-1])\n",
    "        \n",
    "        states, _ = run(setup)\n",
    "    \n",
    "        x_min = min([state.min('volume') for state in states.values()])\n",
    "        x_max = max([state.max('volume') for state in states.values()])\n",
    "\n",
    "    with errstate(invalid='ignore'):\n",
    "        plotter = Plotter(setup, (x_min, x_max))\n",
    "        for step, state in states.items():\n",
    "            plotter.plot(state, step * setup.dt)\n",
    "        plotter.show()"
   ]
  },
  {
   "cell_type": "code",
   "execution_count": 5,
   "metadata": {
    "pycharm": {
     "is_executing": false
    }
   },
   "outputs": [
    {
     "data": {
      "application/vnd.jupyter.widget-view+json": {
       "model_id": "0dff2fde2b46496ab8e479d7cca33127"
      }
     },
     "metadata": {},
     "output_type": "display_data"
    },
    {
     "data": {
      "application/vnd.jupyter.widget-view+json": {
       "model_id": "f775ee2bde184ca39508a3379bde2b2b"
      }
     },
     "metadata": {},
     "output_type": "display_data"
    },
    {
     "data": {
      "application/vnd.jupyter.widget-view+json": {
       "model_id": "5218ff895668449d8c5a323607849361"
      }
     },
     "metadata": {},
     "output_type": "display_data"
    }
   ],
   "source": [
    "n_SD = widgets.IntSlider(value=14, min=12, max=18, step=1, description='log_2(n_SD)', continuous_update=False)\n",
    "n_step = widgets.IntSlider(value=3600, step=100, min=0, max=3600, description='n_step', continuous_update=False)\n",
    "n_plot = widgets.IntSlider(value=3, step=1, min=1, max=8, description='n_plot', continuous_update=False)\n",
    "ui = widgets.HBox([n_SD, n_step, n_plot])\n",
    "\n",
    "self = widgets.interactive_output(demo, {'n_SD': n_SD, 'n_step': n_step, 'n_plot': n_plot})\n",
    "\n",
    "display(ui, progbar, self)"
   ]
  },
  {
   "cell_type": "code",
   "execution_count": null,
   "metadata": {
    "pycharm": {
     "name": "#%%\n"
    }
   },
   "outputs": [],
   "source": []
  }
 ],
 "metadata": {
  "kernelspec": {
   "display_name": "Python 3",
   "language": "python",
   "name": "python3"
  },
  "language_info": {
   "codemirror_mode": {
    "name": "ipython",
    "version": 3
   },
   "file_extension": ".py",
   "mimetype": "text/x-python",
   "name": "python",
   "nbconvert_exporter": "python",
   "pygments_lexer": "ipython3",
   "version": "3.7.2+"
  },
  "pycharm": {
   "stem_cell": {
    "cell_type": "raw",
    "metadata": {
     "collapsed": false
    },
    "source": []
   }
  }
 },
 "nbformat": 4,
 "nbformat_minor": 1
}
