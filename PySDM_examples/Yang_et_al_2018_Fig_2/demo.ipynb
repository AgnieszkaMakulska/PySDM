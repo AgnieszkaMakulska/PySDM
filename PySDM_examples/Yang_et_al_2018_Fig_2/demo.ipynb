{
 "cells": [
  {
   "cell_type": "code",
   "execution_count": 1,
   "metadata": {},
   "outputs": [],
   "source": [
    "# license: GPL v3\n",
    "# authors: Michael Olesik, Piotr Bartman, Sylwester Arabas\n",
    "# copyright: Jagiellonian University\n",
    "# based on Fig. 2 from Yang et al. 2018 (http://dx.doi.org/10.5194/acp-18-7313-2018)"
   ]
  },
  {
   "cell_type": "code",
   "execution_count": 2,
   "metadata": {},
   "outputs": [],
   "source": [
    "# make local files accessible to import statements\n",
    "import sys, os\n",
    "sys.path.insert(0, os.path.join(os.getcwd(), '../..'))\n",
    "from PySDM_tests.smoke_tests.utils import bdf"
   ]
  },
  {
   "cell_type": "code",
   "execution_count": 3,
   "metadata": {},
   "outputs": [],
   "source": [
    "from PySDM_examples.Yang_et_al_2018_Fig_2.example import Simulation\n",
    "from PySDM_examples.Yang_et_al_2018_Fig_2.setup import Setup\n",
    "from PySDM.physics import formulae as phys\n",
    "import numpy as np\n",
    "import matplotlib.pyplot as plt\n",
    "import matplotlib as mpl\n",
    "mpl.rcParams.update({'font.size': 16})\n",
    "from PySDM_examples.utils.show_plot import show_plot"
   ]
  },
  {
   "cell_type": "code",
   "execution_count": 4,
   "metadata": {},
   "outputs": [],
   "source": [
    "import pint\n",
    "si = pint.UnitRegistry()\n",
    "si.setup_matplotlib()"
   ]
  },
  {
   "cell_type": "code",
   "execution_count": 5,
   "metadata": {},
   "outputs": [],
   "source": [
    "ix51 = 40\n",
    "ix503 = 99"
   ]
  },
  {
   "cell_type": "code",
   "execution_count": 6,
   "metadata": {},
   "outputs": [],
   "source": [
    "# schemes = ['default','non_adaptive', 'BDF']\n",
    "schemes=['default']"
   ]
  },
  {
   "cell_type": "code",
   "execution_count": 7,
   "metadata": {},
   "outputs": [],
   "source": [
    "def runner(scheme='BDF'):\n",
    "    assert scheme in ['default','non_adaptive','BDF']\n",
    "    setup = Setup(dt_output = 10*si.second)\n",
    "    if scheme == 'non_adaptive':\n",
    "        setup.adaptive = False\n",
    "        setup.dt_max = 1 #* si.second\n",
    "    \n",
    "    assert round(setup.r_dry[  ix51]*1e9, 0) == 51\n",
    "    assert round(setup.r_dry[ ix503]*1e9, 0) == 503\n",
    "\n",
    "    # setup.rtol_thd = 1e-7\n",
    "    # setup.rtol_lnv = 1e-7\n",
    "    # setup.dt_max = .5\n",
    "\n",
    "    simulation = Simulation(setup)\n",
    "    if scheme == 'BDF':\n",
    "        bdf.patch_particles(simulation.particles, setup.coord, rtol=1e-4)\n",
    "\n",
    "    output = simulation.run()\n",
    "    result = {}\n",
    "    \n",
    "    result['r_bins_values'] = np.array(output['r_bins_values']).T / (setup.mass_of_dry_air)\n",
    "    result['r_bins_edges'] = setup.r_bins_edges\n",
    "    \n",
    "    result['r'] = np.array(output['r']).T * si.metres\n",
    "    result['t'] = output[\"t\"] * si.seconds\n",
    "    result['z'] = output[\"z\"] * si.metres\n",
    "    result['S'] = np.array(output[\"S\"]) * si.dimensionless\n",
    "    result['q'] = (setup.q0 - np.array(output[\"qv\"])) * si.kilogram / si.kilogram\n",
    "    result['T'] = np.array(output[\"T\"])\n",
    "    result['n'] = setup.n / (setup.mass_of_dry_air * si.kilogram)\n",
    "    \n",
    "    arg_T = result['T'].reshape(-1,1).repeat(len(result['n']), axis = 1)\n",
    "    result['r_cr'] = phys.r_cr(setup.kappa, setup.r_dry, arg_T).transpose()\n",
    "    return  result"
   ]
  },
  {
   "cell_type": "code",
   "execution_count": 8,
   "metadata": {},
   "outputs": [],
   "source": [
    "outputs = []\n",
    "for scheme in schemes:\n",
    "    outputs.append(runner(scheme))"
   ]
  },
  {
   "cell_type": "code",
   "execution_count": 9,
   "metadata": {},
   "outputs": [],
   "source": [
    "figsize = (14,9*len(outputs))"
   ]
  },
  {
   "cell_type": "code",
   "execution_count": 10,
   "metadata": {
    "scrolled": false
   },
   "outputs": [
    {
     "data": {
      "application/vnd.jupyter.widget-view+json": {
       "model_id": "deef52d52be4426cb2c9a12e3ce59f13",
       "version_major": 2,
       "version_minor": 0
      },
      "text/plain": [
       "VBox(children=(Output(), HTML(value=\"<a href='../utils/output\\\\q_S_rd.pdf' target='_blank'>../utils/output\\\\q_…"
      ]
     },
     "metadata": {},
     "output_type": "display_data"
    }
   ],
   "source": [
    "fig, ax = plt.subplots(len(schemes), 3, sharey=True, figsize=figsize)\n",
    "if len(outputs)==1:\n",
    "    ax = np.array(ax).reshape(len(outputs),3)\n",
    "for i, output in enumerate(outputs):\n",
    "    \n",
    "    ax[i,1].set_title('Scheme: '+f'({schemes[i]})')\n",
    "    \n",
    "    ax[i,0].set_ylim([800, 1300])\n",
    "    ax[i,0].plot(output['q'], output['z'], label=\"q$_l$\")\n",
    "    ax[i,0].xaxis.set_units(si.gram / si.kilogram)\n",
    "    ax[i,0].grid()\n",
    "    ax[i,0].legend(loc='best')\n",
    "\n",
    "    ax[i,1].plot(output['S']+1, output['z'], label=\"S+1\")\n",
    "    ax[i,1].grid()\n",
    "    ax[i,1].legend(loc='best')\n",
    "    ax[i,1].set_xlim([0.997, 1.003])\n",
    "\n",
    "    ax[i,2].plot(output['r'][ix51], output['z'], label=\"r$_d$ = 51 nm\")\n",
    "    ax[i,2].plot(output['r'][ix503], output['z'], label=\"r$_d$ = 501 nm\")\n",
    "    ax[i,2].grid()\n",
    "    ax[i,2].xaxis.set_units(si.micrometre)\n",
    "    ax[i,2].legend(loc='best')\n",
    "    plt.tight_layout()\n",
    "    fig.subplots_adjust(top=0.88)\n",
    "\n",
    "    \n",
    "\n",
    "show_plot(filename='q_S_rd.pdf')"
   ]
  },
  {
   "cell_type": "code",
   "execution_count": 11,
   "metadata": {},
   "outputs": [],
   "source": [
    "def rmean(r, n, mask):\n",
    "    nt = r.shape[1]\n",
    "    n_dot_r = n.magnitude.dot(np.where(mask, r.magnitude, 0))\n",
    "    n_tot = np.sum(np.where(mask, n.magnitude.reshape(-1,1).repeat(nt, axis=1), 0), axis=0)\n",
    "    rmean = np.full(nt, np.nan)\n",
    "    nmask = n_tot > 0\n",
    "    rmean[nmask] = n_dot_r[nmask] / n_tot[nmask]\n",
    "    return rmean * r.units"
   ]
  },
  {
   "cell_type": "code",
   "execution_count": 12,
   "metadata": {
    "scrolled": false
   },
   "outputs": [
    {
     "data": {
      "application/vnd.jupyter.widget-view+json": {
       "model_id": "df81cd8b6b00497db4eee2ad611765c6",
       "version_major": 2,
       "version_minor": 0
      },
      "text/plain": [
       "VBox(children=(Output(), HTML(value=\"<a href='../utils/output\\\\spectrum.pdf' target='_blank'>../utils/output\\\\…"
      ]
     },
     "metadata": {},
     "output_type": "display_data"
    }
   ],
   "source": [
    "mgn = lambda value, unit: (value / unit).to_base_units().magnitude\n",
    "\n",
    "\n",
    "fig, ax = plt.subplots(len(schemes), 1, sharex=True, figsize=figsize)\n",
    "if len(outputs)==1:\n",
    "    ax = (ax,)\n",
    "for i, output in enumerate(outputs):\n",
    "    \n",
    "    hist = output['r_bins_values']\n",
    "    xedges = output['t'].magnitude\n",
    "    yedges = output['r_bins_edges']\n",
    "    \n",
    "    xunit = si.hour\n",
    "    yunit = si.micrometres\n",
    "    c = ax[i].pcolormesh(\n",
    "        mgn(xedges * output['t'].units, xunit), \n",
    "        mgn(yedges * output['r'].units, yunit), \n",
    "        hist,\n",
    "        cmap = 'coolwarm',\n",
    "        norm = mpl.colors.LogNorm()\n",
    "    )\n",
    "    ax[i].set_title('Scheme: '+f'({schemes[i]})')\n",
    "    ax[i].yaxis.set_units(yunit)\n",
    "    ax[i].xaxis.set_units(xunit)\n",
    "    ax[i].set_ylim([0, 20])\n",
    "\n",
    "    ax[i].plot(output['t'], rmean(output['r'], output['n'], output['r'].magnitude > output['r_cr']), label=\"r_mean (r > r_cr)\", color='black')\n",
    "    ax[i].plot(output['t'], rmean(output['r'], output['n'], output['r'] > 1 * si.micrometre), label=\"r_mean (r > 1 um)\", linestyle='--', color='gray')\n",
    "    ax[i].legend(loc='best')\n",
    "    ax[i].grid()\n",
    "    \n",
    "    plt.tight_layout()\n",
    "    fig.subplots_adjust(top=0.88)\n",
    "show_plot(filename='spectrum.pdf')"
   ]
  },
  {
   "cell_type": "code",
   "execution_count": 13,
   "metadata": {},
   "outputs": [],
   "source": [
    "def n_tot(n, condition):\n",
    "    return np.dot(n, condition)"
   ]
  },
  {
   "cell_type": "code",
   "execution_count": 14,
   "metadata": {
    "scrolled": false
   },
   "outputs": [
    {
     "name": "stderr",
     "output_type": "stream",
     "text": [
      "C:\\Users\\piotr\\Anaconda3\\envs\\hello-SDM\\lib\\site-packages\\pint\\quantity.py:1377: UnitStrippedWarning: The unit of the quantity is stripped.\n",
      "  warnings.warn(\"The unit of the quantity is stripped.\", UnitStrippedWarning)\n"
     ]
    },
    {
     "data": {
      "application/vnd.jupyter.widget-view+json": {
       "model_id": "2544093ae54e4750afaacabb9b624134",
       "version_major": 2,
       "version_minor": 0
      },
      "text/plain": [
       "VBox(children=(Output(), HTML(value=\"<a href='../utils/output\\\\total_number+S_bdf.pdf' target='_blank'>../util…"
      ]
     },
     "metadata": {},
     "output_type": "display_data"
    }
   ],
   "source": [
    "fig, ax = plt.subplots(len(schemes),1,figsize=figsize, sharex= True)\n",
    "if len(outputs)==1:\n",
    "    ax = (ax,)\n",
    "xunit = si.hour\n",
    "yunit = 1/si.microgram\n",
    "\n",
    "for i, data in enumerate(outputs):\n",
    "    ax[i].set_title('Total number concentration '+f'({schemes[i]})')\n",
    "    ax[i].yaxis.set_units(yunit)\n",
    "    ax[i].xaxis.set_units(xunit)\n",
    "    ax[i].plot(data['t'], n_tot(data['n'], data['r'].magnitude < data['r_cr']), label='not activated (r < r$_{cr}$)', color='blue')\n",
    "    ax[i].plot(data['t'], n_tot(data['n'], data['r'].magnitude > data['r_cr']), label=\"n_tot (r > r$_{cr}$)\", color='black')\n",
    "    ax[i].plot(data['t'], n_tot(data['n'], data['r'] > 1 * si.micrometre), label=\"n_tot (r > 1 $\\mu m$)\", linestyle='--', color='gray')\n",
    "    ax[i].set_xticks(Setup.t0 + 1/2/Setup.f0*np.arange(25), minor=True)\n",
    "    ax2 = ax[i].twinx()\n",
    "    ax2.plot(data['t'], data['S']+1, label = 'supersaturation')\n",
    "    ax2.xaxis.set_units(xunit)\n",
    "    ax2.set_ylim([.995,1.005])\n",
    "    ax2.grid(linestyle='--')\n",
    "    ax[i].legend(loc='upper center')\n",
    "    ax[i].grid(linestyle='--', which='minor')\n",
    "    plt.tight_layout()\n",
    "    fig.subplots_adjust(top=0.88)\n",
    "show_plot(filename='total_number+S_bdf.pdf')"
   ]
  },
  {
   "cell_type": "code",
   "execution_count": null,
   "metadata": {},
   "outputs": [],
   "source": []
  },
  {
   "cell_type": "code",
   "execution_count": null,
   "metadata": {},
   "outputs": [],
   "source": []
  }
 ],
 "metadata": {
  "kernelspec": {
   "display_name": "Python 3",
   "language": "python",
   "name": "python3"
  },
  "language_info": {
   "codemirror_mode": {
    "name": "ipython",
    "version": 3
   },
   "file_extension": ".py",
   "mimetype": "text/x-python",
   "name": "python",
   "nbconvert_exporter": "python",
   "pygments_lexer": "ipython3",
   "version": "3.7.3"
  }
 },
 "nbformat": 4,
 "nbformat_minor": 4
}