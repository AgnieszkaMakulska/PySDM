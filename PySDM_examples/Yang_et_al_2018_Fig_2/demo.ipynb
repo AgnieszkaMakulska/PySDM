{
 "cells": [
  {
   "cell_type": "code",
   "execution_count": 1,
   "metadata": {},
   "outputs": [],
   "source": [
    "# license: GPL v3\n",
    "# authors: Michael Olesik, Piotr Bartman, Sylwester Arabas\n",
    "# copyright: Jagiellonian University\n",
    "# based on Fig. 2 from Yang et al. 2018 (http://dx.doi.org/10.5194/acp-18-7313-2018)"
   ]
  },
  {
   "cell_type": "code",
   "execution_count": 2,
   "metadata": {},
   "outputs": [],
   "source": [
    "# make local files accessible to import statements\n",
    "import sys, os\n",
    "sys.path.insert(0, os.path.join(os.getcwd(), '../..'))\n",
    "from PySDM_tests.smoke_tests.utils import bdf"
   ]
  },
  {
   "cell_type": "code",
   "execution_count": 3,
   "metadata": {},
   "outputs": [],
   "source": [
    "from PySDM_examples.Yang_et_al_2018_Fig_2.example import Simulation\n",
    "from PySDM_examples.Yang_et_al_2018_Fig_2.setup import Setup\n",
    "from PySDM.physics import formulae as phys\n",
    "import numpy as np\n",
    "import matplotlib.pyplot as plt\n",
    "import matplotlib as mpl\n",
    "mpl.rcParams.update({'font.size': 16})\n",
    "from PySDM_examples.utils.show_plot import show_plot"
   ]
  },
  {
   "cell_type": "code",
   "execution_count": 4,
   "metadata": {},
   "outputs": [],
   "source": [
    "import pint\n",
    "si = pint.UnitRegistry()\n",
    "si.setup_matplotlib()"
   ]
  },
  {
   "cell_type": "code",
   "execution_count": 5,
   "metadata": {},
   "outputs": [],
   "source": [
    "ix51 = 40\n",
    "ix503 = 99"
   ]
  },
  {
   "cell_type": "code",
   "execution_count": 6,
   "metadata": {},
   "outputs": [],
   "source": [
    "# schemes = ['default','non_adaptive', 'BDF']\n",
    "schemes = ['default']\n",
    "# schemes = ['BDF']"
   ]
  },
  {
   "cell_type": "code",
   "execution_count": 7,
   "metadata": {},
   "outputs": [],
   "source": [
    "def runner(scheme='BDF'):\n",
    "    assert scheme in ['default','non_adaptive','BDF']\n",
    "    setup = Setup(dt_output = 60*10*si.second)\n",
    "    if scheme == 'non_adaptive':\n",
    "        setup.adaptive = False\n",
    "        setup.dt_max = .5 #* si.second\n",
    "    \n",
    "    assert round(setup.r_dry[  ix51]*1e9, 0) == 51\n",
    "    assert round(setup.r_dry[ ix503]*1e9, 0) == 503\n",
    "\n",
    "#     setup.rtol_thd = 1e-7\n",
    "    setup.rtol_x = 1e-3\n",
    "    # setup.dt_max = .5\n",
    "    \n",
    "\n",
    "    simulation = Simulation(setup)\n",
    "    if scheme == 'BDF':\n",
    "        rtol_bdf = 1e-4\n",
    "        bdf.patch_particles(simulation.particles, setup.coord, rtol=rtol_bdf)\n",
    "\n",
    "        \n",
    "    output = simulation.run()\n",
    "    result = {}\n",
    "    \n",
    "    result['r_bins_values'] = np.array(output['r_bins_values']).T / (setup.mass_of_dry_air)\n",
    "    result['r_bins_edges'] = setup.r_bins_edges\n",
    "    \n",
    "    result['r'] = np.array(output['r']).T * si.metres\n",
    "    result['t'] = output[\"t\"] * si.seconds\n",
    "    result['z'] = output[\"z\"] * si.metres\n",
    "    result['S'] = np.array(output[\"S\"]) * si.dimensionless\n",
    "    result['q'] = (setup.q0 - np.array(output[\"qv\"])) * si.kilogram / si.kilogram\n",
    "    result['T'] = np.array(output[\"T\"])\n",
    "    result['n'] = setup.n / (setup.mass_of_dry_air * si.kilogram)\n",
    "    result['dt_max'] = setup.dt_max\n",
    "    result['dt_cond_max'] = output['dt_cond_max']\n",
    "    result['dt_cond_min'] = output['dt_cond_min']\n",
    "    \n",
    "    result['r_dry'] = setup.r_dry\n",
    "    result['kappa'] = setup.kappa\n",
    "    \n",
    "    if scheme in ['default', 'non_adaptive']:\n",
    "        result['rtol_x'] = setup.rtol_x\n",
    "        result['rtol_thd'] = setup.rtol_thd\n",
    "    if scheme == 'BDF':\n",
    "        result['rtol_bdf'] = rtol_bdf\n",
    "    \n",
    "    arg_T = result['T'].reshape(-1,1).repeat(len(result['n']), axis = 1)\n",
    "    result['r_cr'] = phys.r_cr(setup.kappa, setup.r_dry, arg_T).transpose()\n",
    "    result['ripening_rate'] = output['ripening_rate']\n",
    "    return  result"
   ]
  },
  {
   "cell_type": "code",
   "execution_count": 8,
   "metadata": {
    "scrolled": false
   },
   "outputs": [],
   "source": [
    "outputs = []\n",
    "for scheme in schemes:\n",
    "    outputs.append(runner(scheme))"
   ]
  },
  {
   "cell_type": "code",
   "execution_count": 9,
   "metadata": {},
   "outputs": [],
   "source": [
    "# plt.step(outputs[0]['ripening_flags'])"
   ]
  },
  {
   "cell_type": "code",
   "execution_count": 10,
   "metadata": {},
   "outputs": [],
   "source": [
    "figsize = (14,9*len(outputs))"
   ]
  },
  {
   "cell_type": "code",
   "execution_count": 11,
   "metadata": {
    "scrolled": false
   },
   "outputs": [
    {
     "data": {
      "application/vnd.jupyter.widget-view+json": {
       "model_id": "56e4dd75a1144ed989da4d9a25cc65ea",
       "version_major": 2,
       "version_minor": 0
      },
      "text/plain": [
       "VBox(children=(Output(), HTML(value=\"<a href='../utils/output\\\\q_S_rd.pdf' target='_blank'>../utils/output\\\\q_…"
      ]
     },
     "metadata": {},
     "output_type": "display_data"
    }
   ],
   "source": [
    "fig, ax = plt.subplots(len(schemes), 3, sharey=True, figsize=figsize)\n",
    "if len(outputs)==1:\n",
    "    ax = np.array(ax).reshape(len(outputs),3)\n",
    "for i, output in enumerate(outputs):\n",
    "    dt_max = output['dt_max']\n",
    "    if schemes[i]=='BDF':\n",
    "#         rtol = rtol_bdf\n",
    "        rtol = 1e-4 # TODO\n",
    "        tols = f'tolerance = {rtol}'\n",
    "    else:\n",
    "        rtol_x = output['rtol_x']\n",
    "        rtol_thd = output['rtol_thd']\n",
    "        tols = f'rtol_x = {rtol_x}, rtol_thd = {rtol_thd}'\n",
    "        \n",
    "    ax[i,1].set_title('Scheme: '+f'({schemes[i]}) \\n dt_max = {dt_max}, '+tols)\n",
    "    \n",
    "    ax[i,0].set_ylim([800, 1300])\n",
    "    ax[i,0].plot(output['q'], output['z'], label=\"q$_l$\")\n",
    "    ax[i,0].xaxis.set_units(si.gram / si.kilogram)\n",
    "    ax[i,0].grid()\n",
    "    ax[i,0].legend(loc='best')\n",
    "\n",
    "    ax[i,1].plot(output['S']+1, output['z'], label=\"S+1\")\n",
    "    ax[i,1].grid()\n",
    "    ax[i,1].legend(loc='best')\n",
    "    ax[i,1].set_xlim([0.997, 1.003])\n",
    "\n",
    "    ax[i,2].plot(output['r'][ix51], output['z'], label=\"r$_d$ = 51 nm\")\n",
    "    ax[i,2].plot(output['r'][ix503], output['z'], label=\"r$_d$ = 501 nm\")\n",
    "    ax[i,2].grid()\n",
    "    ax[i,2].xaxis.set_units(si.micrometre)\n",
    "    ax[i,2].legend(loc='best')\n",
    "    plt.tight_layout()\n",
    "    fig.subplots_adjust(top=0.88)\n",
    "\n",
    "    \n",
    "\n",
    "show_plot(filename='q_S_rd.pdf')"
   ]
  },
  {
   "cell_type": "code",
   "execution_count": 12,
   "metadata": {},
   "outputs": [],
   "source": [
    "def rmean(r, n, mask): # TODO: move to products\n",
    "    nt = r.shape[1]\n",
    "    n_dot_r = n.magnitude.dot(np.where(mask, r.magnitude, 0))\n",
    "    n_tot = np.sum(np.where(mask, n.magnitude.reshape(-1,1).repeat(nt, axis=1), 0), axis=0)\n",
    "    rmean = np.full(nt, np.nan)\n",
    "    nmask = n_tot > 0\n",
    "    rmean[nmask] = n_dot_r[nmask] / n_tot[nmask]\n",
    "    return rmean * r.units"
   ]
  },
  {
   "cell_type": "code",
   "execution_count": 17,
   "metadata": {
    "scrolled": false
   },
   "outputs": [
    {
     "data": {
      "application/vnd.jupyter.widget-view+json": {
       "model_id": "f89c2d1a0dba4c969d3bde2bbcd4309f",
       "version_major": 2,
       "version_minor": 0
      },
      "text/plain": [
       "VBox(children=(Output(), HTML(value=\"<a href='../utils/output\\\\spectrum.pdf' target='_blank'>../utils/output\\\\…"
      ]
     },
     "metadata": {},
     "output_type": "display_data"
    }
   ],
   "source": [
    "mgn = lambda value, unit: (value / unit).to_base_units().magnitude\n",
    "\n",
    "fig, ax = plt.subplots(len(schemes), 1, sharex=True, figsize=figsize)\n",
    "if len(outputs)==1:\n",
    "    ax = (ax,)\n",
    "for i, output in enumerate(outputs):\n",
    "    dt_max = output['dt_max']\n",
    "    if i==2:\n",
    "        rtol = output['rtol_bdf']\n",
    "        tols = f'tolerance = {rtol}'\n",
    "    else:\n",
    "        rtol_x = output['rtol_x']\n",
    "        rtol_thd = output['rtol_thd']\n",
    "        tols = f'rtol_x = {rtol_x}, rtol_thd = {rtol_thd}'\n",
    "    \n",
    "    hist = output['r_bins_values']\n",
    "    xedges = output['t'].magnitude\n",
    "    yedges = output['r_bins_edges']\n",
    "    \n",
    "    xunit = si.hour\n",
    "    yunit = si.micrometres\n",
    "#     t0 = time.time() # TODO for test\n",
    "\n",
    "    c = ax[i].pcolormesh(\n",
    "        mgn(xedges * output['t'].units, xunit), \n",
    "        mgn(yedges * output['r'].units, yunit), \n",
    "        hist,\n",
    "        cmap = 'coolwarm',\n",
    "        norm = mpl.colors.LogNorm()\n",
    "    )\n",
    "    ax[i].set_title('Scheme: '+f'({schemes[i]}) \\n dt_max = {dt_max}, '+tols)\n",
    "    ax[i].yaxis.set_units(yunit)\n",
    "    ax[i].xaxis.set_units(xunit)\n",
    "    ax[i].set_ylim([0, 20])\n",
    "\n",
    "    ax[i].plot(output['t'], rmean(output['r'], output['n'], output['r'].magnitude > output['r_cr']), label=\"r_mean (r > r_cr)\", color='black')\n",
    "    ax[i].plot(output['t'], rmean(output['r'], output['n'], output['r'] > 1 * si.micrometre), label=\"r_mean (r > 1 um)\", linestyle='--', color='gray')\n",
    "    ax[i].legend(loc='best')\n",
    "    ax[i].grid()\n",
    "#     t1 = time.time() # TODO for test\n",
    "    plt.tight_layout()\n",
    "    fig.subplots_adjust(top=0.88)\n",
    "#     print(t1-t0) # TODO: for test\n",
    "show_plot(filename='spectrum.pdf')"
   ]
  },
  {
   "cell_type": "code",
   "execution_count": null,
   "metadata": {},
   "outputs": [],
   "source": [
    "def rel_dispersion(r, n, mask):  # TODO: move to products\n",
    "    mean = rmean(r, n, mask)\n",
    "    n_tot = np.sum(np.where(mask, n.magnitude.reshape(-1,1).repeat(r.shape[1], axis=1), 0), axis=0)\n",
    "    std = np.full(r.shape[1], np.nan)\n",
    "    nmask = n_tot > 0\n",
    "    argument = n.magnitude.dot(np.where(mask, np.power(r.magnitude - mean.magnitude, 2), 0))\n",
    "    std[nmask] = np.sqrt(argument[nmask] /n_tot[nmask])\n",
    "    return std / mean.magnitude"
   ]
  },
  {
   "cell_type": "code",
   "execution_count": null,
   "metadata": {},
   "outputs": [],
   "source": [
    "def measure(outputs):\n",
    "    bdf = outputs['bdf']\n",
    "    default = outputs['default']\n",
    "    \n",
    "    rel_bdf = rel_dispersion(bdf['r'],bdf['n'],bdf['r'].magnitude > bdf['r_cr'])\n",
    "    rel_def = rel_dispersion(default['r'], default['n'], default['r'] > default['r_cr'])\n",
    "    return (rel_bdf - rel_def) / rel_bdf"
   ]
  },
  {
   "cell_type": "code",
   "execution_count": null,
   "metadata": {
    "scrolled": false
   },
   "outputs": [],
   "source": [
    "fig, ax = plt.subplots(len(schemes), 1, sharex=True, figsize=figsize)\n",
    "if len(outputs)==1:\n",
    "    ax = (ax,)\n",
    "for i, output in enumerate(outputs):\n",
    "    dt_max = output['dt_max']\n",
    "    if i==2:\n",
    "        rtol = output['rtol_bdf']\n",
    "        tols = f'tolerance = {rtol}'\n",
    "    else:\n",
    "        rtol_x = output['rtol_x']\n",
    "        rtol_thd = output['rtol_thd']\n",
    "        tols = f'rtol_x = {rtol_x}, rtol_thd = {rtol_thd}'\n",
    "    \n",
    "    hist = output['r_bins_values']\n",
    "    xedges = output['t'].magnitude\n",
    "    yedges = output['r_bins_edges']\n",
    "    xunit = si.hour\n",
    "    yunit = si.micrometres\n",
    "    ax[i].yaxis.set_units(yunit)\n",
    "    ax[i].xaxis.set_units(xunit)   \n",
    "    ax[i].set_title('Relative Dispersion \\nScheme: '+f'({schemes[i]}) \\n dt_max = {dt_max}, '+tols)\n",
    "    ax[i].xaxis.set_units(xunit)\n",
    "    x = output['t']\n",
    "#     y = rel_dispersion(output['r'], output['n'], output['r'].magnitude > output['r_cr'])\n",
    "    y = rel_dispersion(output['r'], output['n'], output['r'] > 1 * si.micrometre)\n",
    "\n",
    "    ax[i].plot(x, y, label=\"relative dispersion for activated droplets\")\n",
    "    ax[i].set_ylim([0,.4])\n",
    "    ax[i].legend(loc='best')\n",
    "    ax[i].grid()\n",
    "    \n",
    "    ax2 = ax[i].twinx()\n",
    "    ax2.step(output['t'], output['ripening_rate'], label = 'ripening rate', color = 'red')\n",
    "    ax2.xaxis.set_units(xunit)\n",
    "    ax2.set_ylim([0,60])\n",
    "    ax2.grid(linestyle='--')\n",
    "    \n",
    "    plt.tight_layout()\n",
    "    fig.subplots_adjust(top=0.88)\n",
    "show_plot(filename='relative_dispersion.pdf')"
   ]
  },
  {
   "cell_type": "code",
   "execution_count": null,
   "metadata": {
    "scrolled": false
   },
   "outputs": [],
   "source": [
    "fig, ax = plt.subplots(1, 1, sharex=True, figsize=figsize)\n",
    "if len(outputs)==1:\n",
    "    ax = (ax,)\n",
    "for i, output in enumerate(outputs):\n",
    "    dt_max = output['dt_max']\n",
    "    if i==2:\n",
    "        rtol = output['rtol_bdf']\n",
    "        tols = f'tolerance = {rtol}'\n",
    "    else:\n",
    "        rtol_x = output['rtol_x']\n",
    "        rtol_thd = output['rtol_thd']\n",
    "        tols = f'rtol_x = {rtol_x}, rtol_thd = {rtol_thd}'\n",
    "    \n",
    "    hist = output['r_bins_values']\n",
    "    xedges = output['t'].magnitude\n",
    "    yedges = output['r_bins_edges']\n",
    "    xunit = si.hour\n",
    "    yunit = si.micrometres\n",
    "    ax.yaxis.set_units(yunit)\n",
    "    ax.xaxis.set_units(xunit)   \n",
    "#     ax[i].set_title('Relative Dispersion \\nScheme: '+f'({schemes[i]}) \\n dt_max = {dt_max}, '+tols)\n",
    "    ax.xaxis.set_units(xunit)\n",
    "    x = output['t']\n",
    "    y = rel_dispersion(output['r'], output['n'], output['r'].magnitude > output['r_cr'])\n",
    "    ax.plot(x, y, label=f\"relative dispersion for activated droplets for scheme {schemes[i]}\")\n",
    "    ax.legend(loc='best')\n",
    "    ax.grid()\n",
    "    \n",
    "    plt.tight_layout()\n",
    "    fig.subplots_adjust(top=0.88)\n",
    "show_plot(filename='relative_dispersion.pdf')"
   ]
  },
  {
   "cell_type": "code",
   "execution_count": null,
   "metadata": {},
   "outputs": [],
   "source": [
    "def n_tot(n, condition):\n",
    "    return np.dot(n.magnitude, condition) * n.units"
   ]
  },
  {
   "cell_type": "code",
   "execution_count": null,
   "metadata": {
    "scrolled": false
   },
   "outputs": [],
   "source": [
    "fig, ax = plt.subplots(len(schemes),1,figsize=figsize, sharex= True)\n",
    "if len(outputs)==1:\n",
    "    ax = (ax,)\n",
    "xunit = si.hour\n",
    "yunit = 1/si.microgram\n",
    "\n",
    "for i, data in enumerate(outputs):\n",
    "    ax[i].set_title('Total number concentration '+f'({schemes[i]})')\n",
    "    ax[i].yaxis.set_units(yunit)\n",
    "    ax[i].xaxis.set_units(xunit)\n",
    "    ax[i].plot(data['t'], n_tot(data['n'], data['r'].magnitude < data['r_cr']), label='not activated (r < r$_{cr}$)', color='blue')\n",
    "    ax[i].plot(data['t'], n_tot(data['n'], data['r'].magnitude > data['r_cr']), label=\"n_tot (r > r$_{cr}$)\", color='black')\n",
    "    ax[i].plot(data['t'], n_tot(data['n'], data['r'] > 1 * si.micrometre), label=\"n_tot (r > 1 $\\mu m$)\", linestyle='--', color='gray')\n",
    "    ax[i].set_xticks(Setup.t0 + 1/2/Setup.f0*np.arange(25), minor=True)\n",
    "    ax2 = ax[i].twinx()\n",
    "    ax2.plot(data['t'], data['S']+1, label = 'supersaturation')\n",
    "    ax2.xaxis.set_units(xunit)\n",
    "    ax2.set_ylim([.995,1.005])\n",
    "    ax2.grid(linestyle='--')\n",
    "    ax[i].legend(loc='upper center')\n",
    "    ax[i].grid(linestyle='--', which='minor')\n",
    "    plt.tight_layout()\n",
    "    fig.subplots_adjust(top=0.88)\n",
    "show_plot(filename='total_number+S_bdf.pdf')"
   ]
  },
  {
   "cell_type": "code",
   "execution_count": null,
   "metadata": {},
   "outputs": [],
   "source": []
  },
  {
   "cell_type": "code",
   "execution_count": null,
   "metadata": {},
   "outputs": [],
   "source": []
  },
  {
   "cell_type": "code",
   "execution_count": null,
   "metadata": {},
   "outputs": [],
   "source": [
    "fig, ax = plt.subplots(len(schemes),1,figsize=figsize, sharex= True)\n",
    "if len(outputs)==1:\n",
    "    ax = (ax,)\n",
    "yunit = si.seconds\n",
    "xunit = si.dimensionless\n",
    "\n",
    "for i, data in enumerate(outputs):\n",
    "    ax[i].set_title('Condensational timestep '+f'({schemes[i]})')\n",
    "    ax[i].yaxis.set_units(yunit)\n",
    "    ax[i].xaxis.set_units(xunit)\n",
    "    ax[i].plot(data['dt_cond_max'], label=\"dt_cond_max\")\n",
    "    ax[i].plot(data['dt_cond_min'], label=\"dt_cond_min\")\n",
    "    ax[i].legend(loc='best')\n",
    "    ax[i].grid(linestyle='--')\n",
    "    plt.tight_layout()\n",
    "    fig.subplots_adjust(top=0.88)\n",
    "show_plot(filename='dt_cond.pdf')"
   ]
  },
  {
   "cell_type": "code",
   "execution_count": null,
   "metadata": {},
   "outputs": [],
   "source": [
    "import PySDM.physics.constants as const\n",
    "def A(T):\n",
    "    return 2 * const.sgm / const.Rv / T / const.rho_w\n",
    "\n",
    "def B(kp, rd):\n",
    "    return kp * rd ** 3\n",
    "\n",
    "def RH_eq(r, T, kp, rd):\n",
    "    return 1 + A(T) / r - B(kp, rd) / r ** 3\n",
    "\n",
    "# RH_eq = phys.RH_eq      ## TODO: bug with numba, kappa and r_dry exist in Setup"
   ]
  },
  {
   "cell_type": "code",
   "execution_count": null,
   "metadata": {},
   "outputs": [],
   "source": [
    "import itertools\n",
    "\n",
    "# need result check\n",
    "# def isripening_flag(S_rs, S_env):\n",
    "#     flags = {}\n",
    "#     for i in range(len(S_env)):\n",
    "#         flags[i] = []\n",
    "#         pairs_idx = list((i,j) for ((i,_),(j,_)) in itertools.combinations(enumerate(S_rs), r=2))\n",
    "#         idx=0\n",
    "#         for pair in itertools.combinations(S_rs, r=2):\n",
    "#             if pair[0][i] < S_env[i] < pair[1][i]:\n",
    "#                 flags[i].append(pairs_idx[idx])\n",
    "#             idx+=1\n",
    "#     return flags"
   ]
  },
  {
   "cell_type": "code",
   "execution_count": null,
   "metadata": {},
   "outputs": [],
   "source": [
    "# from itertools import tee, izip\n",
    "# def pairwise(iterable):\n",
    "#     \"s -> (s0,s1), (s1,s2), (s2, s3), ...\"\n",
    "#     a, b = tee(iterable)\n",
    "#     next(b, None)\n",
    "#     return izip(a, b)\n",
    "\n",
    "# def isripening2(S_rs, S_env):\n",
    "#     flags = {}\n",
    "#     for i in range(len(S_env)):\n",
    "#         flags[i] = []\n",
    "#         idx = 0\n",
    "#         for r1, r2 in pairwise(S_rs):\n",
    "#             if \n",
    "#     for v, w in pairwise(a):"
   ]
  },
  {
   "cell_type": "code",
   "execution_count": null,
   "metadata": {
    "scrolled": false
   },
   "outputs": [],
   "source": [
    "fig, ax = plt.subplots(len(schemes),1,figsize=figsize, sharex= True)\n",
    "if len(outputs)==1:\n",
    "    ax = (ax,)\n",
    "xunit = si.hours\n",
    "yunit = si.dimensionless\n",
    "\n",
    "for i, output in enumerate(outputs):\n",
    "    ax[i].set_title('Equilibrium Supersaturation '+f'({schemes[i]})')\n",
    "    ax[i].yaxis.set_units(yunit)\n",
    "    ax[i].xaxis.set_units(xunit)\n",
    "    ax[i].axes.set_ylim([-.01,0.02])\n",
    "    arg_T = output['T'].reshape(-1,1).repeat(len(output['n']), axis = 1)\n",
    "    arg_r = output['r'].magnitude.T\n",
    "    arg_r_cr = output['r_cr'].T\n",
    "    supersaturations = RH_eq(arg_r, arg_T, output['kappa'], output['r_dry']).T - 1\n",
    "    supersaturations_cr = RH_eq(arg_r_cr, arg_T, output['kappa'], output['r_dry']).T - 1\n",
    "    \n",
    "    flags = isripening_flag(S_rs = supersaturations, S_env = output['S'])\n",
    "    ax[i].plot(output['t'], output['S'], label = 'S_env')\n",
    "    for ri in range(len(supersaturations_cr)):\n",
    "        ax[i].plot(output['t'], supersaturations_cr[ri])\n",
    "    ax[i].legend(loc='best')\n",
    "    ax[i].grid()\n",
    "show_plot(filename='equilibriumsupersat.pdf')"
   ]
  },
  {
   "cell_type": "code",
   "execution_count": null,
   "metadata": {},
   "outputs": [],
   "source": [
    "print(flags)"
   ]
  },
  {
   "cell_type": "code",
   "execution_count": null,
   "metadata": {},
   "outputs": [],
   "source": []
  },
  {
   "cell_type": "code",
   "execution_count": null,
   "metadata": {
    "scrolled": false
   },
   "outputs": [],
   "source": [
    "## I want to show all pairs fullfiling ripening condition\n",
    "\n",
    "# for output in outputs:\n",
    "#     arg_T = output['T'].reshape(-1,1).repeat(len(output['n']), axis = 1)\n",
    "#     arg_r = output['r'].magnitude.T\n",
    "#     supersaturations = RH_eq(arg_r, arg_T, output['kappa'], output['r_dry']).T - 1\n",
    "    \n",
    "#     flags = isripening_flag(S_rs = supersaturations, S_env = output['S'])\n",
    "#     for k in range(len(flags)):\n",
    "#         y1 = [droplet[0] for droplet in flags[k]]\n",
    "#         y2 = [droplet[1] for droplet in flags[k]]\n",
    "#         plt.scatter(k, y1[k])\n",
    "#         plt.scatter(k, y2[k])"
   ]
  },
  {
   "cell_type": "code",
   "execution_count": null,
   "metadata": {},
   "outputs": [],
   "source": []
  }
 ],
 "metadata": {
  "kernelspec": {
   "display_name": "Python 3",
   "language": "python",
   "name": "python3"
  },
  "language_info": {
   "codemirror_mode": {
    "name": "ipython",
    "version": 3
   },
   "file_extension": ".py",
   "mimetype": "text/x-python",
   "name": "python",
   "nbconvert_exporter": "python",
   "pygments_lexer": "ipython3",
   "version": "3.7.6"
  }
 },
 "nbformat": 4,
 "nbformat_minor": 4
}
