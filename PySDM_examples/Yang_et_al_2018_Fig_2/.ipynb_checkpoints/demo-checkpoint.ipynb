{
 "cells": [
  {
   "cell_type": "code",
   "execution_count": 1,
   "metadata": {},
   "outputs": [],
   "source": [
    "# license: GPL v3\n",
    "# authors: Michael Olesik, Piotr Bartman, Sylwester Arabas\n",
    "# copyright: Jagiellonian University\n",
    "# based on Fig. 2 from Yang et al. 2018 (http://dx.doi.org/10.5194/acp-18-7313-2018)"
   ]
  },
  {
   "cell_type": "code",
   "execution_count": 2,
   "metadata": {},
   "outputs": [],
   "source": [
    "# make local files accessible to import statements\n",
    "import sys, os\n",
    "sys.path.insert(0, os.path.join(os.getcwd(), '../..'))"
   ]
  },
  {
   "cell_type": "code",
   "execution_count": 3,
   "metadata": {},
   "outputs": [],
   "source": [
    "from PySDM_examples.Yang_et_al_2018_Fig_2.example import Simulation\n",
    "from PySDM_examples.Yang_et_al_2018_Fig_2.setup import Setup\n",
    "from PySDM.simulation.physics import formulae as phys\n",
    "import numpy as np\n",
    "import matplotlib.pyplot as plt\n",
    "import matplotlib as mpl"
   ]
  },
  {
   "cell_type": "code",
   "execution_count": null,
   "metadata": {},
   "outputs": [
    {
     "name": "stdout",
     "output_type": "stream",
     "text": [
      "START!!!\n"
     ]
    }
   ],
   "source": [
    "setup = Setup()\n",
    "simulation = Simulation(setup)\n",
    "output = simulation.run()"
   ]
  },
  {
   "cell_type": "code",
   "execution_count": null,
   "metadata": {},
   "outputs": [],
   "source": [
    "import pint\n",
    "si = pint.UnitRegistry()\n",
    "si.setup_matplotlib()"
   ]
  },
  {
   "cell_type": "code",
   "execution_count": null,
   "metadata": {},
   "outputs": [],
   "source": [
    "r = np.array(output[\"r\"]).T * si.metres\n",
    "t = output[\"t\"] * si.seconds\n",
    "z = output[\"z\"] * si.metres\n",
    "S = np.array(output[\"S\"]) * si.dimensionless\n",
    "q = (setup.q0 - np.array(output[\"qv\"])) * si.kilogram / si.kilogram\n",
    "T = np.array(output[\"T\"])\n",
    "n = setup.n / (setup.mass_of_dry_air  * si.kilogram)"
   ]
  },
  {
   "cell_type": "code",
   "execution_count": null,
   "metadata": {},
   "outputs": [],
   "source": [
    "ix51 = 40\n",
    "ix503 = 99\n",
    "assert round(setup.r_dry[  ix51]*1e9, 0) == 51\n",
    "assert round(setup.r_dry[ ix503]*1e9, 0) == 503"
   ]
  },
  {
   "cell_type": "code",
   "execution_count": null,
   "metadata": {},
   "outputs": [],
   "source": [
    "fig, (ax1, ax2, ax3) = plt.subplots(1, 3, sharey=True, figsize=(9,4))\n",
    "\n",
    "ax1.set_ylim([800, 1300])\n",
    "ax1.plot(q, z, label=\"q_l\")\n",
    "ax1.xaxis.set_units(si.gram / si.kilogram)\n",
    "ax1.grid()\n",
    "ax1.legend()\n",
    "\n",
    "ax2.plot(S+1, z, label=\"S+1\")\n",
    "ax2.grid()\n",
    "ax2.legend()\n",
    "ax2.set_xlim([0.997, 1.003])\n",
    "\n",
    "ax3.plot(r[ix51], z, label=\"rd = 51 nm\")\n",
    "ax3.plot(r[ix503], z, label=\"rd = 501 nm\")\n",
    "ax3.grid()\n",
    "ax3.xaxis.set_units(si.micrometre)\n",
    "ax3.legend()"
   ]
  },
  {
   "cell_type": "code",
   "execution_count": null,
   "metadata": {},
   "outputs": [],
   "source": [
    "hist, xedges, yedges = np.histogram2d(\n",
    "    t.magnitude.reshape(1,-1).repeat(r.shape[0], axis=0).ravel(), \n",
    "    r.magnitude.ravel(),\n",
    "    bins = [256,128], \n",
    "    weights = n.magnitude.reshape(-1,1).repeat(r.shape[1], axis=1).ravel(),\n",
    ")"
   ]
  },
  {
   "cell_type": "code",
   "execution_count": null,
   "metadata": {},
   "outputs": [],
   "source": [
    "arg_r_dry = setup.r_dry \n",
    "arg_T = T.reshape(-1,1).repeat(len(n), axis = 1)\n",
    "r_cr = phys.r_cr(setup.kappa, arg_r_dry, arg_T).transpose()"
   ]
  },
  {
   "cell_type": "code",
   "execution_count": null,
   "metadata": {},
   "outputs": [],
   "source": [
    "def rmean(r, n, mask):\n",
    "    nt = r.shape[1]\n",
    "    n_dot_r = n.magnitude.dot(np.where(mask, r.magnitude, 0))\n",
    "    n_tot = np.sum(np.where(mask, n.magnitude.reshape(-1,1).repeat(nt, axis=1), 0), axis=0)\n",
    "    rmean = np.full(nt, np.nan)\n",
    "    nmask = n_tot > 0\n",
    "    rmean[nmask] = n_dot_r[nmask] / n_tot[nmask]\n",
    "    return rmean * r.units"
   ]
  },
  {
   "cell_type": "code",
   "execution_count": null,
   "metadata": {},
   "outputs": [],
   "source": [
    "mgn = lambda value, unit: (value / unit).to_base_units().magnitude\n",
    "\n",
    "fig, ax = plt.subplots(1, 1,  figsize=(9,4))\n",
    "\n",
    "xunit = si.hour\n",
    "yunit = si.micrometres\n",
    "\n",
    "ax.yaxis.set_units(yunit)\n",
    "ax.xaxis.set_units(xunit)\n",
    "ax.set_ylim([0, 20])\n",
    "c = ax.pcolormesh(\n",
    "    mgn(xedges * t.units, xunit), \n",
    "    mgn(yedges * r.units, yunit), \n",
    "    hist.T,\n",
    "    cmap = 'coolwarm',\n",
    "    norm = mpl.colors.LogNorm()\n",
    ")\n",
    "ax.plot(t, rmean(r, n, r.magnitude > r_cr), label=\"r_mean (r > r_cr)\", color='black')\n",
    "ax.plot(t, rmean(r, n, r > 1 * si.micrometre), label=\"r_mean (r > 1 um)\", linestyle='--', color='gray')\n",
    "ax.legend()\n",
    "ax.grid()"
   ]
  },
  {
   "cell_type": "code",
   "execution_count": null,
   "metadata": {},
   "outputs": [],
   "source": []
  },
  {
   "cell_type": "code",
   "execution_count": null,
   "metadata": {},
   "outputs": [],
   "source": []
  },
  {
   "cell_type": "code",
   "execution_count": null,
   "metadata": {},
   "outputs": [],
   "source": []
  },
  {
   "cell_type": "code",
   "execution_count": null,
   "metadata": {},
   "outputs": [],
   "source": []
  }
 ],
 "metadata": {
  "kernelspec": {
   "display_name": "Python 3",
   "language": "python",
   "name": "python3"
  },
  "language_info": {
   "codemirror_mode": {
    "name": "ipython",
    "version": 3
   },
   "file_extension": ".py",
   "mimetype": "text/x-python",
   "name": "python",
   "nbconvert_exporter": "python",
   "pygments_lexer": "ipython3",
   "version": "3.7.1"
  },
  "pycharm": {
   "stem_cell": {
    "cell_type": "raw",
    "metadata": {
     "collapsed": false
    },
    "source": []
   }
  }
 },
 "nbformat": 4,
 "nbformat_minor": 1
}
