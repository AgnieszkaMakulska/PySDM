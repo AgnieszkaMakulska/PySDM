{
 "cells": [
  {
   "cell_type": "markdown",
   "metadata": {},
   "source": [
    "[![Binder](https://mybinder.org/badge_logo.svg)](https://mybinder.org/v2/gh/atmos-cloud-sim-uj/PySDM.git/master?filepath=PySDM_examples/Shipway_and_Hill_2012/demo.ipynb)    \n",
    "[![Open In Colab](https://colab.research.google.com/assets/colab-badge.svg)](https://colab.research.google.com/github/atmos-cloud-sim-uj/PySDM/blob/master/PySDM_examples/Shipway_and_Hill_2012/demo.ipynb)"
   ]
  },
  {
   "cell_type": "markdown",
   "metadata": {},
   "source": [
    "#### based on Fig. 1 from Shipway & Hill 2012 (Q. J. Royal Meteo. Soc. 138)  \"_Diagnosis of systematic differences between multiple parametrizations of warm rain microphysics using a kinematic framework_\"   \n",
    "https://doi.org/10.1002/qj.1913"
   ]
  },
  {
   "cell_type": "code",
   "execution_count": 1,
   "metadata": {},
   "outputs": [],
   "source": [
    "from PySDM_examples.Shipway_and_Hill_2012 import Settings, Simulation\n",
    "from PySDM.physics import si\n",
    "from matplotlib import pyplot\n",
    "from PySDM_examples.utils.show_plot import show_plot\n",
    "import numpy as np"
   ]
  },
  {
   "cell_type": "code",
   "execution_count": 2,
   "metadata": {
    "pycharm": {
     "name": "#%%\n"
    }
   },
   "outputs": [],
   "source": [
    "settings = Settings(n_sd=100, w_1=2*si.m/si.s, dt=25*si.s, dz=100*si.m)\n",
    "simulation = Simulation(settings)"
   ]
  },
  {
   "cell_type": "code",
   "execution_count": 3,
   "metadata": {},
   "outputs": [],
   "source": [
    "output = simulation.run()"
   ]
  },
  {
   "cell_type": "code",
   "execution_count": 4,
   "metadata": {
    "pycharm": {
     "name": "#%%\n"
    }
   },
   "outputs": [
    {
     "data": {
      "image/png": "[encoded data removed]",
      "text/plain": [
       "<Figure size 432x288 with 2 Axes>"
      ]
     },
     "metadata": {
      "needs_background": "light"
     },
     "output_type": "display_data"
    },
    {
     "data": {
      "application/vnd.jupyter.widget-view+json": {
       "model_id": "08b1b5a8ea77432e97dc59f90fef04cb",
       "version_major": 2,
       "version_minor": 0
      },
      "text/plain": [
       "HTML(value=\"<a href='../utils/temporary_files/ql.pdf' target='_blank'>../utils/temporary_files/ql.pdf</a><br>\"…"
      ]
     },
     "metadata": {},
     "output_type": "display_data"
    }
   ],
   "source": [
    "dt = output['t'][1] - output['t'][0]\n",
    "dz = output['z'][1] - output['z'][0]\n",
    "pyplot.pcolormesh(\n",
    "    np.concatenate(((output['t'][0]-dt/2,), output['t']+dt/2)),\n",
    "    np.concatenate(((output['z'][0]-dz/2,), output['z']+dz/2)),\n",
    "    output['ql'],\n",
    "    cmap='twilight'\n",
    ")\n",
    "pyplot.xlabel('time [s]')\n",
    "pyplot.ylabel('z [m]')\n",
    "cbar = pyplot.colorbar()\n",
    "cbar.set_label('$q_l$ [g/kg]')\n",
    "show_plot(filename='ql.pdf')"
   ]
  },
  {
   "cell_type": "code",
   "execution_count": null,
   "metadata": {
    "pycharm": {
     "name": "#%%\n"
    }
   },
   "outputs": [],
   "source": []
  }
 ],
 "metadata": {
  "kernelspec": {
   "display_name": "Python 3",
   "language": "python",
   "name": "python3"
  },
  "language_info": {
   "codemirror_mode": {
    "name": "ipython",
    "version": 3
   },
   "file_extension": ".py",
   "mimetype": "text/x-python",
   "name": "python",
   "nbconvert_exporter": "python",
   "pygments_lexer": "ipython3",
   "version": "3.8.7"
  }
 },
 "nbformat": 4,
 "nbformat_minor": 1
}
