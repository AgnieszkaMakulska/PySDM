{
 "cells": [
  {
   "cell_type": "code",
   "execution_count": 1,
   "metadata": {
    "pycharm": {
     "is_executing": false,
     "name": "#%%\n"
    }
   },
   "outputs": [],
   "source": [
    "import copy\n",
    "import numpy as np\n",
    "from matplotlib import pyplot\n",
    "\n",
    "from SDM.simulation.runner import Runner\n",
    "from SDM.simulation.state import State\n",
    "from SDM.simulation.colliders import SDM\n",
    "from SDM.simulation.discretisations import constant_multiplicity\n",
    "from SDM.simulation.spectra import Exponential\n",
    "from SDM.simulation.kernels import Golovin\n",
    "from SDM.simulation.maths import Maths\n",
    "from SDM.backends.default import Default"
   ]
  },
  {
   "cell_type": "code",
   "execution_count": 2,
   "metadata": {
    "pycharm": {
     "is_executing": false,
     "name": "#%%\n"
    }
   },
   "outputs": [],
   "source": [
    "def x2r(x):\n",
    "    return (x * 3/4 / np.pi)**(1/3)\n",
    "\n",
    "def r2x(r):\n",
    "    return 4/3 * np.pi * r**3\n",
    "\n",
    "kg2g = 1e3\n",
    "m2um = 1e6"
   ]
  },
  {
   "cell_type": "code",
   "execution_count": 3,
   "metadata": {
    "pycharm": {
     "is_executing": false,
     "name": "#%%\n"
    }
   },
   "outputs": [],
   "source": [
    "class Plotter:\n",
    "    def __init__(self, setup, xrange):\n",
    "        self.setup = setup\n",
    "\n",
    "        self.x_bins = np.logspace(\n",
    "            (np.log10(xrange[0])),\n",
    "            (np.log10(xrange[1])),\n",
    "            num=64,\n",
    "            endpoint=True\n",
    "        )\n",
    "        self.r_bins = x2r(self.x_bins)\n",
    "\n",
    "    def show(self):\n",
    "        pyplot.show()\n",
    "\n",
    "    def save(self, file):\n",
    "        pyplot.savefig(file)\n",
    "\n",
    "    def plot(self, state, t):\n",
    "        s = self.setup\n",
    "\n",
    "        if t == 0:\n",
    "            analytic_solution = s.spectrum.size_distribution\n",
    "        else:\n",
    "            analytic_solution = lambda x: s.norm_factor * s.kernel.analytic_solution(\n",
    "                x=x, t=t, x_0=s.X0, N_0=s.n_part\n",
    "            )\n",
    "\n",
    "        dm = np.diff(self.x_bins)\n",
    "        dr = np.diff(self.r_bins)\n",
    "\n",
    "        pdf_m_x = self.x_bins[:-1] + dm / 2\n",
    "        pdf_m_y = analytic_solution(pdf_m_x)\n",
    "\n",
    "        pdf_r_x = self.r_bins[:-1] + dr / 2\n",
    "        pdf_r_y = pdf_m_y * dm / dr * pdf_r_x\n",
    "\n",
    "        pyplot.plot(\n",
    "            m2um * pdf_r_x,\n",
    "            kg2g * pdf_r_y * r2x(pdf_r_x) * s.rho / s.dv,\n",
    "            color='black'\n",
    "        )\n",
    "\n",
    "        vals = np.empty(len(self.r_bins) - 1)\n",
    "        for i in range(len(vals)):\n",
    "            vals[i] = Maths.moment(state, 1, attr='x', attr_range=(self.x_bins[i], self.x_bins[i + 1]))\n",
    "            vals[i] *= s.rho / s.dv\n",
    "            vals[i] /= (np.log(self.r_bins[i + 1]) - np.log(self.r_bins[i]))\n",
    "\n",
    "        pyplot.step(\n",
    "            m2um * self.r_bins[:-1],\n",
    "            kg2g * vals,\n",
    "            where='post',\n",
    "            label=f\"t = {t}s\"\n",
    "        )\n",
    "        pyplot.grid()\n",
    "        pyplot.xscale('log')\n",
    "        pyplot.xlabel('particle radius [µm]')\n",
    "        pyplot.ylabel('dm/dlnr [g/m^3/(unit dr/r)]')\n",
    "        pyplot.legend()\n",
    "\n",
    "\n"
   ]
  },
  {
   "cell_type": "code",
   "execution_count": 4,
   "metadata": {
    "pycharm": {
     "is_executing": false,
     "name": "#%%\n"
    }
   },
   "outputs": [],
   "source": [
    "class SetupA:\n",
    "    x_min = r2x(10e-6)   # not given in the paper\n",
    "    x_max = r2x(100e-6)  # not given in the paper\n",
    "\n",
    "    n_sd = 2 ** 17\n",
    "    n_part = 2 ** 23  # [m-3]\n",
    "    X0 = 4/3 * np.pi * 30.531e-6**3\n",
    "    dv = 1e6  # [m3]\n",
    "    norm_factor = n_part * dv\n",
    "    rho = 1000  # [kg m-3]\n",
    "\n",
    "    dt = 1  # [s]\n",
    "    \n",
    "    steps = [0, 1200, 2400, 3600]\n",
    "\n",
    "    kernel = Golovin(b=1.5e3)  # [s-1]\n",
    "    spectrum = Exponential(norm_factor=norm_factor, scale=X0)\n",
    "    \n",
    "    backend = Default\n",
    "\n",
    "    # TODO: rename?\n",
    "    def check(self, state, step):\n",
    "        check_LWC = 1e-3  # kg m-3\n",
    "        check_ksi = self.n_part * self.dv / self.n_sd\n",
    "\n",
    "        # multiplicities\n",
    "        if step == 0:\n",
    "            np.testing.assert_approx_equal(np.amin(state['n']), np.amax(state['n']), 1)\n",
    "            np.testing.assert_approx_equal(state['n'][0], check_ksi, 1)\n",
    "\n",
    "        # liquid water content\n",
    "        LWC = self.rho * np.dot(state['n'], state['x']) / self.dv\n",
    "        np.testing.assert_approx_equal(LWC, check_LWC, 3)"
   ]
  },
  {
   "cell_type": "code",
   "execution_count": 5,
   "metadata": {
    "pycharm": {
     "is_executing": false,
     "name": "#%%\n"
    }
   },
   "outputs": [],
   "source": [
    "def run(setup):\n",
    "    x, n = constant_multiplicity(setup.n_sd, setup.spectrum, (setup.x_min, setup.x_max))\n",
    "    state = State(n=n, extensive={'x': x}, intensive={}, segment_num=1, backend=setup.backend)\n",
    "    collider = SDM(setup.kernel, setup.dt, setup.dv, n_sd=setup.n_sd, backend=setup.backend)\n",
    "    runner = Runner(state, (collider,))\n",
    "\n",
    "    states = {}\n",
    "    for step in setup.steps:\n",
    "        runner.run(step - runner.n_steps)\n",
    "        setup.check(runner.state, runner.n_steps)\n",
    "        states[runner.n_steps] = copy.deepcopy(runner.state)\n",
    "\n",
    "    return states, runner.stats\n"
   ]
  },
  {
   "cell_type": "code",
   "execution_count": 6,
   "metadata": {
    "pycharm": {
     "is_executing": false,
     "name": "#%%\n"
    }
   },
   "outputs": [
    {
     "data": {
      "image/png": "[encoded data removed]",
      "text/plain": [
       "<Figure size 432x288 with 1 Axes>"
      ]
     },
     "metadata": {
      "needs_background": "light"
     },
     "output_type": "display_data"
    }
   ],
   "source": [
    "with np.errstate(all='raise'):\n",
    "    setup = SetupA()\n",
    "    states, _ = run(setup)\n",
    "\n",
    "    x_min = min([state.min('x') for state in states.values()])\n",
    "    x_max = max([state.max('x') for state in states.values()])\n",
    "\n",
    "with np.errstate(invalid='ignore'):\n",
    "    plotter = Plotter(setup, (x_min, x_max))\n",
    "    for step, state in states.items():\n",
    "        plotter.plot(state, step * setup.dt)\n",
    "    plotter.show()\n"
   ]
  }
 ],
 "metadata": {
  "kernelspec": {
   "display_name": "Python 3",
   "language": "python",
   "name": "python3"
  },
  "language_info": {
   "codemirror_mode": {
    "name": "ipython",
    "version": 3
   },
   "file_extension": ".py",
   "mimetype": "text/x-python",
   "name": "python",
   "nbconvert_exporter": "python",
   "pygments_lexer": "ipython3",
   "version": "3.7.2+"
  },
  "pycharm": {
   "stem_cell": {
    "cell_type": "raw",
    "metadata": {
     "collapsed": false
    },
    "source": []
   }
  }
 },
 "nbformat": 4,
 "nbformat_minor": 1
}
