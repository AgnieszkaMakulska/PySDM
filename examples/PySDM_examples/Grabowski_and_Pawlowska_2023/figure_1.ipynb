{
 "cells": [
  {
   "cell_type": "markdown",
   "metadata": {},
   "source": [
    "[![nbviewer](https://raw.githubusercontent.com/jupyter/design/master/logos/Badges/nbviewer_badge.svg)](https://nbviewer.jupyter.org/github/open-atmos/PySDM/blob/main/examples/PySDM_examples/Grabowski_and_Pawlowska_2023/figure_1.ipynb)   \n",
    "[![Binder](https://mybinder.org/badge_logo.svg)](https://mybinder.org/v2/gh/open-atmos/PySDM.git/main?urlpath=examples/PySDM_examples/Grabowski_and_Pawlowska_2023/figure_1.ipynb)   \n",
    "[![Open In Colab](https://colab.research.google.com/assets/colab-badge.svg)](https://colab.research.google.com/github/open-atmos/PySDM/blob/main/examples/PySDM_examples/Grabowski_and_Pawlowska_2023/figure_1.ipynb)"
   ]
  },
  {
   "cell_type": "markdown",
   "metadata": {},
   "source": [
    "### based on Fig. 1 from Wojciech Grabowski and Hanna Pawlowska 2023 (Geophysical Research Letters 50(3)) 'Adiabatic Evolution of Cloud Droplet Spectral Width: A New Look at an Old Problem'\n",
    "\n",
    "https://doi.org/10.1029/2022GL101917"
   ]
  },
  {
   "cell_type": "code",
   "execution_count": 1,
   "metadata": {
    "ExecuteTime": {
     "end_time": "2023-08-28T11:27:27.211102581Z",
     "start_time": "2023-08-28T11:27:26.929496179Z"
    }
   },
   "outputs": [],
   "source": [
    "import sys\n",
    "if 'google.colab' in sys.modules:\n",
    "    !pip --quiet install \"open-atmos-jupyter-utils\"\n",
    "    from open_atmos_jupyter_utils import pip_install_on_colab\n",
    "    pip_install_on_colab('PySDM-examples')"
   ]
  },
  {
   "cell_type": "code",
   "execution_count": 2,
   "metadata": {
    "ExecuteTime": {
     "end_time": "2023-08-28T11:27:33.573345821Z",
     "start_time": "2023-08-28T11:27:26.936457050Z"
    }
   },
   "outputs": [],
   "source": [
    "import numpy as np\n",
    "import os\n",
    "from matplotlib import pyplot\n",
    "import matplotlib.ticker as ticker\n",
    "from open_atmos_jupyter_utils import show_plot\n",
    "\n",
    "from PySDM import Formulae\n",
    "from PySDM.physics import si\n",
    "from PySDM.products import (\n",
    "    ParcelDisplacement, AmbientTemperature, AmbientRelativeHumidity\n",
    ")\n",
    "TRIVIA = Formulae().trivia\n",
    "\n",
    "from PySDM_examples.Grabowski_and_Pawlowska_2023 import Settings, Simulation"
   ]
  },
  {
   "cell_type": "code",
   "execution_count": null,
   "metadata": {
    "is_executing": true,
    "ExecuteTime": {
     "start_time": "2023-08-28T11:27:33.582778447Z"
    }
   },
   "outputs": [
    {
     "name": "stderr",
     "output_type": "stream",
     "text": [
      "/home/agnieszka/Github/PySDM/venv/lib/python3.10/site-packages/numba/np/ufunc/parallel.py:371: NumbaWarning: The TBB threading layer requires TBB version 2021 update 6 or later i.e., TBB_INTERFACE_VERSION >= 12060. Found TBB_INTERFACE_VERSION = 12050. The TBB threading layer is disabled.\n",
      "  warnings.warn(problem)\n"
     ]
    }
   ],
   "source": [
    "products=(\n",
    "    ParcelDisplacement(\n",
    "        name='z'),\n",
    "    AmbientRelativeHumidity(\n",
    "        name='S_max', unit='%', var='RH'),\n",
    "    AmbientTemperature(\n",
    "        name='T')\n",
    ")\n",
    "\n",
    "vertical_velocity = 0.25 * si.m / si.s\n",
    "output = {\n",
    "    case: Simulation(Settings(\n",
    "        vertical_velocity=vertical_velocity,\n",
    "        dt=1*si.s if 'CI' not in os.environ else 30 * si.s,\n",
    "        n_sd=200 if 'CI' not in os.environ else 10,\n",
    "        aerosol=case\n",
    "    ), products=products).run()\n",
    "    for case in (\"pristine\", \"polluted\")\n",
    "}\n"
   ]
  },
  {
   "cell_type": "code",
   "execution_count": null,
   "metadata": {
    "is_executing": true
   },
   "outputs": [],
   "source": [
    "def plot_R(ax,output_vol,output_crit_vol,output_z,k):\n",
    "    for drop_id, volume in enumerate(output_vol):\n",
    "        if drop_id%k==0:\n",
    "            if TRIVIA.radius(volume=volume)[10]>0.03*si.um:\n",
    "                crit_volume=output_crit_vol[drop_id]\n",
    "                if np.all(volume<crit_volume):\n",
    "                    ax.plot(\n",
    "                        output_z,\n",
    "                        TRIVIA.radius(volume=volume) / si.um,\n",
    "                        linewidth=0.5,\n",
    "                        color='green'\n",
    "                    )\n",
    "                elif volume[-1]<crit_volume[-1]:\n",
    "                    ax.plot(\n",
    "                        output_z,\n",
    "                        TRIVIA.radius(volume=volume)/ si.um,\n",
    "                        linewidth=0.5,\n",
    "                        color='red'\n",
    "                    )       \n",
    "                else:\n",
    "                    ax.plot(\n",
    "                        output_z,\n",
    "                        TRIVIA.radius(volume=volume) / si.um,\n",
    "                        linewidth=0.5,\n",
    "                        color='blue'\n",
    "                    )\n",
    "\n",
    "\n",
    "def plot_S(ax,output_Seq,output_vol,output_crit_vol,output_z,k):\n",
    "    for drop_id, S_eq in enumerate(output_Seq):\n",
    "        if drop_id%k==0:\n",
    "            volume=output_vol[drop_id]\n",
    "            crit_volume=output_crit_vol[drop_id]\n",
    "            if TRIVIA.radius(volume=volume[10])>0.03*si.um:\n",
    "                if np.all(volume<crit_volume):\n",
    "                    ax.plot(\n",
    "                        output_z,\n",
    "                        (S_eq-1)*100,        \n",
    "                        color='green')\n",
    "                elif volume[-1]<crit_volume[-1]:\n",
    "                    ax.plot(\n",
    "                        output_z,\n",
    "                        (S_eq-1)*100,\n",
    "                        linewidth=0.5,\n",
    "                        color='red')   \n",
    "                else:\n",
    "                    ax.plot(\n",
    "                        output_z,\n",
    "                        (S_eq-1)*100,\n",
    "                        linewidth=0.5,\n",
    "                        color='blue')              \n",
    "                    \n",
    "\n",
    "fig, axs = pyplot.subplots(2, 2, figsize=(13, 7))\n",
    "axS1, axS2, axR1, axR2 = [axs[1,0], axs[1,1], axs[0,0], axs[0,1]]\n",
    "\n",
    "for aerosol, i in ((\"polluted\",0),(\"pristine\",1)):\n",
    "    axs[1,i].plot(output[aerosol]['products']['z'],np.asarray(output[aerosol]['products']['S_max'])-100, color='black')\n",
    "    plot_S(axs[1,i],np.asarray(output[aerosol]['attributes']['equilibrium supersaturation']),np.asarray(output[aerosol]['attributes']['volume']),np.asarray(output[aerosol]['attributes']['critical volume']),np.asarray(output[aerosol]['products']['z']),4)\n",
    "    plot_R(axs[0,i],np.asarray(output[aerosol]['attributes']['volume']),np.asarray(output[aerosol]['attributes']['critical volume']),np.asarray(output[aerosol]['products']['z']),4)\n",
    "\n",
    "axS1_, axS2_, axR1_, axR2_ = [axS1.twinx(),axS2.twinx(),axR1.twinx(),axR2.twinx()]\n",
    "for ax in [axS1, axS1_, axS2, axS2_, axR1, axR1_, axR2, axR2_]:\n",
    "    ax.set_xscale('log')\n",
    "    ax.set_yscale('log')\n",
    "    ax.set_xlim(10, 1000)\n",
    "for ax in [axS1,axS1_,axS2,axS2_]:\n",
    "    ax.set_ylim(0.001, 1)\n",
    "for ax in [axR1,axR1_,axR2,axR2_]:\n",
    "    ax.set_ylim(0.01, 100)\n",
    "for ax in [axR1,axR2]:\n",
    "    ax.set_ylabel('droplet radius [μm]')\n",
    "axR1.set_title('adiabatic parcel, POL, w=1 m/s')\n",
    "axR2.set_title('adiabatic parcel, PRI, w=1 m/s')\n",
    "for ax in [axS1,axS2]:\n",
    "    ax.set_xlabel('height [m]')\n",
    "    ax.set_ylabel('supersaturation [%]') \n",
    "for ax in [axS1_,axS2_,axR1_,axR2_]:\n",
    "    ax.yaxis.set_major_formatter(ticker.NullFormatter())\n",
    "show_plot(\"fig1.pdf\")"
   ]
  },
  {
   "cell_type": "code",
   "execution_count": null,
   "metadata": {
    "is_executing": true
   },
   "outputs": [],
   "source": []
  }
 ],
 "metadata": {
  "kernelspec": {
   "display_name": "Python 3",
   "language": "python",
   "name": "python3"
  },
  "language_info": {
   "codemirror_mode": {
    "name": "ipython",
    "version": 3
   },
   "file_extension": ".py",
   "mimetype": "text/x-python",
   "name": "python",
   "nbconvert_exporter": "python",
   "pygments_lexer": "ipython3",
   "version": "3.10.6"
  },
  "orig_nbformat": 4
 },
 "nbformat": 4,
 "nbformat_minor": 2
}
