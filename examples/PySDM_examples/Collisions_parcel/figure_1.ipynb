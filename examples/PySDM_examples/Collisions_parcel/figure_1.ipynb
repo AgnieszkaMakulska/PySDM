{
 "cells": [
  {
   "cell_type": "markdown",
   "source": [
    "Example for the parcel model with collisions"
   ],
   "metadata": {
    "collapsed": false
   }
  },
  {
   "cell_type": "code",
   "execution_count": 1,
   "outputs": [],
   "source": [
    "import numpy as np\n",
    "import os\n",
    "from matplotlib import pyplot\n",
    "from matplotlib import ticker\n",
    "from open_atmos_jupyter_utils import show_plot\n",
    "from PySDM.initialisation.sampling.spectral_sampling import ConstantMultiplicity\n",
    "\n",
    "from PySDM import Formulae\n",
    "from PySDM.physics import si\n",
    "from PySDM.products import (\n",
    "    ParcelDisplacement,\n",
    "    AmbientRelativeHumidity,\n",
    "    ActivatedParticleConcentration,\n",
    "    MeanVolumeRadius,\n",
    "    AreaStandardDeviation,\n",
    "    CollisionRatePerGridbox\n",
    ")\n",
    "\n",
    "TRIVIA = Formulae().trivia\n",
    "\n",
    "from PySDM_examples.Collisions_parcel import Settings, Simulation"
   ],
   "metadata": {
    "collapsed": false,
    "ExecuteTime": {
     "start_time": "2023-10-10T10:39:56.056939904Z"
    }
   }
  },
  {
   "cell_type": "code",
   "execution_count": 2,
   "metadata": {
    "ExecuteTime": {
     "end_time": "2023-10-10T10:41:00.357704059Z",
     "start_time": "2023-10-10T10:40:01.853792866Z"
    }
   },
   "outputs": [
    {
     "ename": "KeyError",
     "evalue": "None",
     "output_type": "error",
     "traceback": [
      "\u001B[0;31m---------------------------------------------------------------------------\u001B[0m",
      "\u001B[0;31mKeyError\u001B[0m                                  Traceback (most recent call last)",
      "Cell \u001B[0;32mIn[2], line 16\u001B[0m\n\u001B[1;32m      1\u001B[0m products\u001B[38;5;241m=\u001B[39m(\n\u001B[1;32m      2\u001B[0m     ParcelDisplacement(\n\u001B[1;32m      3\u001B[0m         name\u001B[38;5;241m=\u001B[39m\u001B[38;5;124m'\u001B[39m\u001B[38;5;124mz\u001B[39m\u001B[38;5;124m'\u001B[39m),\n\u001B[0;32m   (...)\u001B[0m\n\u001B[1;32m     12\u001B[0m     CollisionRatePerGridbox(name\u001B[38;5;241m=\u001B[39m\u001B[38;5;124m\"\u001B[39m\u001B[38;5;124mcollision_rate\u001B[39m\u001B[38;5;124m\"\u001B[39m),\n\u001B[1;32m     13\u001B[0m )\n\u001B[1;32m     15\u001B[0m vertical_velocity\u001B[38;5;241m=\u001B[39m\u001B[38;5;241m1\u001B[39m\u001B[38;5;241m*\u001B[39msi\u001B[38;5;241m.\u001B[39mm\u001B[38;5;241m/\u001B[39msi\u001B[38;5;241m.\u001B[39ms\n\u001B[0;32m---> 16\u001B[0m output \u001B[38;5;241m=\u001B[39m {\n\u001B[1;32m     17\u001B[0m     case: Simulation(Settings(\n\u001B[1;32m     18\u001B[0m         dt\u001B[38;5;241m=\u001B[39m\u001B[38;5;241m1\u001B[39m\u001B[38;5;241m*\u001B[39msi\u001B[38;5;241m.\u001B[39ms,\n\u001B[1;32m     19\u001B[0m         vertical_velocity\u001B[38;5;241m=\u001B[39mvertical_velocity,\n\u001B[1;32m     20\u001B[0m         n_sd\u001B[38;5;241m=\u001B[39m\u001B[38;5;241m64\u001B[39m,\n\u001B[1;32m     21\u001B[0m         aerosol\u001B[38;5;241m=\u001B[39mcase\n\u001B[1;32m     22\u001B[0m     ), sampling_class\u001B[38;5;241m=\u001B[39mConstantMultiplicity, products\u001B[38;5;241m=\u001B[39mproducts)\u001B[38;5;241m.\u001B[39mrun()\n\u001B[1;32m     23\u001B[0m     \u001B[38;5;28;01mfor\u001B[39;00m case \u001B[38;5;129;01min\u001B[39;00m (\u001B[38;5;124m\"\u001B[39m\u001B[38;5;124mpristine\u001B[39m\u001B[38;5;124m\"\u001B[39m, \u001B[38;5;124m\"\u001B[39m\u001B[38;5;124mpolluted\u001B[39m\u001B[38;5;124m\"\u001B[39m)\n\u001B[1;32m     24\u001B[0m }\n",
      "Cell \u001B[0;32mIn[2], line 17\u001B[0m, in \u001B[0;36m<dictcomp>\u001B[0;34m(.0)\u001B[0m\n\u001B[1;32m      1\u001B[0m products\u001B[38;5;241m=\u001B[39m(\n\u001B[1;32m      2\u001B[0m     ParcelDisplacement(\n\u001B[1;32m      3\u001B[0m         name\u001B[38;5;241m=\u001B[39m\u001B[38;5;124m'\u001B[39m\u001B[38;5;124mz\u001B[39m\u001B[38;5;124m'\u001B[39m),\n\u001B[0;32m   (...)\u001B[0m\n\u001B[1;32m     12\u001B[0m     CollisionRatePerGridbox(name\u001B[38;5;241m=\u001B[39m\u001B[38;5;124m\"\u001B[39m\u001B[38;5;124mcollision_rate\u001B[39m\u001B[38;5;124m\"\u001B[39m),\n\u001B[1;32m     13\u001B[0m )\n\u001B[1;32m     15\u001B[0m vertical_velocity\u001B[38;5;241m=\u001B[39m\u001B[38;5;241m1\u001B[39m\u001B[38;5;241m*\u001B[39msi\u001B[38;5;241m.\u001B[39mm\u001B[38;5;241m/\u001B[39msi\u001B[38;5;241m.\u001B[39ms\n\u001B[1;32m     16\u001B[0m output \u001B[38;5;241m=\u001B[39m {\n\u001B[0;32m---> 17\u001B[0m     case: \u001B[43mSimulation\u001B[49m\u001B[43m(\u001B[49m\u001B[43mSettings\u001B[49m\u001B[43m(\u001B[49m\n\u001B[1;32m     18\u001B[0m \u001B[43m        \u001B[49m\u001B[43mdt\u001B[49m\u001B[38;5;241;43m=\u001B[39;49m\u001B[38;5;241;43m1\u001B[39;49m\u001B[38;5;241;43m*\u001B[39;49m\u001B[43msi\u001B[49m\u001B[38;5;241;43m.\u001B[39;49m\u001B[43ms\u001B[49m\u001B[43m,\u001B[49m\n\u001B[1;32m     19\u001B[0m \u001B[43m        \u001B[49m\u001B[43mvertical_velocity\u001B[49m\u001B[38;5;241;43m=\u001B[39;49m\u001B[43mvertical_velocity\u001B[49m\u001B[43m,\u001B[49m\n\u001B[1;32m     20\u001B[0m \u001B[43m        \u001B[49m\u001B[43mn_sd\u001B[49m\u001B[38;5;241;43m=\u001B[39;49m\u001B[38;5;241;43m64\u001B[39;49m\u001B[43m,\u001B[49m\n\u001B[1;32m     21\u001B[0m \u001B[43m        \u001B[49m\u001B[43maerosol\u001B[49m\u001B[38;5;241;43m=\u001B[39;49m\u001B[43mcase\u001B[49m\n\u001B[1;32m     22\u001B[0m \u001B[43m    \u001B[49m\u001B[43m)\u001B[49m\u001B[43m,\u001B[49m\u001B[43m \u001B[49m\u001B[43msampling_class\u001B[49m\u001B[38;5;241;43m=\u001B[39;49m\u001B[43mConstantMultiplicity\u001B[49m\u001B[43m,\u001B[49m\u001B[43m \u001B[49m\u001B[43mproducts\u001B[49m\u001B[38;5;241;43m=\u001B[39;49m\u001B[43mproducts\u001B[49m\u001B[43m)\u001B[49m\u001B[38;5;241m.\u001B[39mrun()\n\u001B[1;32m     23\u001B[0m     \u001B[38;5;28;01mfor\u001B[39;00m case \u001B[38;5;129;01min\u001B[39;00m (\u001B[38;5;124m\"\u001B[39m\u001B[38;5;124mpristine\u001B[39m\u001B[38;5;124m\"\u001B[39m, \u001B[38;5;124m\"\u001B[39m\u001B[38;5;124mpolluted\u001B[39m\u001B[38;5;124m\"\u001B[39m)\n\u001B[1;32m     24\u001B[0m }\n",
      "File \u001B[0;32m~/Github/PySDM/examples/PySDM_examples/Collisions/simulation.py:101\u001B[0m, in \u001B[0;36mSimulation.__init__\u001B[0;34m(self, settings, sampling_class, products, scipy_solver)\u001B[0m\n\u001B[1;32m     93\u001B[0m r_wet \u001B[38;5;241m=\u001B[39m equilibrate_wet_radii(\n\u001B[1;32m     94\u001B[0m     r_dry\u001B[38;5;241m=\u001B[39msettings\u001B[38;5;241m.\u001B[39mformulae\u001B[38;5;241m.\u001B[39mtrivia\u001B[38;5;241m.\u001B[39mradius(volume\u001B[38;5;241m=\u001B[39mattributes[\u001B[38;5;124m\"\u001B[39m\u001B[38;5;124mdry volume\u001B[39m\u001B[38;5;124m\"\u001B[39m]),\n\u001B[1;32m     95\u001B[0m     environment\u001B[38;5;241m=\u001B[39menv,\n\u001B[1;32m     96\u001B[0m     kappa_times_dry_volume\u001B[38;5;241m=\u001B[39mattributes[\u001B[38;5;124m\"\u001B[39m\u001B[38;5;124mkappa times dry volume\u001B[39m\u001B[38;5;124m\"\u001B[39m],\n\u001B[1;32m     97\u001B[0m )\n\u001B[1;32m     98\u001B[0m attributes[\u001B[38;5;124m\"\u001B[39m\u001B[38;5;124mvolume\u001B[39m\u001B[38;5;124m\"\u001B[39m] \u001B[38;5;241m=\u001B[39m settings\u001B[38;5;241m.\u001B[39mformulae\u001B[38;5;241m.\u001B[39mtrivia\u001B[38;5;241m.\u001B[39mvolume(radius\u001B[38;5;241m=\u001B[39mr_wet)\n\u001B[1;32m    100\u001B[0m \u001B[38;5;28msuper\u001B[39m()\u001B[38;5;241m.\u001B[39m\u001B[38;5;21m__init__\u001B[39m(\n\u001B[0;32m--> 101\u001B[0m     particulator\u001B[38;5;241m=\u001B[39m\u001B[43mbuilder\u001B[49m\u001B[38;5;241;43m.\u001B[39;49m\u001B[43mbuild\u001B[49m\u001B[43m(\u001B[49m\u001B[43mattributes\u001B[49m\u001B[38;5;241;43m=\u001B[39;49m\u001B[43mattributes\u001B[49m\u001B[43m,\u001B[49m\u001B[43m \u001B[49m\u001B[43mproducts\u001B[49m\u001B[38;5;241;43m=\u001B[39;49m\u001B[43mproducts\u001B[49m\u001B[43m)\u001B[49m\n\u001B[1;32m    102\u001B[0m )\n\u001B[1;32m    103\u001B[0m \u001B[38;5;28;01mif\u001B[39;00m scipy_solver:\n\u001B[1;32m    104\u001B[0m     scipy_ode_condensation_solver\u001B[38;5;241m.\u001B[39mpatch_particulator(\u001B[38;5;28mself\u001B[39m\u001B[38;5;241m.\u001B[39mparticulator)\n",
      "File \u001B[0;32m~/Github/PySDM/PySDM/builder.py:95\u001B[0m, in \u001B[0;36mBuilder.build\u001B[0;34m(self, attributes, products, int_caster)\u001B[0m\n\u001B[1;32m     93\u001B[0m single_buffer_for_all_products \u001B[38;5;241m=\u001B[39m np\u001B[38;5;241m.\u001B[39mempty(\u001B[38;5;28mself\u001B[39m\u001B[38;5;241m.\u001B[39mparticulator\u001B[38;5;241m.\u001B[39mmesh\u001B[38;5;241m.\u001B[39mgrid)\n\u001B[1;32m     94\u001B[0m \u001B[38;5;28;01mfor\u001B[39;00m product \u001B[38;5;129;01min\u001B[39;00m products:\n\u001B[0;32m---> 95\u001B[0m     \u001B[38;5;28;43mself\u001B[39;49m\u001B[38;5;241;43m.\u001B[39;49m\u001B[43mregister_product\u001B[49m\u001B[43m(\u001B[49m\u001B[43mproduct\u001B[49m\u001B[43m,\u001B[49m\u001B[43m \u001B[49m\u001B[43msingle_buffer_for_all_products\u001B[49m\u001B[43m)\u001B[49m\n\u001B[1;32m     97\u001B[0m \u001B[38;5;28;01mfor\u001B[39;00m attribute \u001B[38;5;129;01min\u001B[39;00m attributes:\n\u001B[1;32m     98\u001B[0m     \u001B[38;5;28mself\u001B[39m\u001B[38;5;241m.\u001B[39mrequest_attribute(attribute)\n",
      "File \u001B[0;32m~/Github/PySDM/PySDM/builder.py:59\u001B[0m, in \u001B[0;36mBuilder.register_product\u001B[0;34m(self, product, buffer)\u001B[0m\n\u001B[1;32m     57\u001B[0m     \u001B[38;5;28;01mraise\u001B[39;00m \u001B[38;5;167;01mValueError\u001B[39;00m(\u001B[38;5;124mf\u001B[39m\u001B[38;5;124m'\u001B[39m\u001B[38;5;124mproduct name \u001B[39m\u001B[38;5;124m\"\u001B[39m\u001B[38;5;132;01m{\u001B[39;00mproduct\u001B[38;5;241m.\u001B[39mname\u001B[38;5;132;01m}\u001B[39;00m\u001B[38;5;124m\"\u001B[39m\u001B[38;5;124m already registered\u001B[39m\u001B[38;5;124m'\u001B[39m)\n\u001B[1;32m     58\u001B[0m product\u001B[38;5;241m.\u001B[39mset_buffer(buffer)\n\u001B[0;32m---> 59\u001B[0m \u001B[43mproduct\u001B[49m\u001B[38;5;241;43m.\u001B[39;49m\u001B[43mregister\u001B[49m\u001B[43m(\u001B[49m\u001B[38;5;28;43mself\u001B[39;49m\u001B[43m)\u001B[49m\n\u001B[1;32m     60\u001B[0m \u001B[38;5;28mself\u001B[39m\u001B[38;5;241m.\u001B[39mparticulator\u001B[38;5;241m.\u001B[39mproducts[product\u001B[38;5;241m.\u001B[39mname] \u001B[38;5;241m=\u001B[39m product\n",
      "File \u001B[0;32m~/Github/PySDM/PySDM/products/impl/rate_product.py:16\u001B[0m, in \u001B[0;36mRateProduct.register\u001B[0;34m(self, builder)\u001B[0m\n\u001B[1;32m     14\u001B[0m \u001B[38;5;28;01mdef\u001B[39;00m \u001B[38;5;21mregister\u001B[39m(\u001B[38;5;28mself\u001B[39m, builder):\n\u001B[1;32m     15\u001B[0m     \u001B[38;5;28msuper\u001B[39m()\u001B[38;5;241m.\u001B[39mregister(builder)\n\u001B[0;32m---> 16\u001B[0m     \u001B[38;5;28mself\u001B[39m\u001B[38;5;241m.\u001B[39mcounter \u001B[38;5;241m=\u001B[39m \u001B[38;5;28mgetattr\u001B[39m(\u001B[38;5;28;43mself\u001B[39;49m\u001B[38;5;241;43m.\u001B[39;49m\u001B[43mparticulator\u001B[49m\u001B[38;5;241;43m.\u001B[39;49m\u001B[43mdynamics\u001B[49m\u001B[43m[\u001B[49m\u001B[38;5;28;43mself\u001B[39;49m\u001B[38;5;241;43m.\u001B[39;49m\u001B[43mdynamic\u001B[49m\u001B[43m]\u001B[49m, \u001B[38;5;28mself\u001B[39m\u001B[38;5;241m.\u001B[39mcounter)\n\u001B[1;32m     17\u001B[0m     \u001B[38;5;28mself\u001B[39m\u001B[38;5;241m.\u001B[39mdynamic \u001B[38;5;241m=\u001B[39m \u001B[38;5;28;01mNone\u001B[39;00m\n\u001B[1;32m     18\u001B[0m     \u001B[38;5;28mself\u001B[39m\u001B[38;5;241m.\u001B[39mparticulator\u001B[38;5;241m.\u001B[39mobservers\u001B[38;5;241m.\u001B[39mappend(\u001B[38;5;28mself\u001B[39m)\n",
      "\u001B[0;31mKeyError\u001B[0m: None"
     ]
    }
   ],
   "source": [
    "products=(\n",
    "    ParcelDisplacement(\n",
    "        name='z'),\n",
    "    AmbientRelativeHumidity(\n",
    "        name='S_max', unit='%', var='RH'),\n",
    "    ActivatedParticleConcentration(\n",
    "        name= 'n_act',count_activated=True,count_unactivated=False,stp=True),\n",
    "    MeanVolumeRadius(\n",
    "        name= 'r_vol', count_activated=True,count_unactivated=False),\n",
    "    AreaStandardDeviation(\n",
    "        name='area_std', count_activated=True,count_unactivated=False),\n",
    "    CollisionRatePerGridbox(name=\"collision_rate\"),\n",
    ")\n",
    "\n",
    "vertical_velocity=1*si.m/si.s\n",
    "output = {\n",
    "    case: Simulation(Settings(\n",
    "        dt=1*si.s,\n",
    "        vertical_velocity=vertical_velocity,\n",
    "        n_sd=64,\n",
    "        aerosol=case\n",
    "    ), sampling_class=ConstantMultiplicity, products=products).run()\n",
    "    for case in (\"pristine\", \"polluted\")\n",
    "}\n"
   ]
  },
  {
   "cell_type": "code",
   "execution_count": null,
   "metadata": {
    "ExecuteTime": {
     "start_time": "2023-10-10T10:41:00.360827392Z"
    }
   },
   "outputs": [],
   "source": [
    "# pylint: disable=too-many-arguments\n",
    "def plot_R(ax,output_vol,output_crit_vol,output_z,k):\n",
    "    for drop_id, volume in enumerate(output_vol):\n",
    "        if drop_id%k==0:\n",
    "            if TRIVIA.radius(volume=volume)[10]>0.03*si.um:\n",
    "                crit_volume=output_crit_vol[drop_id]\n",
    "                if np.all(volume<crit_volume):\n",
    "                    ax.plot(\n",
    "                        output_z,\n",
    "                        TRIVIA.radius(volume=volume) / si.um,\n",
    "                        linewidth=0.5,\n",
    "                        color='green'\n",
    "                    )\n",
    "                elif volume[-1]<crit_volume[-1]:\n",
    "                    ax.plot(\n",
    "                        output_z,\n",
    "                        TRIVIA.radius(volume=volume)/ si.um,\n",
    "                        linewidth=0.5,\n",
    "                        color='red'\n",
    "                    )       \n",
    "                else:\n",
    "                    ax.plot(\n",
    "                        output_z,\n",
    "                        TRIVIA.radius(volume=volume) / si.um,\n",
    "                        linewidth=0.5,\n",
    "                        color='blue'\n",
    "                    )\n",
    "\n",
    "def plot_S(ax,output_Seq,output_vol,output_crit_vol,output_z,k):\n",
    "    for drop_id, S_eq in enumerate(output_Seq):\n",
    "        if drop_id%k==0:\n",
    "            volume=output_vol[drop_id]\n",
    "            crit_volume=output_crit_vol[drop_id]\n",
    "            if TRIVIA.radius(volume=volume[10])>0.03*si.um:\n",
    "                if np.all(volume<crit_volume):\n",
    "                    ax.plot(\n",
    "                        output_z,\n",
    "                        (S_eq-1)*100,        \n",
    "                        color='green')\n",
    "                elif volume[-1]<crit_volume[-1]:\n",
    "                    ax.plot(\n",
    "                        output_z,\n",
    "                        (S_eq-1)*100,\n",
    "                        linewidth=0.5,\n",
    "                        color='red')   \n",
    "                else:\n",
    "                    ax.plot(\n",
    "                        output_z,\n",
    "                        (S_eq-1)*100,\n",
    "                        linewidth=0.5,\n",
    "                        color='blue')              \n",
    "                    \n",
    "\n",
    "fig, axs = pyplot.subplots(2, 2, figsize=(13, 7))\n",
    "axS1, axS2, axR1, axR2 = [axs[1,0], axs[1,1], axs[0,0], axs[0,1]]\n",
    "\n",
    "for aerosol, i in ((\"polluted\",0),(\"pristine\",1)):\n",
    "    axs[1,i].plot(output[aerosol]['products']['z'],np.asarray(output[aerosol]['products']['S_max'])-100, color='black')\n",
    "    plot_S(axs[1,i],np.asarray(output[aerosol]['attributes']['equilibrium supersaturation']),np.asarray(output[aerosol]['attributes']['volume']),np.asarray(output[aerosol]['attributes']['critical volume']),np.asarray(output[aerosol]['products']['z']),8)\n",
    "    plot_R(axs[0,i],np.asarray(output[aerosol]['attributes']['volume']),np.asarray(output[aerosol]['attributes']['critical volume']),np.asarray(output[aerosol]['products']['z']),8)\n",
    "\n",
    "axS1_, axS2_, axR1_, axR2_ = [axS1.twinx(),axS2.twinx(),axR1.twinx(),axR2.twinx()]\n",
    "for ax in [axS1, axS1_, axS2, axS2_, axR1, axR1_, axR2, axR2_]:\n",
    "    ax.set_xscale('log')\n",
    "    ax.set_yscale('log')\n",
    "    ax.set_xlim(10, 1000)\n",
    "for ax in [axS1,axS1_,axS2,axS2_]:\n",
    "    ax.set_ylim(0.001, 1)\n",
    "for ax in [axR1,axR1_,axR2,axR2_]:\n",
    "    ax.set_ylim(0.01, 100)\n",
    "for ax in [axR1,axR2]:\n",
    "    ax.set_ylabel('droplet radius [μm]')\n",
    "axR1.set_title(f'adiabatic parcel, POL, w={vertical_velocity} m/s')\n",
    "axR2.set_title(f'adiabatic parcel, PRI, w={vertical_velocity} m/s')\n",
    "for ax in [axS1,axS2]:\n",
    "    ax.set_xlabel('height [m]')\n",
    "    ax.set_ylabel('supersaturation [%]') \n",
    "for ax in [axS1_,axS2_,axR1_,axR2_]:\n",
    "    ax.yaxis.set_major_formatter(ticker.NullFormatter())\n",
    "show_plot(\"fig1\")"
   ]
  },
  {
   "cell_type": "code",
   "execution_count": null,
   "metadata": {
    "ExecuteTime": {
     "end_time": "2023-10-10T10:41:00.372837796Z",
     "start_time": "2023-10-10T10:41:00.365132945Z"
    }
   },
   "outputs": [],
   "source": [
    "fig, axs = pyplot.subplots(3, 2, figsize=(13, 10))\n",
    "axN1,axN2,axR1,axR2,axA1,axA2 = [axs[0,0], axs[0,1], axs[1,0], axs[1,1], axs[2,0], axs[2,1]]\n",
    "\n",
    "for aerosol, i in ((\"polluted\",0),(\"pristine\",1)):\n",
    "    for w in (vertical_velocity,):\n",
    "        r=np.array(output[aerosol]['products']['r_vol'])\n",
    "        n=np.array(output[aerosol]['products']['n_act'])\n",
    "        a=np.array(output[aerosol]['products']['area_std'])/(4*np.pi)\n",
    "        axs[1,i].plot(np.array(output[aerosol]['products']['z']),np.where(r*10**6>2,r*10**6,np.nan))\n",
    "        axs[0,i].plot(np.array(output[aerosol]['products']['z']),np.where(r*10**6>2,n*10**(-6),np.nan))\n",
    "        axs[2,i].plot(np.array(output[aerosol]['products']['z']),np.where(r*10**6>2,a*10**12,np.nan))\n",
    "    axs[1,i].plot(np.array(output[aerosol]['products']['z']),np.where(r*10**6>2,2*np.array(output[aerosol]['products']['z'])**(1/3),np.nan),color='grey',linestyle='--')\n",
    "    axs[2,i].plot(np.array(output[aerosol]['products']['z']),np.where(r*10**6>2,20,np.nan),color='grey',linestyle='--')\n",
    "\n",
    "for ax in [axN1,axN2,axR1,axR2,axA1,axA2]:\n",
    "    ax.set_xlim(10,1000)\n",
    "    ax.set_xscale('log')\n",
    "    #ax.legend(legend)\n",
    "for ax in [axR1,axR2]:\n",
    "    ax.set_ylabel('mean volume radius [μm]')\n",
    "for ax in [axN1,axN2]:\n",
    "    ax.set_ylabel('concentration [cm$^{-3}$ STP]')\n",
    "for ax in [axA1,axA2]:\n",
    "    ax.set_xlabel('height [m]')\n",
    "    ax.set_ylabel(r'area st. dev. / 4$\\pi$ [μm$^2$]')\n",
    "    \n",
    "axN1_, axN2_, axR1_, axR2_, axA1_, axA2_ = [axN1.twinx(),axN2.twinx(),axR1.twinx(),axR2.twinx(),axA1.twinx(),axA2.twinx()]\n",
    "for ax in [axR1,axR2,axR1_,axR2_,axA1,axA2,axA1_,axA2_]:\n",
    "    ax.set_yscale('log')\n",
    "    ax.set_ylim(1,100)\n",
    "for ax in [axN1,axN1_]:\n",
    "    ax.set_ylim(300,600)\n",
    "for ax in [axN2,axN2_]:\n",
    "    ax.set_ylim(0,300)\n",
    "axN1.set_title('POL')\n",
    "axN2.set_title('PRI')\n",
    "for ax in [axN1_,axN2_,axR1_,axR2_,axA1_,axA2_]:\n",
    "    ax.yaxis.set_major_formatter(ticker.NullFormatter())\n",
    "pyplot.show(\"fig3\")"
   ]
  },
  {
   "cell_type": "code",
   "execution_count": null,
   "outputs": [],
   "source": [],
   "metadata": {
    "collapsed": false,
    "ExecuteTime": {
     "start_time": "2023-10-10T10:41:00.369706086Z"
    }
   }
  }
 ],
 "metadata": {
  "kernelspec": {
   "display_name": "Python 3",
   "language": "python",
   "name": "python3"
  },
  "language_info": {
   "codemirror_mode": {
    "name": "ipython",
    "version": 3
   },
   "file_extension": ".py",
   "mimetype": "text/x-python",
   "name": "python",
   "nbconvert_exporter": "python",
   "pygments_lexer": "ipython3",
   "version": "3.10.6"
  },
  "orig_nbformat": 4
 },
 "nbformat": 4,
 "nbformat_minor": 2
}
