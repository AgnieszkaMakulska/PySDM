{
 "cells": [
  {
   "cell_type": "code",
   "execution_count": 1,
   "metadata": {
    "pycharm": {
     "is_executing": false
    }
   },
   "outputs": [],
   "source": [
    "from ipywidgets import FloatProgress, Button, HBox\n",
    "from IPython.display import display\n",
    "from time import sleep\n",
    "    \n",
    "class Controller:\n",
    "    progress = FloatProgress(value=0.0, min=0.0, max=1.0, description=\"%\")\n",
    "    button = Button()\n",
    "    panic = False\n",
    "    thread = None\n",
    "    \n",
    "    def __init__(self, simulation, setup, viewer):\n",
    "        self.target = simulation.run\n",
    "        self.setup = setup\n",
    "        self.viewer = viewer\n",
    "        self._setup_play()\n",
    "        \n",
    "    def __enter__(self):\n",
    "        self.panic = False\n",
    "\n",
    "    def __exit__(self, *_):\n",
    "        self.panic = False\n",
    "        self._setup_play()\n",
    "                \n",
    "    def reinit(self, _=None):\n",
    "        self._setup_play()\n",
    "        self.progress.value = 0\n",
    "            \n",
    "    def box(self):\n",
    "        return HBox([self.progress, self.button])\n",
    "\n",
    "    def set_percent(self, value):\n",
    "        self.progress.value = value\n",
    "        \n",
    "    def _setup_play(self):\n",
    "        self.button.on_click(self._handle_stop, remove=True)\n",
    "        self.button.on_click(self._handle_play)\n",
    "        self.button.icon = 'play'\n",
    "\n",
    "    def _setup_stop(self):\n",
    "        self.button.on_click(self._handle_play, remove=True)\n",
    "        self.button.on_click(self._handle_stop)\n",
    "        self.button.icon = 'stop'\n",
    "\n",
    "    def _handle_stop(self, _):\n",
    "        self.panic = True\n",
    "        while self.panic: sleep(0.1)\n",
    "        self._setup_play()\n",
    "\n",
    "    def _handle_play(self, _):\n",
    "        from threading import Thread\n",
    "        self.thread = Thread(target=self.target, args=(self,))\n",
    "        self.thread.start()\n",
    "        self._setup_stop()\n",
    "        #self.viewer.reinit()"
   ]
  },
  {
   "cell_type": "code",
   "execution_count": 2,
   "metadata": {
    "pycharm": {
     "is_executing": false
    }
   },
   "outputs": [],
   "source": [
    "class Storage:\n",
    "    data = {}\n",
    "    \n",
    "    def reinit(self, _=None):\n",
    "        self.data.clear()\n",
    "    \n",
    "    def save(self, state, step):\n",
    "        self.data[step] = state.copy()"
   ]
  },
  {
   "cell_type": "code",
   "execution_count": 3,
   "metadata": {
    "pycharm": {
     "is_executing": false
    }
   },
   "outputs": [],
   "source": [
    "from ipywidgets import IntSlider\n",
    "\n",
    "class Setup:\n",
    "    nt = IntSlider(value=100,  max=100, description=\"nt\")\n",
    "    nx = IntSlider(value=1000, max=1000, description=\"nx\")\n",
    "    nz = IntSlider(value=1000, max=1000, description=\"nz\")\n",
    "    \n",
    "    def box(self):\n",
    "        return VBox([self.nt, self.nx, self.nz])"
   ]
  },
  {
   "cell_type": "code",
   "execution_count": 4,
   "metadata": {
    "pycharm": {
     "is_executing": false
    }
   },
   "outputs": [],
   "source": [
    "import numpy as np\n",
    "\n",
    "class Simulation:\n",
    "    def __init__(self, setup, storage):\n",
    "        self.setup = setup\n",
    "        self.storage = storage\n",
    "        \n",
    "    def run(self, controller):\n",
    "        self.storage.reinit()\n",
    "        with(controller):\n",
    "            self.state = np.zeros((self.setup.nx.value, self.setup.nz.value))\n",
    "            self.storage.save(self.state, step=0)\n",
    "            for step in range(self.setup.nt.value):\n",
    "                if controller.panic: break \n",
    "                self.state += np.random.rand(self.setup.nx.value, self.setup.nz.value)\n",
    "                self.storage.save(self.state, step=step)\n",
    "                controller.set_percent(float(step+1)/self.setup.nt.value)"
   ]
  },
  {
   "cell_type": "code",
   "execution_count": 5,
   "metadata": {
    "pycharm": {
     "is_executing": false
    }
   },
   "outputs": [],
   "source": [
    "from ipywidgets import VBox, Box, Play, Output, IntSlider, jslink\n",
    "from matplotlib.pyplot import imshow, show, draw, colorbar\n",
    "from IPython.display import clear_output\n",
    "\n",
    "class Viever:\n",
    "    play = Play()\n",
    "    slider = IntSlider()\n",
    "    plot = Output()\n",
    "\n",
    "    def __init__(self, storage, setup):\n",
    "        self.storage = storage\n",
    "        self.setup = setup\n",
    "        self.reinit()\n",
    "    \n",
    "    def reinit(self, _= None):\n",
    "        self.slider.max = setup.nt.value\n",
    "        self.play.max = setup.nt.value\n",
    "        self.play.value = 0\n",
    "        self.slider.value = 0\n",
    "        with self.plot:\n",
    "            clear_output()\n",
    "            self.im = imshow(np.zeros((self.setup.nx.value, self.setup.nz.value)), cmap='GnBu')\n",
    "            self.im.set_clim(vmin=0, vmax=10)\n",
    "            colorbar()\n",
    "            show()\n",
    "            \n",
    "    def replot(self, bunch):\n",
    "        step = bunch.new\n",
    "        with self.plot:\n",
    "            if step in self.storage.data:\n",
    "                self.im.set_data(self.storage.data[step])\n",
    "                clear_output(wait=True)\n",
    "                display(self.im.figure)\n",
    "            else:\n",
    "                clear_output()\n",
    "                print(\"not yet calculated @ step=\" + str(step))\n",
    "    \n",
    "    def box(self):\n",
    "        jslink((self.play, 'value'), (self.slider, 'value'))\n",
    "        self.play.observe(self.replot, 'value')\n",
    "        return VBox([Box([self.play, self.slider]), self.plot])"
   ]
  },
  {
   "cell_type": "code",
   "execution_count": 6,
   "metadata": {
    "pycharm": {
     "is_executing": false
    }
   },
   "outputs": [
    {
     "data": {
      "text/plain": "<Figure size 432x288 with 2 Axes>",
      "image/png": "[encoded data removed]"
     },
     "metadata": {
      "needs_background": "light"
     },
     "output_type": "display_data"
    },
    {
     "data": {
      "text/plain": "Tab(children=(VBox(children=(IntSlider(value=100, description='nt'), IntSlider(value=1000, description='nx', m…",
      "application/vnd.jupyter.widget-view+json": {
       "version_major": 2,
       "version_minor": 0,
       "model_id": "6b961a7f94c14ba6817208ba458c6c95"
      }
     },
     "metadata": {},
     "output_type": "display_data"
    }
   ],
   "source": [
    "from IPython.display import display\n",
    "from ipywidgets import Tab\n",
    "\n",
    "setup = Setup()\n",
    "storage = Storage()\n",
    "simulation = Simulation(setup, storage)\n",
    "viewer = Viever(storage, setup)\n",
    "controller = Controller(simulation, setup, viewer)\n",
    "\n",
    "tabs = Tab([\n",
    "    setup.box(),\n",
    "    VBox([controller.box(), viewer.box()])\n",
    "])\n",
    "tabs.set_title(0, \"Setup\")\n",
    "tabs.set_title(1, \"Simulation\")\n",
    "tabs.observe(viewer.reinit, 'selected_index')\n",
    "tabs.observe(controller.reinit, 'selected_index')\n",
    "tabs.observe(storage.reinit, 'selected_index')\n",
    "display(tabs)\n"
   ]
  },
  {
   "cell_type": "code",
   "execution_count": null,
   "metadata": {},
   "outputs": [],
   "source": []
  },
  {
   "cell_type": "code",
   "execution_count": null,
   "metadata": {},
   "outputs": [],
   "source": []
  }
 ],
 "metadata": {
  "kernelspec": {
   "display_name": "Python 3",
   "language": "python",
   "name": "python3"
  },
  "language_info": {
   "codemirror_mode": {
    "name": "ipython",
    "version": 3
   },
   "file_extension": ".py",
   "mimetype": "text/x-python",
   "name": "python",
   "nbconvert_exporter": "python",
   "pygments_lexer": "ipython3",
   "version": "3.7.2+"
  }
 },
 "nbformat": 4,
 "nbformat_minor": 2
}